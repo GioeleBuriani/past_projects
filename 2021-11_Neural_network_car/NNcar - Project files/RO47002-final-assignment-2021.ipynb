{
 "cells": [
  {
   "cell_type": "markdown",
   "id": "d5955546",
   "metadata": {},
   "source": [
    "# Final Assignment RO47002 - Machine Learning for Robotics 2021/2022\n",
    "\n",
    "Before you start, fill in the cell below your lab group's number and the names of both lab partners.\n",
    "It is also suggested that you carefully read through all provided content before you start adding things.\n",
    "\n",
    "*Note*: as always, basic plagiarism and ethical guidelines apply:\n",
    "* By submitting this notebook, **you both claim that the solution is yours and yours only.**\n",
    "* You are not allowed to share your work with others.\n",
    "* Even after the deadline has passed, do *not* share or upload your solution anywhere (e.g. do not put it on github)."
   ]
  },
  {
   "cell_type": "code",
   "execution_count": 1,
   "id": "b3ab9a3d",
   "metadata": {},
   "outputs": [],
   "source": [
    "GROUP_NUMBER = \"9\"\n",
    "STUDENT_NAME1 = \"Buriani, Gioele\"\n",
    "STUDENT_NUMBER1 = \"5629888\"\n",
    "STUDENT_NAME2 = \"Panichi, Edoardo\"\n",
    "STUDENT_NUMBER2 = \"5630444\""
   ]
  },
  {
   "cell_type": "code",
   "execution_count": 2,
   "id": "d8f97ea6",
   "metadata": {},
   "outputs": [],
   "source": [
    "# Note: this block is a check that you have filled in the above information.\n",
    "# It will throw an AssertionError until all fields are filled\n",
    "assert(GROUP_NUMBER != \"\")\n",
    "assert(STUDENT_NAME1 != \"\")\n",
    "assert(STUDENT_NUMBER1 != \"\")\n",
    "assert(STUDENT_NAME2 != \"\")\n",
    "assert(STUDENT_NUMBER2 != \"\")"
   ]
  },
  {
   "cell_type": "markdown",
   "id": "7c7a819d",
   "metadata": {},
   "source": [
    "---\n",
    "\n",
    "## Introduction\n",
    "We are in the year 2121. The newest sport sensation is solar robot racing. Similar to Formula 1, the races are held on different tracks, however times have changed and those are no longer in different countries but on different planets. The Earth track is well-known for its lush green surroundings, the Mars track for its bright red environment, the Saturn track is instantly recognizable for the brownish soil, and a new race track is currently being built on Neptune, promising a soothing blue background.\n",
    "\n",
    "Like in good old fashioned car racing, no modifications of the car are allowed between races, and in particular the AI cannot be changed. That means we need to develop one single machine learning model that is able to drive on all planets. From past competitions we have data from Earth, Mars, and Saturn (i.e., the 3 datasets provided) but we do not have any data from Neptune yet (i.e., this is a hidden test set), making this season extra challenging. However, we have the possibility to collect more data on 3 planets and can also use test tracks on planets not participating in the competition (i.e., the provided code that allows to collect more data and to change some properties of the environment).\n",
    "\n",
    "As you are just starting out as a solar robot racing AI engineer, you first get the familiarization assignment to train a model solely for Earth before moving on to designing a competition-grade AI.\n",
    "\n",
    "## Robot car AI\n",
    "\n",
    "In this competition, the robot car's actions need to be determined based on only the robot car's last observation (i.e. sensor measurements). More technically: the goal is to create a function $f(observation) \\rightarrow action$, which the robot can continuously apply in a loop on its sensor measurements to determine its next action. This type of function is often called a *policy*.\n",
    "\n",
    "In this assignment, the input and output of the policy function $f$ are defined as:\n",
    "- the input `observation` will be an RGB image (a numpy array) containing a top-down view of the robot's surroundings, including the road ahead.\n",
    "- the output `action` should be an integer out of one of the possible actions (an integer between 0 and 4):\n",
    "    0. Do nothing\n",
    "    1. Accelerate\n",
    "    2. Turn steer left\n",
    "    3. Turn steer right\n",
    "    4. Brake\n",
    "\n",
    "More details will be provided later in the section \"0. Code to get you started\" below.\n",
    "\n",
    "Note that the policy function will completely determine the behavior of the robot.\n",
    "You can think of the robot executing the policy in a never-ending loop (in pseudo-code):\n",
    "```python\n",
    "# Pseudo robot main loop with policy f\n",
    "while True:\n",
    "    observation = read_sensor_measurement()\n",
    "    action = f(observation) # apply the policy\n",
    "    execute_action(action)\n",
    "```\n",
    "In fact, the behavior is already implemented for you in a **simulator**. This means you can test a policy function $f$ by plugging it in the simulator and seeing how your robot car behaves!\n",
    "The simulator also allows us to quantify how well your robot behaved by returning a 'reward' value for each simulation step (a higher reward is better). More details on the rewards will be explained below in Section 0.\n",
    "\n",
    "## Task description: imitation learning\n",
    "\n",
    "These type of tasks, where a robot's policy needs to be optimized to achieve a high expected reward for operating in some environment, is often addressed through *reinforcement learning*. However, in this assigment we will *not* use reinforcement learning techniques, but mainly treat the problem as a **supervised classification task**.\n",
    "The training input (observations) and output (action labels) data will be obtained through demonstrations of humans *manually* controlling the robot car. By training your machine learning models on these demonstrations, you will create an AI which \"imitates\" how a human would drive. This type of supervised machine learning is therefore called *imitation learning*.\n",
    "\n",
    "There are some coding challenges and design choices that you have to solve to use human driving demonstrations as labeled data to create your machine learning models. As before, you will have to think about feature extraction, hyperparemeter optimization, evaluation metrics, comparing models, etc.\n",
    "\n",
    "Once you have trained a classification model, you could define a new policy function which uses your trained model, and test this policy in the simulator. Does your most succesful model also accumulate the most reward in the simulation? Can you make an AI which succesfully drives on known and unknown planets?"
   ]
  },
  {
   "cell_type": "markdown",
   "id": "ef10e769",
   "metadata": {},
   "source": [
    "## Deliverables\n",
    "The deadline is **Sunday October 24th, 2021 at 23:59**. Late submission is –1 grade point per day.\n",
    "\n",
    "* The main deliverable is this Jupyter Notebook, integrating the report (markdown cells) and the code.\n",
    "* Submission is again in the form of a single ZIP file that *includes your notebook, and all files required to run the notebook and reproduce the results*. This includes all used data/demonstrations (including the ones that were provided), any loadable parameter files, any auxiliary scripts, etc.\n",
    "* Name the ZIP file \"**GroupNumber_final_assignment.zip**\", e.g., if you are in group 456, the name would be \"456_final_assignment.zip\".\n",
    "* Unlike previous lab assignments, there are no autograded cells or asserts, but we will grade the notebook manually. Therefore, you are free to add cells as you see fit, as long as the required sections are still present in the notebook.\n",
    "* Make sure that the notebook runs correctly. That is, clear all outputs, restart the kernel and run the notebook from top to bottom. \n",
    "* The notebook needs to be able to run within 20 minutes on a high-end PC, performing all steps (also including training, the only exception is hyperparameter optimization which can be commented out).\n",
    "* In contrast to the practica, please submit the notebook *including* the output (i.e., do not clear the outputs before zipping it up). \n",
    "\n",
    "\n",
    "## Grading Criteria\n",
    "Below you will find an outline of the sections that the notebook needs to contain and what we expect for each part. More specific requirements are listed there as well. The indicated number of points, out of a total of 100, should give you a rough indication of how much effort to put into each part.\n",
    "\n",
    "In general, we will not focus as much on the performance of the method you design, but rather the _level of understanding and argumentation about your design choices_. So, we are not only interested in WHAT you did, but will put a strong emphasis on your reasoning about the WHY. Try to synthesize rather than describing what you did step by step.\n",
    "\n",
    "### Quality of the report (20 points)\n",
    "- Structure & Readability\n",
    " - Logical flow\n",
    " - Connection between parts\n",
    "- Academic English\n",
    " - Do not use short forms, like \"isn't\", \"wouldn't\".\n",
    " - Do not use colloquial style, like \"a couple of\".\n",
    " - Spell check and proofread your report.\n",
    "- Level of detail\n",
    " - Strive for elegant, concise text - longer reports do not necessarily yield higher grades.\n",
    " - There is no need to re-explain theory. Assume that the target audience of the report has followed the course.\n",
    "- Figures & Tables\n",
    " - Choose figures/plots/tables carefully. Only include those that add to the story of the report. Do not put the burden on the reviewer to figure out which results you basing your conclusions on, but specifically refer (parts of) the specific table/plot/figure when needed.\n",
    " - When comparing two or more signals display them in one plot. Explain the colors / line types. The scale of the plots must be carefully chosen in order to clearly convey the information intended. Label the axes in graphs properly (variables and units).\n",
    "- Citations\n",
    " - If you use images, theory and methods beyond what was covered in the course, etc., always reference sources.\n",
    "\n",
    "\n",
    "### Your implementations and answers (80 points)\n",
    "\n",
    "The remainder of this notebook follows the following structure:\n",
    "\n",
    "0. Code to get you starte (0 points, *nothing for you to do here*)\n",
    "1. Explore & Inspect the Data (5 points)\n",
    "2. Prepare the Data and Evaluate Features (15 points)\n",
    "3. Single Planet Action Classification  (35 points)\n",
    "4. Enabling Generalization (20 points)\n",
    "\n",
    "Apart from section 0, you will have to implement and answer questions for all of the other 4 sections to earn points. *For each of these 4 sections, we have various questions or implementation tasks that your submission should address. These are listed in the cells at the end of this notebook.*\n",
    "\n",
    "Note that there is not one best answer to these questions, and the task could be addressed in different ways. We want to know *your* motivation for *your* selected approach."
   ]
  },
  {
   "cell_type": "markdown",
   "id": "7bf01613",
   "metadata": {},
   "source": [
    "---\n",
    "\n",
    "# 0. Code to get you started\n",
    "\n",
    "Note, you will not have to implement anything in this section, but you are free to play around with what is provided here, or copy parts to new cells in your solutions."
   ]
  },
  {
   "cell_type": "code",
   "execution_count": 3,
   "id": "192dd7ba",
   "metadata": {},
   "outputs": [],
   "source": [
    "import pickle\n",
    "import numpy as np\n",
    "import matplotlib.pyplot as plt\n",
    "\n",
    "import cv2 # you are allowed to use functions from cv2\n",
    "import glob\n",
    "\n",
    "# import the simualtion environment\n",
    "import car_racing_ro47002 as cr"
   ]
  },
  {
   "cell_type": "markdown",
   "id": "d1127d2d",
   "metadata": {},
   "source": [
    "First, we explore the available planets. The code below generates an image from the 3 planets. You do not need to understand how this code works, but it should help you understand the context of what we are doing.\n",
    "Note that the images also include your robot car, and the road ahead."
   ]
  },
  {
   "cell_type": "code",
   "execution_count": 4,
   "id": "d2a595ae",
   "metadata": {},
   "outputs": [
    {
     "data": {
      "application/vnd.jupyter.widget-view+json": {
       "model_id": "fffbb835192547a0be67370f03504e82",
       "version_major": 2,
       "version_minor": 0
      },
      "text/plain": [
       "interactive(children=(IntSlider(value=1, description='planet_id', max=2), Output()), _dom_classes=('widget-int…"
      ]
     },
     "metadata": {},
     "output_type": "display_data"
    }
   ],
   "source": [
    "import ipywidgets\n",
    "from IPython.display import display\n",
    "\n",
    "# Show screenshot of a sampled environment\n",
    "def plot_planet_example(planet_id):\n",
    "    planet = cr.PLANETS[planet_id]\n",
    "    env = cr.CarRacing(planet)\n",
    "    env.seed(10)\n",
    "    env.reset()\n",
    "    plt.imshow(env.render(mode='rgb_array'))\n",
    "    plt.title(f'Planet {planet_id}')\n",
    "    env.close()\n",
    "\n",
    "ipywidgets.interactive(plot_planet_example, planet_id=(0,2))"
   ]
  },
  {
   "cell_type": "markdown",
   "id": "7ed13a94",
   "metadata": {},
   "source": [
    "## Loading pre-recorded human demonstrations\n",
    "\n",
    "You are provided several pre-recorded demonstrations of a human *manually controlling* the robot car on several tracks on several planets.\n",
    "**You can use this data to train a classifier that you can use to implement one or more better policies, which should (ideally) perform similar to how a human would control the robot car.**\n",
    "\n",
    "Each provided demonstration ...\n",
    "* ... contains a sequence of 1000 (observation, action) pairs ...\n",
    "* ... recorded at a specic planet and track, ...\n",
    "* ... for convenience, also contains (1000 dimensional) arrays containing the fixed planet's and track's id of these input/output pair.\n",
    "\n",
    "A demonstration is stored as a python pickle file.\n",
    "The code below shows how to load the saved demonstrations, and to do some simple pre-processing."
   ]
  },
  {
   "cell_type": "code",
   "execution_count": 5,
   "id": "e11bb94b",
   "metadata": {
    "scrolled": true
   },
   "outputs": [
    {
     "name": "stdout",
     "output_type": "stream",
     "text": [
      "Found 14 demonstrations\n",
      "Loaded 1000 samples from demonstrations\\demo-0-0-20211012_155840.pickle ...\n",
      "Loaded 1000 samples from demonstrations\\demo-0-1-20211012_160607.pickle ...\n",
      "Loaded 1000 samples from demonstrations\\demo-0-2-20211012_161107.pickle ...\n",
      "Loaded 1000 samples from demonstrations\\demo-0-3-20211012_161203.pickle ...\n",
      "Loaded 1000 samples from demonstrations\\demo-0-4-20211012_161237.pickle ...\n",
      "Loaded 1000 samples from demonstrations\\demo-0-5-20211012_161457.pickle ...\n",
      "Loaded 1000 samples from demonstrations\\demo-0-6-20211012_161843.pickle ...\n",
      "Loaded 1000 samples from demonstrations\\demo-0-7-20211012_161923.pickle ...\n",
      "Loaded 1000 samples from demonstrations\\demo-0-8-20211012_162117.pickle ...\n",
      "Loaded 1000 samples from demonstrations\\demo-0-9-20211012_162157.pickle ...\n",
      "Loaded 1000 samples from demonstrations\\demo-1-10-20211012_170226.pickle ...\n",
      "Loaded 1000 samples from demonstrations\\demo-1-11-20211012_171117.pickle ...\n",
      "Loaded 1000 samples from demonstrations\\demo-2-12-20211012_171400.pickle ...\n",
      "Loaded 1000 samples from demonstrations\\demo-2-13-20211012_171617.pickle ...\n"
     ]
    }
   ],
   "source": [
    "# Look for all the demonstration pickle files in the demonstrations/ directory.\n",
    "#  The originally provided demo files are called: demo-[planet_id]-[track_id]-[datetime].pickle\n",
    "#  Any demo files you record yourself are called: demostud-[planet_id]-[track_id]-[datetime].pickle\n",
    "\n",
    "# CHANGE THIS IF NEEDED: select the pickle file pattern to match ...\n",
    "\n",
    "#DEMO_FILEPATTERN = 'demo-*-*.pickle'      # only use ORIGINALLY provided demo files\n",
    "#DEMO_FILEPATTERN = 'demostud-*-*.pickle'  # only use YOUR own collected demo files\n",
    "DEMO_FILEPATTERN = 'demo*-*.pickle'       # use ALL available demo files\n",
    "\n",
    "# find the relevant filenames\n",
    "filenames = glob.glob(f'demonstrations/{DEMO_FILEPATTERN}')\n",
    "filenames.sort() # ensure the order is well-defined\n",
    "print(f'Found {len(filenames)} demonstrations')\n",
    "\n",
    "# in a loop, load the found pickle files\n",
    "demonstrations = []\n",
    "for filename in filenames:\n",
    "    with open(filename, 'rb') as fd:\n",
    "        demonstration = pickle.load(fd)\n",
    "        \n",
    "        actions = demonstration['actions']\n",
    "        print(f'Loaded {actions.shape[0]} samples from {filename} ...')\n",
    "        \n",
    "        demonstrations.append(demonstration)"
   ]
  },
  {
   "cell_type": "code",
   "execution_count": 6,
   "id": "388fd5e8",
   "metadata": {},
   "outputs": [],
   "source": [
    "# we can combine all the observations, actions, planet and track ids\n",
    "observations = np.concatenate([d['observations'] for d in demonstrations])\n",
    "actions = np.concatenate([d['actions'] for d in demonstrations])\n",
    "planet_ids = np.concatenate([d['planets'] for d in demonstrations])\n",
    "track_ids = np.concatenate([d['tracks'] for d in demonstrations])\n",
    "\n",
    "# pre-processing: subsample and only keep every n-th sample for efficiency\n",
    "# this can speed up training\n",
    "ss = 10\n",
    "observations = observations[::ss]\n",
    "actions = actions[::ss]\n",
    "planet_ids = planet_ids[::ss]\n",
    "track_ids = track_ids[::ss]"
   ]
  },
  {
   "cell_type": "markdown",
   "id": "bb5c823a",
   "metadata": {},
   "source": [
    "## Understanding the data\n",
    "\n",
    "We here take a closer look at format of the demonstration data. The observations (input) are RGB images. The actions (target class labels) are integers."
   ]
  },
  {
   "cell_type": "code",
   "execution_count": 7,
   "id": "656bccb6",
   "metadata": {},
   "outputs": [
    {
     "name": "stdout",
     "output_type": "stream",
     "text": [
      "The data consists of 1400 (observation, action) pairs:\n",
      "- observations : a (1400, 96, 96, 3) numpy int8 array, i-th entry contains RGB image of sample i\n",
      "- actions      : a (1400,) numpy int array, i-th entry contains action (class) label of sample i\n",
      "- planet_ids   : a (1400,) numpy int array, i-th entry contains the planet_id of sample i\n",
      "- track_ids    : a (1400,) numpy int array, i-th entry contains the track_id of sample i\n"
     ]
    }
   ],
   "source": [
    "# count the total number of observations\n",
    "N = observations.shape[0]\n",
    "\n",
    "print(f'The data consists of {N} (observation, action) pairs:')\n",
    "print(f'- observations : a {observations.shape} numpy int8 array, i-th entry contains RGB image of sample i')\n",
    "print(f'- actions      : a {actions.shape} numpy int array, i-th entry contains action (class) label of sample i')\n",
    "print(f'- planet_ids   : a {planet_ids.shape} numpy int array, i-th entry contains the planet_id of sample i')\n",
    "print(f'- track_ids    : a {track_ids.shape} numpy int array, i-th entry contains the track_id of sample i')"
   ]
  },
  {
   "cell_type": "markdown",
   "id": "f121026e",
   "metadata": {},
   "source": [
    "We can inspect inspect a single sample in the recorded data:"
   ]
  },
  {
   "cell_type": "code",
   "execution_count": 8,
   "id": "db3a2b2e",
   "metadata": {
    "scrolled": false
   },
   "outputs": [
    {
     "name": "stdout",
     "output_type": "stream",
     "text": [
      "Action of sample 0:                     1\n",
      "Planet id where sample 0 was recorded:  0\n",
      "Track id where sample 0 was recorded:   0\n"
     ]
    },
    {
     "data": {
      "image/png": "[encoded data removed]",
      "text/plain": [
       "<Figure size 432x288 with 1 Axes>"
      ]
     },
     "metadata": {
      "needs_background": "light"
     },
     "output_type": "display_data"
    }
   ],
   "source": [
    "idx = 0 # sample index, should be in range [0, N-1]\n",
    "\n",
    "print(f'Action of sample {idx}:                    ', actions[idx])\n",
    "print(f'Planet id where sample {idx} was recorded: ', planet_ids[idx])\n",
    "print(f'Track id where sample {idx} was recorded:  ', track_ids[idx])\n",
    "\n",
    "plt.imshow(observations[idx])\n",
    "plt.title(f'Observation of sample {idx}');"
   ]
  },
  {
   "cell_type": "markdown",
   "id": "eff18b10",
   "metadata": {},
   "source": [
    "Note that the observation is just a low-resolution image of the simulated environment.\n",
    "\n",
    "An action (label) is simply an integer. The five possible action values are:"
   ]
  },
  {
   "cell_type": "code",
   "execution_count": 9,
   "id": "3021679b",
   "metadata": {},
   "outputs": [],
   "source": [
    "ACTION_NOOP = 0  # NO-OPeration, i.e. do not steer, accelerate or brake\n",
    "ACTION_ACCEL = 1 # Accelerate\n",
    "ACTION_LEFT = 2  # Steer left\n",
    "ACTION_RIGHT = 3 # Steer right\n",
    "ACTION_BRAKE = 4 # Brake, deaccelerate"
   ]
  },
  {
   "cell_type": "markdown",
   "id": "82908e5a",
   "metadata": {},
   "source": [
    "You can use the demonstration data to train and validate your machine learning methods.\n",
    "Of course, you would first need to define some feature extraction procedure(s) to convert the observations into some suitable feature vectors for your machine learning techniques."
   ]
  },
  {
   "cell_type": "markdown",
   "id": "a9eb2415",
   "metadata": {},
   "source": [
    "## Testing your model in  the simulator\n",
    "\n",
    "\n",
    "At some point, *after you have trained and evaluated your classifier*, you might want to check how well your classification method can actually control the robot car. For this, you will need to wrap your trained classifier into a policy function that the simulator can use.\n",
    "\n",
    "This section will go over the details of\n",
    "* how to start the simulator;\n",
    "* how to implement a policy $f$;\n",
    "* how to analyse the rewards.\n",
    "\n",
    "\n",
    "### Running a simulation\n",
    "\n",
    "The function `run_simulation` below will setup a simulation of your robot on a given planet (`planet_id`) and track (`track_id`), and will use the policy `f` you provide to control the robot, for a maximum of `iterations` simulation steps. The simulation function can also show you the simulation in a popup-window (set `render=True`), or record all the (observation, actions) pairs (`record_data=True`).\n",
    "\n",
    "The function signature of run_simulation is:\n",
    "```\n",
    "rewards = run_simulation(f, iterations=500, planet_id=0, track_id=0, verbose=False, render=False, record_data=False, delay=0.0)\n",
    "    Run robot car simulation\n",
    "    Input arguments:\n",
    "    - f             # [function] the robot's policy function\n",
    "    - record_data   # [True/False] if true, return all (observation, action) pairs from the simulation \n",
    "    - planet_id     # [int] select the target planet (0=Earth, 1=Mars, 2=Saturn, 3=Neptune)\n",
    "    - track_id      # [int] select the target track on that planet (0, 1, 2, etc.)\n",
    "    - iterations    # [int] the maximum number of iterations N to run the simulation\n",
    "    - render        # [True/False] show the scene in a popup window (can be a bit slower)\n",
    "    - delay         # [float] a time delay that can be added to make the simulation run a bit slower\n",
    "    \n",
    "    Returns:\n",
    "    - rewards       # [numpy array of floats] all N rewards accumulated during the simulation\n",
    "    - observations  # [numpy array N x H x W x 3] N observations, each observation being a WxH 3-channel image\n",
    "    - actions       # [numpy array of ints] all N actions outputted by the given policy f\n",
    "    \n",
    "    Note: `observations` and `actions` are only returned if record_data=True\n",
    "```\n"
   ]
  },
  {
   "cell_type": "code",
   "execution_count": 10,
   "id": "23f56f40",
   "metadata": {},
   "outputs": [],
   "source": [
    "# user key input handler\n",
    "from pyglet.window import key\n",
    "import time\n",
    "\n",
    "# keep track if which keys have been pressed in the popup window\n",
    "# (will be used later for the human driver)\n",
    "KEY_PRESSED = {key.LEFT: False, key.RIGHT: False, key.UP: False, key.DOWN: False}\n",
    "\n",
    "def key_press(k, mod):\n",
    "    global STOP_SIMULATION, KEY_PRESSED\n",
    "    if k==key.ESCAPE: STOP_SIMULATION = True # set 'quit' flag if ESCAPE key is pressed\n",
    "    KEY_PRESSED[k] = True\n",
    "\n",
    "def key_release(k, mod):\n",
    "    global KEY_PRESSED\n",
    "    KEY_PRESSED[k] = False\n",
    "\n",
    "# define the set of all actions    \n",
    "ACTIONS = [0, 1, 2, 3, 4]\n",
    "ACTION_NAMES = ['noop', 'accel', 'left', 'right', 'brake']\n",
    "NUM_ACTIONS = 5 # number of distinct actions\n",
    "\n",
    "# A lookup table to convert the action class to an actual control input for the simulator (steer, accel, brake)\n",
    "ACTIONS_TO_CONTROL_INPUT = np.array([\n",
    "    [ 0,  0,  0   ], # 0 = do nothing\n",
    "    [ 0,  1,  0   ], # 1 = accelerate\n",
    "    [-1,  0,  0   ], # 2 = steer left\n",
    "    [ 1,  0,  0   ], # 3 = steer right\n",
    "    [ 0,  0,  0.25], # 4 = brake\n",
    "])\n",
    "\n",
    "def run_simulation(f, iterations=500, planet_id=0, track_id=0, verbose=False, render=False, record_data=False, delay=0.0):\n",
    "    \"\"\" Run robot car simulation\n",
    "    Input arguments:\n",
    "    - f             # [function] the robot's policy function\n",
    "    - record_data   # [True/False] if true, return all (observation, action) pairs from the simulation\n",
    "    - planet_id     # [int] select the target planet (0=Earth, 1=Mars, 2=Saturn, 3=Neptune)\n",
    "    - track_id      # [int] select the target track on that planet (0, 1, 2, etc.)\n",
    "    - iterations    # [int] the maximum number of iterations N to run the simulation\n",
    "    - render        # [True/False] show the scene in a popup window (can be a bit slower)\n",
    "    - delay         # [float] a time delay that can be added to make the simulation run a bit slower\n",
    "    \n",
    "    Returns:\n",
    "    - rewards       # [numpy array of floats] all N rewards accumulated during the simulation\n",
    "    - observations  # [numpy array N x H x W x 3] N observations, each observation being a WxH 3-channel image\n",
    "    - actions       # [numpy array of ints] all N actions outputted by the given policy f\n",
    "    \n",
    "    Note: `observations` and `actions` are only returned if record_data=True\n",
    "    \"\"\"\n",
    "    \n",
    "    print(f'Starting simulation for {iterations} iterations.')\n",
    "    print('*** Press ESC key in popup window to stop the simulation! ***')\n",
    "    print()\n",
    "\n",
    "    # create a simulation environment on the given planet\n",
    "    planet = cr.PLANETS[planet_id]\n",
    "    env = cr.CarRacing(planet)\n",
    "    env.seed(track_id+planet_id*1455312) # set environment track generation seed based on planet_id and track_id\n",
    "\n",
    "    rewards = [] # will store the accumulated rewards\n",
    "    observations = [] # will store the accumulated observations (only if record_data==True)\n",
    "    actions = [] # will store the accumulated actions outputted by policy f (only if record_data==True)\n",
    "    \n",
    "    # reset KEY_PRESSED state at start of simulation\n",
    "    global KEY_PRESSED\n",
    "    KEY_PRESSED = {key.LEFT: False, key.RIGHT: False, key.UP: False, key.DOWN: False}\n",
    "    \n",
    "    # the STOP_SIMULATION flag will be set to True if user wants to interrupt the simulation\n",
    "    global STOP_SIMULATION\n",
    "    STOP_SIMULATION = False\n",
    "    completed_iterations = 0\n",
    "    \n",
    "    try:\n",
    "        # reset the simulation, and get the initial observation (robot \"sensor measurement\")\n",
    "        observation = env.reset()\n",
    "        \n",
    "        # ensure we can listen to user input in the popup window (e.g. to quit when pressing ESCAPE)\n",
    "        env.viewer.window.on_key_press = key_press\n",
    "        env.viewer.window.on_key_release = key_release\n",
    "        \n",
    "        # main simulation loop\n",
    "        for itr in range(iterations):\n",
    "            time.sleep(delay)\n",
    "            if STOP_SIMULATION: break\n",
    "                \n",
    "            # ** APPLYING YOUR POLICY **\n",
    "            # execute the given policy on the observation to determine the robot's action\n",
    "            action = f(observation)\n",
    "            \n",
    "            # sanity check: is the policy implemented correctly?\n",
    "            assert (isinstance(action, (int, np.integer))) # returned action should be a builtin or numpy integer\n",
    "            assert (action in ACTIONS) # action should be an integer 0, 1, 2, 3 or 4\n",
    "\n",
    "            # hard coded that for the first few iterations, the robot will always accelerate,\n",
    "            #   to avoid a poor policy from not moving the robot at all\n",
    "            if itr < 4: action = 1 # action 1 is accelerate\n",
    "            \n",
    "            if verbose:\n",
    "                print(f'iteration {itr}: action = {ACTION_NAMES[action]}')\n",
    "\n",
    "            if record_data:\n",
    "                # only store all the observation and action pairs during the simulation\n",
    "                #   if the record_data argument is set to True\n",
    "                observations.append(observation)\n",
    "                actions.append(action)\n",
    "            \n",
    "            # ** EXECUTE ACTION ON ROBOT & GET OBSERVATION FOR NEXT TIME STEP **\n",
    "            ctrl_input = ACTIONS_TO_CONTROL_INPUT[action] \n",
    "\n",
    "            # execute simulation step with the given control input\n",
    "            observation, reward, environment_done, info = env.step(ctrl_input)\n",
    "            completed_iterations += 1\n",
    "            \n",
    "            if verbose:\n",
    "                print(f'iteration {itr}: reward = {reward}')\n",
    "\n",
    "            if render:\n",
    "                # update pop-window visualization\n",
    "                env.render()\n",
    "\n",
    "            # collect all rewards in a list\n",
    "            rewards.append(reward)\n",
    "    finally:\n",
    "        # make sure we always close the pop-up window,\n",
    "        # even if some exception is thrown during the main loop\n",
    "        env.close()\n",
    "        \n",
    "    rewards = np.array(rewards)\n",
    "    total_reward = np.sum(rewards)\n",
    "    \n",
    "    print(f'total reward after {completed_iterations} iterations: {total_reward}')\n",
    "    print(f'average reward: {total_reward/completed_iterations}')\n",
    "    \n",
    "    if record_data:\n",
    "        return rewards, np.array(observations), np.array(actions, dtype=int)\n",
    "        \n",
    "    # by default, only return the rewards\n",
    "\n",
    "    return rewards"
   ]
  },
  {
   "cell_type": "markdown",
   "id": "239132f0",
   "metadata": {},
   "source": [
    "### Implementing a policy\n",
    "\n",
    "For the simulator, a policy $f(observation) \\rightarrow action$ should be implemented as a plain python function which takes a numpy array as input (the observation) and returns an integer (the action).\n",
    "So generally, a policy implementation would look like this:\n",
    "\n",
    "```python\n",
    "\n",
    "def f(observation):    \n",
    "    # Input: observation, a H x W x 3 numpy array containing an RGB image of the surroundings\n",
    "    # Output: action,     an integer representing the action (0 = NOOP, ... 5 = Brake)\n",
    "    # N.B.: actions is just an int, NOT a numpy array\n",
    "    \n",
    "    # YOUR CODE\n",
    "    #   convert observation to feature vector\n",
    "    #   predict action class given the feature vector using some ML technique\n",
    "    \n",
    "    return action\n",
    "```\n",
    "*Of course, don't name you policy just `f`, but give it some more descriptive name!*\n",
    "\n",
    "To illustrate, here is a dummy policy which just picks a random actions (without actually looking at the observation)."
   ]
  },
  {
   "cell_type": "code",
   "execution_count": 11,
   "id": "91446514",
   "metadata": {},
   "outputs": [],
   "source": [
    "# a dummy policy\n",
    "def f_dummy(observation):\n",
    "    \"\"\" Dummy policy function, which just returns random action. \"\"\"\n",
    "    \n",
    "    # in this dummy policy, we ignore the observation and just select a random action\n",
    "    action = np.random.randint(0, NUM_ACTIONS)\n",
    "    \n",
    "    print(f'Received observation: {observation.shape} numpy array of type {observation.dtype}, returning action {action}')\n",
    "    return action"
   ]
  },
  {
   "cell_type": "markdown",
   "id": "4667f5a1",
   "metadata": {},
   "source": [
    "We can confirm that the policy returns a valid action label:"
   ]
  },
  {
   "cell_type": "code",
   "execution_count": 12,
   "id": "ad47b72f",
   "metadata": {},
   "outputs": [
    {
     "name": "stdout",
     "output_type": "stream",
     "text": [
      "Received observation: (96, 96, 3) numpy array of type uint8, returning action 1\n"
     ]
    }
   ],
   "source": [
    "action = f_dummy(observations[0])\n",
    "\n",
    "# returned action should be a builtin int or a numpy integer (NOT a numpy array) in the range [0, 4]\n",
    "assert (isinstance(action, (int, np.integer)))\n",
    "assert (action in ACTIONS) # ACTIONS is the set of possible action labels, [0,1,2,3,4]"
   ]
  },
  {
   "cell_type": "markdown",
   "id": "92ab36b3",
   "metadata": {},
   "source": [
    "### Reward\n",
    "\n",
    "To quantify how well a policy is working, the simulator will return the *rewards* that the robot car collected at each simulation step. The rewards determine how well you are doing in a race, and are based on the number of  segments of the track that the robot racer passes:\n",
    "\n",
    "* Everytime a new segments of the track is touched by your robot car, your robot receives a positive reward. You can see this in the visualization when a road segments's color changes to a lighter gray.\n",
    "* The robot car also get a tiny *negative* reward in each time step, as a penalty for spending time.\n",
    "* When the robot car goes off the track, it will not touch any new track segments and thus only collects negative rewards, but also the friction changes which makes the robot car more difficult to control.\n",
    "\n",
    "Overall, the goal is to cover as much of the race track as possible in the given number of simulation iterations. So, your robot car should go as fast as possible while staying on the track!"
   ]
  },
  {
   "cell_type": "markdown",
   "id": "f908609e",
   "metadata": {},
   "source": [
    "### Illustration of running the simulator with the dummy policy\n",
    "\n",
    "Let's try to run the simulation with the dummy policy, and render the output in the popup-window for the default number of iterations."
   ]
  },
  {
   "cell_type": "code",
   "execution_count": 13,
   "id": "20d825fb",
   "metadata": {
    "scrolled": true
   },
   "outputs": [
    {
     "name": "stdout",
     "output_type": "stream",
     "text": [
      "Starting simulation for 500 iterations.\n",
      "*** Press ESC key in popup window to stop the simulation! ***\n",
      "\n",
      "Track generation: 1383..1731 -> 348-tiles track\n",
      "Received observation: (96, 96, 3) numpy array of type uint8, returning action 4\n",
      "Received observation: (96, 96, 3) numpy array of type uint8, returning action 0\n",
      "Received observation: (96, 96, 3) numpy array of type uint8, returning action 0\n",
      "Received observation: (96, 96, 3) numpy array of type uint8, returning action 2\n",
      "Received observation: (96, 96, 3) numpy array of type uint8, returning action 3\n",
      "Received observation: (96, 96, 3) numpy array of type uint8, returning action 1\n",
      "Received observation: (96, 96, 3) numpy array of type uint8, returning action 1\n",
      "Received observation: (96, 96, 3) numpy array of type uint8, returning action 4\n",
      "Received observation: (96, 96, 3) numpy array of type uint8, returning action 3\n",
      "Received observation: (96, 96, 3) numpy array of type uint8, returning action 4\n",
      "Received observation: (96, 96, 3) numpy array of type uint8, returning action 1\n",
      "Received observation: (96, 96, 3) numpy array of type uint8, returning action 3\n",
      "Received observation: (96, 96, 3) numpy array of type uint8, returning action 4\n",
      "Received observation: (96, 96, 3) numpy array of type uint8, returning action 3\n",
      "Received observation: (96, 96, 3) numpy array of type uint8, returning action 2\n",
      "Received observation: (96, 96, 3) numpy array of type uint8, returning action 3\n",
      "Received observation: (96, 96, 3) numpy array of type uint8, returning action 3\n",
      "Received observation: (96, 96, 3) numpy array of type uint8, returning action 1\n",
      "Received observation: (96, 96, 3) numpy array of type uint8, returning action 1\n",
      "Received observation: (96, 96, 3) numpy array of type uint8, returning action 3\n",
      "Received observation: (96, 96, 3) numpy array of type uint8, returning action 2\n",
      "Received observation: (96, 96, 3) numpy array of type uint8, returning action 1\n",
      "Received observation: (96, 96, 3) numpy array of type uint8, returning action 1\n",
      "Received observation: (96, 96, 3) numpy array of type uint8, returning action 3\n",
      "Received observation: (96, 96, 3) numpy array of type uint8, returning action 0\n",
      "Received observation: (96, 96, 3) numpy array of type uint8, returning action 4\n",
      "Received observation: (96, 96, 3) numpy array of type uint8, returning action 4\n",
      "Received observation: (96, 96, 3) numpy array of type uint8, returning action 3\n",
      "Received observation: (96, 96, 3) numpy array of type uint8, returning action 1\n",
      "Received observation: (96, 96, 3) numpy array of type uint8, returning action 0\n",
      "Received observation: (96, 96, 3) numpy array of type uint8, returning action 2\n",
      "Received observation: (96, 96, 3) numpy array of type uint8, returning action 0\n",
      "Received observation: (96, 96, 3) numpy array of type uint8, returning action 2\n",
      "Received observation: (96, 96, 3) numpy array of type uint8, returning action 1\n",
      "Received observation: (96, 96, 3) numpy array of type uint8, returning action 4\n",
      "Received observation: (96, 96, 3) numpy array of type uint8, returning action 4\n",
      "Received observation: (96, 96, 3) numpy array of type uint8, returning action 1\n",
      "Received observation: (96, 96, 3) numpy array of type uint8, returning action 4\n",
      "Received observation: (96, 96, 3) numpy array of type uint8, returning action 1\n",
      "Received observation: (96, 96, 3) numpy array of type uint8, returning action 4\n",
      "Received observation: (96, 96, 3) numpy array of type uint8, returning action 3\n",
      "Received observation: (96, 96, 3) numpy array of type uint8, returning action 4\n",
      "Received observation: (96, 96, 3) numpy array of type uint8, returning action 1\n",
      "Received observation: (96, 96, 3) numpy array of type uint8, returning action 0\n",
      "Received observation: (96, 96, 3) numpy array of type uint8, returning action 0\n",
      "Received observation: (96, 96, 3) numpy array of type uint8, returning action 3\n",
      "Received observation: (96, 96, 3) numpy array of type uint8, returning action 2\n",
      "Received observation: (96, 96, 3) numpy array of type uint8, returning action 4\n",
      "Received observation: (96, 96, 3) numpy array of type uint8, returning action 3\n",
      "Received observation: (96, 96, 3) numpy array of type uint8, returning action 2\n",
      "Received observation: (96, 96, 3) numpy array of type uint8, returning action 3\n",
      "Received observation: (96, 96, 3) numpy array of type uint8, returning action 2\n",
      "Received observation: (96, 96, 3) numpy array of type uint8, returning action 1\n",
      "Received observation: (96, 96, 3) numpy array of type uint8, returning action 4\n",
      "Received observation: (96, 96, 3) numpy array of type uint8, returning action 2\n",
      "Received observation: (96, 96, 3) numpy array of type uint8, returning action 3\n",
      "Received observation: (96, 96, 3) numpy array of type uint8, returning action 0\n",
      "Received observation: (96, 96, 3) numpy array of type uint8, returning action 2\n",
      "Received observation: (96, 96, 3) numpy array of type uint8, returning action 2\n",
      "Received observation: (96, 96, 3) numpy array of type uint8, returning action 4\n",
      "Received observation: (96, 96, 3) numpy array of type uint8, returning action 4\n",
      "Received observation: (96, 96, 3) numpy array of type uint8, returning action 0\n",
      "Received observation: (96, 96, 3) numpy array of type uint8, returning action 0\n",
      "Received observation: (96, 96, 3) numpy array of type uint8, returning action 4\n",
      "total reward after 64 iterations: 5.127377521613851\n",
      "average reward: 0.08011527377521642\n"
     ]
    }
   ],
   "source": [
    "# running the simulation with the dummy policy\n",
    "rs = run_simulation(f_dummy, render=1, planet_id=0, track_id=0)"
   ]
  },
  {
   "cell_type": "markdown",
   "id": "0918c2c8",
   "metadata": {},
   "source": [
    "Clearly, this policy doesn't do anything particularly useful, and should make the robot car just slowly move forward. This policy will touch only few road segments, and therefore collect little positive reward.\n",
    "Let's visulize the rewards that the robot collected during the simulation.\n",
    "\n",
    "The first plot below shows when new parts of the track are reached and a large reward is collected. The second plot shows the total/cumulative reward."
   ]
  },
  {
   "cell_type": "code",
   "execution_count": 14,
   "id": "760569cd",
   "metadata": {
    "scrolled": true
   },
   "outputs": [
    {
     "name": "stdout",
     "output_type": "stream",
     "text": [
      "Average reward: 0.08011527377521642\n"
     ]
    },
    {
     "data": {
      "image/png": "[encoded data removed]",
      "text/plain": [
       "<Figure size 720x288 with 2 Axes>"
      ]
     },
     "metadata": {
      "needs_background": "light"
     },
     "output_type": "display_data"
    }
   ],
   "source": [
    "plt.figure(figsize=(10,4)) # create a wide figure (size 10) which is not so tall (size 4)\n",
    "plt.subplot(1,2,1) # create subplot of 1 row, 2 columns, enable plotting in first cell\n",
    "plt.plot(rs)\n",
    "plt.xlabel('iteration')\n",
    "plt.ylabel('reward')\n",
    "plt.title('Reward per iteration')\n",
    "plt.grid()\n",
    "\n",
    "plt.subplot(1,2,2) # create subplot of 1 row, 2 columns, enable plotting in first cell\n",
    "plt.plot(np.cumsum(rs)) # Cumulative sum of rewards\n",
    "plt.xlabel('iteration')\n",
    "plt.ylabel('total reward')\n",
    "plt.title('Cumulative reward')\n",
    "plt.grid()\n",
    "\n",
    "\n",
    "print('Average reward:', np.mean(rs))"
   ]
  },
  {
   "cell_type": "markdown",
   "id": "c4e125f0",
   "metadata": {},
   "source": [
    "For comparing and evaluating classifiers, measure the performance of the classifiers themselves, i.e., the macro-F1 score.\n",
    "\n",
    "Still, the simulation and rewards can help you assess in what situations your robot AI is performing well, and when it is failing."
   ]
  },
  {
   "cell_type": "markdown",
   "id": "474c9f70",
   "metadata": {},
   "source": [
    "# Collecting new demonstrations\n",
    "\n",
    "At some point, you might want to collect more human demonstration data to make your method even beter.\n",
    "You can do this by:\n",
    "\n",
    "- manually controlling the robot car in the simulation yourself to generate new demonstrations\n",
    "- recording the resulting (observation, action) pairs during these demonstrations\n",
    "- saving the good demonstrations to disk to increase your example dataset\n",
    "\n",
    "The code below demonstrates how to do this. The idea is simple: just use the regular `run_simulation()` function, but use a special `f_human()` policy which simply returns the action based on the keyboard input!"
   ]
  },
  {
   "cell_type": "code",
   "execution_count": 15,
   "id": "b00df200",
   "metadata": {},
   "outputs": [],
   "source": [
    "# a human driver\n",
    "def f_human(observation):\n",
    "    # Get the action obtained by the key_press/key_release callbacks from the popup window.\n",
    "    # Note that the human driver (you!) will of course see the environment image in the popup window,\n",
    "    # and ignore the 'observation' input of this function.\n",
    "    # This 'human policy' will therefore return your 'action' response to the visual input by checking\n",
    "    # which keyboard arrows you pressed.\n",
    "    \n",
    "    global KEY_PRESSED\n",
    "    \n",
    "    action = ACTION_NOOP\n",
    "    if KEY_PRESSED[key.LEFT]: action = ACTION_LEFT\n",
    "    elif KEY_PRESSED[key.RIGHT]: action = ACTION_RIGHT\n",
    "    elif KEY_PRESSED[key.UP]: action = ACTION_ACCEL\n",
    "    elif KEY_PRESSED[key.DOWN]: action = ACTION_BRAKE\n",
    "    \n",
    "    return action"
   ]
  },
  {
   "cell_type": "markdown",
   "id": "3f5f9349",
   "metadata": {},
   "source": [
    "When we use this policy, ensure that the simulator stores and return all the (observation, action) pairs by setting the `record_data` argument of run_simulation to `True`.\n",
    "You can adjust the `planet_id` and `track_id` to get human driving responses on a variety of tracks in your training planet environments."
   ]
  },
  {
   "cell_type": "code",
   "execution_count": 16,
   "id": "cc7cf477",
   "metadata": {},
   "outputs": [
    {
     "name": "stdout",
     "output_type": "stream",
     "text": [
      "Starting simulation for 1000 iterations.\n",
      "*** Press ESC key in popup window to stop the simulation! ***\n",
      "\n",
      "Track generation: 1383..1731 -> 348-tiles track\n"
     ]
    },
    {
     "name": "stderr",
     "output_type": "stream",
     "text": [
      "C:\\Users\\gioel\\anaconda3\\envs\\tf2\\lib\\site-packages\\gym\\logger.py:30: UserWarning: \u001b[33mWARN: Box bound precision lowered by casting to float32\u001b[0m\n",
      "  warnings.warn(colorize('%s: %s'%('WARN', msg % args), 'yellow'))\n"
     ]
    },
    {
     "name": "stdout",
     "output_type": "stream",
     "text": [
      "total reward after 55 iterations: 6.027377521613852\n",
      "average reward: 0.10958868221116094\n"
     ]
    }
   ],
   "source": [
    "planet_id=0 # <-- CHANGE THIS to select the planet; can be 0, 1, 2\n",
    "track_id=0  # <-- CHANGE THIS to select the track; can be any positive integer\n",
    "\n",
    "rs, rec_obs, rec_actions = run_simulation(\n",
    "    f_human,               # by using the 'human' policy, YOU determine the robot's actions based on what you see\n",
    "    record_data=True,      # record and return all (observation, action) pairs from the simulation \n",
    "    planet_id=planet_id,   # select the target planet\n",
    "    track_id=track_id,     # select the target track on that planet (0, 1, 2, etc.)\n",
    "    iterations=1000,       # maximum number of iterations to run the simulation\n",
    "    render=True,           # when controling the car manually, it makes sense to render the scene\n",
    "    delay=0.01             # adding a small delay will help you control the robot car\n",
    ")\n",
    "# Note: with delay=0.01 the simulation runs a bit slower, which makes it easier to give demonstrations"
   ]
  },
  {
   "cell_type": "markdown",
   "id": "b759d7a7",
   "metadata": {},
   "source": [
    "Explore the just collected samples in your latest recoding using an interactive slider"
   ]
  },
  {
   "cell_type": "code",
   "execution_count": 17,
   "id": "8083ec27",
   "metadata": {},
   "outputs": [
    {
     "data": {
      "application/vnd.jupyter.widget-view+json": {
       "model_id": "c5a3ba8c4a8c4ee7b3d87922cf1995f4",
       "version_major": 2,
       "version_minor": 0
      },
      "text/plain": [
       "interactive(children=(IntSlider(value=27, description='idx', max=54), Output()), _dom_classes=('widget-interac…"
      ]
     },
     "metadata": {},
     "output_type": "display_data"
    }
   ],
   "source": [
    "def plot_sample(idx, observations, actions):\n",
    "    observation = observations[idx]\n",
    "    action = actions[idx]\n",
    "    plt.clf()\n",
    "    plt.imshow(observation)\n",
    "    plt.title(f'{idx}: {action}');\n",
    "    \n",
    "ipywidgets.interactive(lambda idx: plot_sample(idx, rec_obs, rec_actions), idx=(0,rec_obs.shape[0]-1))"
   ]
  },
  {
   "cell_type": "markdown",
   "id": "0c8cf8de",
   "metadata": {},
   "source": [
    "If you are unhappy with the the demonstration you gave, you can just execute the `run_simulation()` cell above again, until you are satisfied.\n",
    "\n",
    "To save the demonstration to disk, execute the cell below after setting `SAVE_DEMO` to True.\n",
    "\n",
    "**After you have saved the demonstration, don't forget to aftewards IMMEDIATELY set `SAVE_DEMO` back to False to avoid accidentally saving new demonstrations every time you rerun the notebook!!!**\n",
    "\n",
    "Note that the pickle filenames of your recordings will start with `demostud-`, while the originally provided demonstrations start with `demo-`. This makes it easy to load only the original, your, or both types of recordings."
   ]
  },
  {
   "cell_type": "code",
   "execution_count": 18,
   "id": "ce4e67b4",
   "metadata": {},
   "outputs": [],
   "source": [
    "SAVE_DEMO = False # <-- CHANGE THIS to 'True' to SAVE the last recording to disk!\n",
    "\n",
    "if SAVE_DEMO: \n",
    "    rec_N = rec_obs.shape[0]\n",
    "\n",
    "    demonstration = {\n",
    "        'observations': rec_obs,\n",
    "        'actions': rec_actions,\n",
    "        'planets': planet_id * np.ones(rec_N, dtype=int),\n",
    "        'tracks': track_id * np.ones(rec_N, dtype=int),\n",
    "    }\n",
    "    \n",
    "    # include date+time to filename in YYYYMMDD_HHMMSS format\n",
    "    import datetime\n",
    "    now = datetime.datetime.now()\n",
    "    dt_str = now.strftime('%Y%m%d_%H%M%S')\n",
    "\n",
    "    # Save to disk\n",
    "    save_filename = f'demonstrations/demostud-{planet_id}-{track_id}-{dt_str}.pickle'\n",
    "    print(f'Saving demonstation of planet {planet_id}, track {track_id} to {save_filename} ...')\n",
    "    with open(save_filename, 'wb') as fd:\n",
    "        pickle.dump(demonstration, fd)"
   ]
  },
  {
   "cell_type": "markdown",
   "id": "b67f75fe",
   "metadata": {},
   "source": [
    "Ok, that completes the example code.\n",
    "Now it is your turn! Implement your solution to the final assignment below. For full points, make sure you address *all* the numbered items for each section, either by implementing something in code cells, or by providing text in Markdown cells. You are free to add as many code and markdown cells as required. Be sure to first read through all sections before you start, so you know what should go where. We are *not* using nbgrader for this final assignment.\n",
    "\n",
    "**When you are done, double check the \"Deliverables\" section at the start of this notebook on how to prepare your final submission!**\n",
    "\n",
    "Good luck!\n"
   ]
  },
  {
   "cell_type": "markdown",
   "id": "c1edc05e",
   "metadata": {},
   "source": [
    "---\n",
    "\n",
    "# 1. Explore & Inspect the Data (5 points)\n",
    "Add code and markdown cells to address all of the following points:\n",
    "\n",
    "1. Create a visualization that shows three samples from each planet for which you have demonstrations\n",
    "2. Explain in words what you observe: how do the observations from the planets vary?\n",
    "3. Are the samples i.i.d.? What does that imply for splitting your data?\n",
    "4. Is there a class imbalance? If yes, what are procedures to deal with that?\n",
    "5. Do we have a high risk of conflicting labels for observations? What problems can this cause?\n",
    "6. The data was collected from human demonstrations. What are potential issues with this way of collecting data?\n",
    "\n",
    " "
   ]
  },
  {
   "cell_type": "markdown",
   "id": "15a3a72f",
   "metadata": {},
   "source": [
    "\n",
    "## 1.1 Sample visualization\n",
    "First of all, we want to create a visualization of three samples from each planet for which we have demonstrations."
   ]
  },
  {
   "cell_type": "code",
   "execution_count": 19,
   "id": "1d565e48",
   "metadata": {},
   "outputs": [
    {
     "data": {
      "text/plain": [
       "<matplotlib.image.AxesImage at 0x24c02391448>"
      ]
     },
     "execution_count": 19,
     "metadata": {},
     "output_type": "execute_result"
    },
    {
     "data": {
      "image/png": "[encoded data removed]",
      "text/plain": [
       "<Figure size 432x288 with 9 Axes>"
      ]
     },
     "metadata": {
      "needs_background": "light"
     },
     "output_type": "display_data"
    }
   ],
   "source": [
    "# First we divide the observations, actions and track_ids in three groups depending on the planet\n",
    "obs_p0 = observations[planet_ids == 0]\n",
    "obs_p1 = observations[planet_ids == 1]\n",
    "obs_p2 = observations[planet_ids == 2]\n",
    "\n",
    "# Then take three random samples from each planet and print the visualization\n",
    "import random\n",
    "fig, axes = plt.subplots(nrows=3, ncols=3)\n",
    "ax = axes.ravel()\n",
    "ax[0].imshow(obs_p0[random.randrange(0, 999)])\n",
    "ax[1].imshow(obs_p0[random.randrange(0, 999)])\n",
    "ax[2].imshow(obs_p0[random.randrange(0, 999)])\n",
    "ax[3].imshow(obs_p1[random.randrange(0, 199)])\n",
    "ax[4].imshow(obs_p1[random.randrange(0, 199)])\n",
    "ax[5].imshow(obs_p1[random.randrange(0, 199)])\n",
    "ax[6].imshow(obs_p2[random.randrange(0, 199)])\n",
    "ax[7].imshow(obs_p2[random.randrange(0, 199)])\n",
    "ax[8].imshow(obs_p2[random.randrange(0, 199)])"
   ]
  },
  {
   "cell_type": "markdown",
   "id": "47e8dbba",
   "metadata": {},
   "source": [
    "## 1.2 Observations\n",
    "The biggest difference that can be noticed by simply observing the data is the color of the part external to the track. In particular, Earth is green, Mars is red and Saturn is brownish. Apart from this, the street itself is not different in terms of color or structure among different planets.\n",
    "This color difference can be useful to immediately recognize circuits on different planets (we will see use this characteristic for clustering), but is not related to our final task of understanding the actions to do based on the track structure."
   ]
  },
  {
   "cell_type": "markdown",
   "id": "7e043736",
   "metadata": {},
   "source": [
    "## 1.3 Are data i.i.d?\n",
    "From the above images (randomly picked from the sample) seems that there is no correlation among the samples. But if we consider three consecutive samples of the same planet and the same track then it is clear that the samples are strongly correlated. This happens because the pictures are consecutive images of a track. In the following plots, it is clear the dependence among the samples.\n",
    "To avoid problems while training any ML algorithms non i.i.d data it is important to shuffle the data before splitting them."
   ]
  },
  {
   "cell_type": "code",
   "execution_count": 20,
   "id": "32c2eb00",
   "metadata": {},
   "outputs": [
    {
     "data": {
      "text/plain": [
       "<matplotlib.image.AxesImage at 0x24c02755588>"
      ]
     },
     "execution_count": 20,
     "metadata": {},
     "output_type": "execute_result"
    },
    {
     "data": {
      "image/png": "[encoded data removed]",
      "text/plain": [
       "<Figure size 432x288 with 9 Axes>"
      ]
     },
     "metadata": {
      "needs_background": "light"
     },
     "output_type": "display_data"
    }
   ],
   "source": [
    "fig, axes = plt.subplots(nrows=3, ncols=3)\n",
    "ax = axes.ravel()\n",
    "ax[0].imshow(obs_p0[0])\n",
    "ax[1].imshow(obs_p0[1])\n",
    "ax[2].imshow(obs_p0[2])\n",
    "ax[3].imshow(obs_p1[0])\n",
    "ax[4].imshow(obs_p1[1])\n",
    "ax[5].imshow(obs_p1[2])\n",
    "ax[6].imshow(obs_p2[0])\n",
    "ax[7].imshow(obs_p2[1])\n",
    "ax[8].imshow(obs_p2[2])"
   ]
  },
  {
   "cell_type": "markdown",
   "id": "3eabdb15",
   "metadata": {},
   "source": [
    "## 1.4 Class imbalance\n",
    "To verify if there is a class imbalance we analyze the class labels (actions) array."
   ]
  },
  {
   "cell_type": "code",
   "execution_count": 21,
   "id": "e040eb9a",
   "metadata": {},
   "outputs": [
    {
     "data": {
      "text/plain": [
       "{0: 681, 1: 276, 2: 271, 3: 172}"
      ]
     },
     "execution_count": 21,
     "metadata": {},
     "output_type": "execute_result"
    }
   ],
   "source": [
    "unique, counts = np.unique(actions, return_counts = True)\n",
    "dict(zip(unique, counts))"
   ]
  },
  {
   "cell_type": "markdown",
   "id": "3a58b55a",
   "metadata": {},
   "source": [
    "As can be seen from the previous dictionary, there is quite a high-class imbalance, with class 0 (Do nothing) being by far the most present. Classes 1, 2 and 3 (Accelerate, Turn steer left, Turn steer right respectively) are more or less balanced, with turn left being more present than turn right because of a probable greater number of circuits where cars run anticlockwise. Finally, class 4 (Brake) is not present at all in the whole dataset.\n",
    "A way to deal with this skewed dataset is surely by not using accuracy as the main performance score, but instead using confusion matrix or, even better, F1 score (harmonic mean of precision and recall). In this way, it is easier to understand if the system has a high accuracy just because it always assumes to do nothing (class 0) or if it actually performs well."
   ]
  },
  {
   "cell_type": "markdown",
   "id": "a1b7932a",
   "metadata": {},
   "source": [
    "## 1.5 Conflicting labels\n",
    "Yes, the probability of having conflicting labels for such a situation can be considered high. Indeed two are the reasonable scenarios that can lead to conflicting labels.\n",
    "\n",
    "First: a pilot error that takes the wrong action for a certain situation (e.g. he decides to turn during a starting straight). Second: in the same situation two different pilots (so two different simulations) take different actions (e.g. sharp or wide trajectory for a turn).\n",
    "\n",
    "The first problem generates outliers, then we need to keep it in mind to avoid overfitting with complex algorithms. The second generates an overlap on the dataset. Indeed samples with the same feature values (or very similar) will have different labels, leading to a dataset difficult to be divided by class.\n"
   ]
  },
  {
   "cell_type": "markdown",
   "id": "a8af4ba1",
   "metadata": {},
   "source": [
    "## 1.6 Human collected data\n",
    "Collecting the data from human demonstrations and trying to emulate those performances (Imitation learning) is a powerful yet risky approach.\n",
    "The first main problem is that data acquisition requires human effort, and more data means more human time needed, which is expensive.\n",
    "The second problem is that human error is introduced. As stated in point 1.5 on a straightway there is the possibility a human would maybe briefly lose control of the car and curve a little bit. Even if this may not represent a problem in real life because the pilot may be able to immediately regain control of the car, the machine learning algorithm risks of learning that on a straightway it has to curve. Human error can therefore cause outliers in the data as explained before."
   ]
  },
  {
   "cell_type": "markdown",
   "id": "dce1a0f4",
   "metadata": {},
   "source": [
    "---\n",
    "\n",
    "# 2. Prepare the Data and Evaluate Features (15 points)\n",
    "\n",
    "In this section you should pre-process the data, e.g., down-sample, and extract features to create your training data matrix \"X\".\n",
    "\n",
    "\n",
    "## 2.1. Clustering observations from planets\n",
    "\n",
    "Before we turn towards the main task of action classification (section 2.2), let us first try a small unsupervised clustering task. Pretend that we only have the observations, but did not record the planet_ids of these observations. The goal is to cluster the observations into k=3 clusters such that 1 cluster (approximately) corresponds to 1 planet. For this task, you can ignore the actions and track_id information.\n",
    "\n",
    "1. Propose a feature extraction method `feat_extract_clust` which can be used to CLUSTER the samples and (approximately) recover the planet_ids. Motivate what you use in your feature extraction method.\n",
    "2. Perform clustering based on the features obtained with `feat_extract_clust`, and compare the results to the true planet_id labels. For this you will need to select a statistical measure to compare cluster labels to planet_ids.\n",
    "3. Explain what measure you use for comparing the features and why.\n",
    "4. Can you recuperate the planet_ids by clustering? Motivate your answer with your results."
   ]
  },
  {
   "cell_type": "markdown",
   "id": "4606dc29",
   "metadata": {},
   "source": [
    "### 2.1.1 Feature extraction method\n",
    "The feature extraction method most convenient for this problem is the one hinted in section 1.2. By a human observer, the first feature that comes to mind when having to determine the planet where a track belongs is color. In particular, the predominant color of the image will most probably determine what planet the image belongs to.\n",
    "\n",
    "In order to apply this concept to the computer, the solution is making use of the RGB characteristic of each sample. In particular by making the mean of the RGB values of the 96x96 pixels of each image we would get the predominant color for each sample."
   ]
  },
  {
   "cell_type": "code",
   "execution_count": 22,
   "id": "c4841c3f",
   "metadata": {},
   "outputs": [
    {
     "name": "stdout",
     "output_type": "stream",
     "text": [
      "The shape of the array now is: (1400, 3)\n"
     ]
    },
    {
     "data": {
      "text/plain": [
       "<matplotlib.collections.PathCollection at 0x24c01bf3988>"
      ]
     },
     "execution_count": 22,
     "metadata": {},
     "output_type": "execute_result"
    },
    {
     "data": {
      "image/png": "[encoded data removed]",
      "text/plain": [
       "<Figure size 432x288 with 2 Axes>"
      ]
     },
     "metadata": {
      "needs_background": "light"
     },
     "output_type": "display_data"
    }
   ],
   "source": [
    "def feat_extract_clust(observations):\n",
    "    RGB_observations = observations.mean(axis=1).mean(axis=1)\n",
    "    return RGB_observations\n",
    "    \n",
    "RGB_observations = feat_extract_clust(observations)\n",
    "print(\"The shape of the array now is:\", RGB_observations.shape)\n",
    "\n",
    "plt.subplot(1, 2, 1)\n",
    "plt.scatter(RGB_observations[:,0], RGB_observations[:,1])\n",
    "plt.subplot(1, 2, 2)\n",
    "plt.scatter(RGB_observations[:,0], RGB_observations[:,1], RGB_observations[:,2])"
   ]
  },
  {
   "cell_type": "markdown",
   "id": "be4662a8",
   "metadata": {},
   "source": [
    "As can be seen by the plots, using this feature extraction method, three distinct clusters are found.\n",
    "\n",
    "Moreover, it is possible to see that the first plot (done only plotting the two features of R and G) is very similar to the second plot (done plotting all three R, G and B features). For this reason, it is safe to say that the B feature can be excluded from the process since R and G are sufficient to separate the three clusters. In this way, only two features are needed instead of three."
   ]
  },
  {
   "cell_type": "code",
   "execution_count": 23,
   "id": "df8849b3",
   "metadata": {},
   "outputs": [
    {
     "name": "stdout",
     "output_type": "stream",
     "text": [
      "The new shape is: (1400, 2)\n"
     ]
    }
   ],
   "source": [
    "new_RGB_observations = RGB_observations[:, :2]\n",
    "print(\"The new shape is:\", new_RGB_observations.shape)"
   ]
  },
  {
   "cell_type": "markdown",
   "id": "fc47093f",
   "metadata": {},
   "source": [
    "### 2.1.2 Clustering\n",
    "Having now defined the dataset with only two features to which the clustering is going to be applied, it is time to choose the clustering algorithm.\n",
    "\n",
    "By looking at the previous plot it is easy to see that the three clusters are easily separable. Therefore K-Means was chosen since it is a quite simple algorithm that works with hard margins (differently from the Gaussian Mixture Model) and performs well on easily separable data."
   ]
  },
  {
   "cell_type": "code",
   "execution_count": 24,
   "id": "6d71f7d0",
   "metadata": {},
   "outputs": [
    {
     "data": {
      "image/png": "[encoded data removed]",
      "text/plain": [
       "<Figure size 432x288 with 1 Axes>"
      ]
     },
     "metadata": {
      "needs_background": "light"
     },
     "output_type": "display_data"
    }
   ],
   "source": [
    "from sklearn.cluster import KMeans\n",
    "\n",
    "kmeans = KMeans(n_clusters=3, random_state=0).fit(new_RGB_observations)\n",
    "labels = kmeans.predict(new_RGB_observations)\n",
    "\n",
    "plt.scatter(new_RGB_observations[:, 0], new_RGB_observations[:, 1], c=labels, s=40, cmap='viridis');"
   ]
  },
  {
   "cell_type": "markdown",
   "id": "47226554",
   "metadata": {},
   "source": [
    "By looking at the plot is possible to see how the data has been clustered extremely well. In order to have a more precise idea, though, a statistical measure is needed to compare the K-Means labels to the actual planet_ids.\n",
    "\n",
    "As a method, the sklearn.metrics.completeness_score() was selected."
   ]
  },
  {
   "cell_type": "code",
   "execution_count": 25,
   "id": "d93dee65",
   "metadata": {},
   "outputs": [
    {
     "name": "stdout",
     "output_type": "stream",
     "text": [
      "The completeness score for this clustering is: 1.0\n"
     ]
    }
   ],
   "source": [
    "import sklearn\n",
    "from sklearn.metrics.cluster import completeness_score\n",
    "score_km = sklearn.metrics.completeness_score(planet_ids, labels)\n",
    "print (\"The completeness score for this clustering is:\", score_km)"
   ]
  },
  {
   "cell_type": "markdown",
   "id": "25ee54b2",
   "metadata": {},
   "source": [
    "### 2.1.3 Adopted statistical measure\n",
    "As a statistical measure, the sklearn.metrics.completeness_score() was selected. The reason is that is a simple algorithm based on a ground truth: the score is maximum if all the samples with the same label belong to the same cluster. This score is obtained by comparing the K-Means labels of all clusters with the actual labels of the data (planet_ids).\n",
    "\n",
    "Also, since we don't know if the clustering algorithm would give the label 0 to Earth, label 1 to Mars and label 2 to Saturn, this measure is useful since it is independent of the absolute values of the labels.\n",
    "\n",
    "Notice that this measure is truly significant because the result is very high (perfect in this case). Since the samples per label are very unbalanced (1000 for Earth, 200 for Mars and Saturn), if the result wasn't so high, even a bad algorithm that gives label 0 to all data would still achieve a score of about 0.7 in this case and therefore be considered good."
   ]
  },
  {
   "cell_type": "markdown",
   "id": "d0855b1b",
   "metadata": {},
   "source": [
    "### 2.1.4 Can you recuperate the planet_ids with clustering?\n",
    "Yes, since the completeness score is equal to 1 it is possible to have a perfect mapping of K-Means label into the planet_ids label.\n",
    "\n",
    "The only problem may be the difference in the absolute value of the labels, but this is a pretty trivial problem since it can be solved easily by assigning the correct value to each K-Means label."
   ]
  },
  {
   "cell_type": "markdown",
   "id": "144d5957",
   "metadata": {},
   "source": [
    "## 2.2. Features for action classification\n",
    "\n",
    "Now we turn to feature exration for the main classification task, which you can reuse also in the later sections of this notebook.\n",
    "\n",
    "1. Explain: Will you use the same extractor as in step 1; Why (not)?\n",
    "2. Propose a feature extraction method `feat_extract` which you will use in the subsequent sections to classify *action*, rather than planet_ids.\n",
    "3. Explain: Are there any important hyperparameters in your feature extractor?\n",
    "4. Explain: How will you decide on the values for these hyperparameters? What is the trade-off if this hyperparameter is either (too) low or (too) high?\n",
    "5. Explain: What is the dimensionality of your feature space?\n",
    "6. Apply your `feat_extract` to all observations to create the data that you will use in the subsequent sections."
   ]
  },
  {
   "cell_type": "markdown",
   "id": "679820e0",
   "metadata": {},
   "source": [
    "### 2.2.1 Can we use the same extractor?\n",
    "No, since before we were interested in the RGB values for each sample in order to determine the planet_ids labels.\n",
    " \n",
    "In this case, instead, we need to determine the actions labels, and therefore the RGB values of the samples alone are not useful for the task."
   ]
  },
  {
   "cell_type": "markdown",
   "id": "2d88aac4",
   "metadata": {},
   "source": [
    "### 2.2.2 Feature extractor method\n",
    "First of all, we need to extract the feature space from each sample."
   ]
  },
  {
   "cell_type": "code",
   "execution_count": 26,
   "id": "c2bae231",
   "metadata": {},
   "outputs": [
    {
     "name": "stdout",
     "output_type": "stream",
     "text": [
      "The dataset shape now is:  (1400, 27648)\n"
     ]
    }
   ],
   "source": [
    "obs_fs_list = []\n",
    "for i in range(observations.shape[0]):\n",
    "    fs = np.ndarray.flatten(observations[i])\n",
    "    obs_fs_list.append(fs)\n",
    "\n",
    "obs_fs = np.array(obs_fs_list)\n",
    "print(\"The dataset shape now is: \", obs_fs.shape)"
   ]
  },
  {
   "cell_type": "markdown",
   "id": "f043a729",
   "metadata": {},
   "source": [
    "Now we need to try some algorithms for the dimensionality reduction.\n",
    "\n",
    "We try PCA trying to keep 90% variance and see the result."
   ]
  },
  {
   "cell_type": "code",
   "execution_count": 27,
   "id": "8453b108",
   "metadata": {},
   "outputs": [
    {
     "name": "stdout",
     "output_type": "stream",
     "text": [
      "The new shape of the dataset is: (1400, 130)\n"
     ]
    }
   ],
   "source": [
    "from sklearn.decomposition import PCA\n",
    "\n",
    "pca = PCA(n_components = 0.90)\n",
    "obs_reduced = pca.fit_transform(obs_fs)\n",
    "\n",
    "print(\"The new shape of the dataset is:\", obs_reduced.shape)"
   ]
  },
  {
   "cell_type": "markdown",
   "id": "5e37754c",
   "metadata": {},
   "source": [
    "The result is pretty impressive since we started from 27648 features per sample and managed to reduce it to 130. Therefore by losing only 10% of the total variance we managed to only have 0.47% of the initial features\n",
    "\n",
    "Since we also have the labels an idea would be using LDA instead of PCA. However since LDA can only use a number of features smaller than the number of labels provided, this would result in a number of final features way too low (only 3).\n",
    "\n",
    "We can therefore define the feat_extract function."
   ]
  },
  {
   "cell_type": "code",
   "execution_count": 28,
   "id": "94be412c",
   "metadata": {},
   "outputs": [],
   "source": [
    "def feat_extract(obs_fs):\n",
    "    pca = PCA(n_components = 0.90)\n",
    "    obs_reduced = pca.fit_transform(obs_fs)\n",
    "    return obs_reduced;"
   ]
  },
  {
   "cell_type": "markdown",
   "id": "5992d965",
   "metadata": {},
   "source": [
    "### 2.2.3 Important hyperparameters\n",
    "Yes, there is an important hyperparameter: the variance. Actually two approaches are possible, the first one is to use as hyperparameter the number of features that we want to keep, the second (implemented in this case) is to define the final variance to preserve. The first approach is weaker in this case because requires the knownledge of the final amount of features (that actually is what we would like to calculate with the dimensionality reduction). Then, our choice was setting the desired preserved variance, and as consequence we retrieve the number of features necessary."
   ]
  },
  {
   "cell_type": "markdown",
   "id": "76191e6a",
   "metadata": {},
   "source": [
    "### 2.2.4 Values for the hyperparameters\n",
    "The selection of the variance to preserve is definitely a crucial choice. A high value leads to an accurate preservation of the information stored in the dataset. On the other hand a low value allows us to store few features, obtaining a better dimensionality reduction.\n",
    "\n",
    "With the value chosen in this case for the variance (90%), actually we obtained a nice compromise. Indeed, even if a high value of the variance is preserved, the remaining number of features is 0.47% of the initial number of features."
   ]
  },
  {
   "cell_type": "markdown",
   "id": "ea11d987",
   "metadata": {},
   "source": [
    "### 2.2.5 Dimensionality of feature space\n",
    "The new dimensionality of the feature space can be easily printed."
   ]
  },
  {
   "cell_type": "code",
   "execution_count": 29,
   "id": "0ac437ea",
   "metadata": {},
   "outputs": [
    {
     "name": "stdout",
     "output_type": "stream",
     "text": [
      "The new dimensionality of the feature space is: 130\n"
     ]
    }
   ],
   "source": [
    "print(\"The new dimensionality of the feature space is:\", obs_reduced.shape[1])"
   ]
  },
  {
   "cell_type": "markdown",
   "id": "a0df99fe",
   "metadata": {},
   "source": [
    "### 2.2.6 Final dataset\n",
    "Now we apply the feature reduction function feat_extract to create our final dataset X."
   ]
  },
  {
   "cell_type": "code",
   "execution_count": 30,
   "id": "d9af1fda",
   "metadata": {},
   "outputs": [],
   "source": [
    "X = feat_extract(obs_fs)\n",
    "y = actions"
   ]
  },
  {
   "cell_type": "markdown",
   "id": "33d131ef",
   "metadata": {},
   "source": [
    "----\n",
    "\n",
    "# 3. Single Planet Action Classification  (35 points)\n",
    "To get started, we will train and test a model that is only suitable for racing on a single planet, i.e., on Earth (planet 0)\n",
    "\n",
    "As a first step split the data into a training, validation, and test set. You can use the provided data, or collect your own.\n",
    "\n",
    "## 3.1. Shortlist Promising Models\n",
    "1. Compare at least 2 models. One of them needs to be a neural network, one of them needs to be not a neural network.\n",
    "2. For each of the models that you are going to compare, explain what are its relative advantages/disadvantages in terms of training time, test time, and number of model parameters compared to the other choices. Also explain how these considerations relate to the target application, and motivate which type of model would be preferred based on these considerations only (so disregarding the actual quality of the models).\n",
    "3. If needed, perform dimensionality reduction before training your selection models. Expain why it is (not) needed.\n",
    "4. Roughly tune those models\n",
    "5. Evaluate the models in terms of performance, bias, variance, etc.\n",
    "6. Please use the macro-F1 score (see sklearn documentation) as your main criterion. Looking at confusion matrices, accuracy etc. might also provide valuable insights. Why is the accuracy score potentially problematic in this setting?\n",
    "7. Pick one algorithm to develop further.\n"
   ]
  },
  {
   "cell_type": "markdown",
   "id": "4aec662d",
   "metadata": {},
   "source": [
    "### 3.1.0 Prepare the dataset\n",
    "[Disclaimer]:\n",
    "\n",
    "Some of the following comments and observations could be not 100% reliable. This is a consequence of the fact that the results obtained with the neural network can change from simulation to simulation. We still tried to analyze the results (running the simulation multiple times) in order to obtain the best performances possible. Unluckily we found out the solution to this problem too late:\n",
    "\n",
    "from numpy.random import seed\n",
    "seed(43)\n",
    "tf.random.set_seed(44)\n",
    "\n",
    "[End of the disclaimer]\n",
    "\n",
    "We created this additional point where we want to prepare the dataset.\n",
    "\n",
    "First of all, we need to separate the earth samples from the others. Then, as stated in section 1.3, the dataset is not i.i.d and therefore needs to be shuffled first. Finally, the train, test and validation sets will be created."
   ]
  },
  {
   "cell_type": "code",
   "execution_count": 31,
   "id": "139d5423",
   "metadata": {},
   "outputs": [],
   "source": [
    "Xe = X[planet_ids == 0]\n",
    "ye = y[planet_ids == 0]\n",
    "\n",
    "from sklearn.utils import shuffle\n",
    "shuffled_Xe, shuffled_ye = shuffle(Xe, ye, random_state=0)\n",
    "\n",
    "from sklearn.model_selection import train_test_split\n",
    "Xe_train, Xe_test, ye_train, ye_test = train_test_split(shuffled_Xe, shuffled_ye, test_size=0.20, random_state=0)\n",
    "Xe_train, Xe_val, ye_train, ye_val = train_test_split(Xe_train, ye_train, test_size=0.20, random_state=0)"
   ]
  },
  {
   "cell_type": "markdown",
   "id": "9372fb7e",
   "metadata": {},
   "source": [
    "### 3.1.1 Chosen classifiers\n",
    "The non-neural network algorithm chosen for one of the two models is a Random Forest Classifier. We choose it because comparing the previous assignments and the examples in the book, often it reaches the best performances.\n",
    "\n",
    "Regarding the neural network, we chose an MLP built with the Sequential API method."
   ]
  },
  {
   "cell_type": "markdown",
   "id": "084d5113",
   "metadata": {},
   "source": [
    "### 3.1.2 Comparison between the classifiers\n",
    "For the non-neural network as said we chose a Random Forest Classifier. Other possible multiclass classification algorithms could have been: Decision Tree, Logistic Regression Classifier, SVM etc...\n",
    "\n",
    "The Random Forest for sure requires a high training time because it automatically trains many different Decision Trees. But on the other side, this is usually reflected in better performances. To analyze the test time we need to consider how the prediction is done. Some algorithms require, once tuned, only simple mathematical calculations to determine the correct prediction; others instead, other algorithms need to compare the values with all the training data to give the final prediction (the latter scenario is the slowest). For the Random Forest actually, the prediction is not so fast as it has to make a prediction for Decision Tree and compare them at the end. This could lead to some problems for a real-time algorithm, but to be sure about it we have to implement it and run the simulation. One more advantage of the Random Forest is a large number of parameters tunable to improve the performance, such as the 'max_depth', 'n_estimators', 'min_samples_split' and many others.\n",
    "\n",
    "Considering the neural network, the choice was mainly between using a Sequential a Functional or a Subclassing API.\n",
    "\n",
    "In general neural networks are an extremely powerful tool due to their extremely wide improvement possibilities. However, this power is balanced by high computational complexity, meaning that both training and testing time can be extremely high. Also, the wide range of improvements is due to a high amount of possible hyperparameters that need to be tuned, making it very hard to use the network to its whole potential. In this case, the Sequential API choice was probably the best, since the problem had neither such a complexity as to justify the use of a Functional API, nor a non-static structure that would justify the use of a Subclassing API."
   ]
  },
  {
   "cell_type": "markdown",
   "id": "ef5ee9f9",
   "metadata": {},
   "source": [
    "### 3.1.3 Dimensionality reduction\n",
    "The dimensionality reduction was actually first applied to the dataset in order to reduce the features from 27648 to 130.\n",
    "\n",
    "This choice was made because the previous number of features was excessively big and, most importantly, redundant since we kept a decent variance by excluding thousands of features."
   ]
  },
  {
   "cell_type": "markdown",
   "id": "3efe090e",
   "metadata": {},
   "source": [
    "### 3.1.4 Models training\n",
    "Now we define and train the two models using default hyperparameters.\n",
    "\n",
    "For the Random Forest Classifier."
   ]
  },
  {
   "cell_type": "code",
   "execution_count": 32,
   "id": "adb174a4",
   "metadata": {},
   "outputs": [
    {
     "data": {
      "text/plain": [
       "RandomForestClassifier(random_state=0)"
      ]
     },
     "execution_count": 32,
     "metadata": {},
     "output_type": "execute_result"
    }
   ],
   "source": [
    "from sklearn.ensemble import RandomForestClassifier\n",
    "forest_clf = RandomForestClassifier(random_state=0)\n",
    "forest_clf.fit(Xe_train, ye_train)"
   ]
  },
  {
   "cell_type": "markdown",
   "id": "27280e60",
   "metadata": {},
   "source": [
    "For the MLP."
   ]
  },
  {
   "cell_type": "code",
   "execution_count": 33,
   "id": "65caeb6d",
   "metadata": {},
   "outputs": [
    {
     "name": "stdout",
     "output_type": "stream",
     "text": [
      "Model: \"sequential\"\n",
      "_________________________________________________________________\n",
      "Layer (type)                 Output Shape              Param #   \n",
      "=================================================================\n",
      "dense (Dense)                (None, 100)               13100     \n",
      "_________________________________________________________________\n",
      "dense_1 (Dense)              (None, 5)                 505       \n",
      "=================================================================\n",
      "Total params: 13,605\n",
      "Trainable params: 13,605\n",
      "Non-trainable params: 0\n",
      "_________________________________________________________________\n",
      "Epoch 1/30\n",
      "20/20 [==============================] - 1s 29ms/step - loss: 292.3420 - accuracy: 0.3065 - val_loss: 113.2819 - val_accuracy: 0.5125\n",
      "Epoch 2/30\n",
      "20/20 [==============================] - 0s 3ms/step - loss: 82.7459 - accuracy: 0.5611 - val_loss: 62.7613 - val_accuracy: 0.5875\n",
      "Epoch 3/30\n",
      "20/20 [==============================] - 0s 3ms/step - loss: 37.6176 - accuracy: 0.7103 - val_loss: 59.3285 - val_accuracy: 0.5875\n",
      "Epoch 4/30\n",
      "20/20 [==============================] - 0s 3ms/step - loss: 21.2999 - accuracy: 0.7597 - val_loss: 54.2396 - val_accuracy: 0.6062\n",
      "Epoch 5/30\n",
      "20/20 [==============================] - 0s 3ms/step - loss: 12.1356 - accuracy: 0.8040 - val_loss: 53.9723 - val_accuracy: 0.5875\n",
      "Epoch 6/30\n",
      "20/20 [==============================] - 0s 3ms/step - loss: 6.8393 - accuracy: 0.8566 - val_loss: 50.1601 - val_accuracy: 0.6062\n",
      "Epoch 7/30\n",
      "20/20 [==============================] - 0s 3ms/step - loss: 4.9881 - accuracy: 0.8678 - val_loss: 48.8195 - val_accuracy: 0.5875\n",
      "Epoch 8/30\n",
      "20/20 [==============================] - 0s 3ms/step - loss: 2.6041 - accuracy: 0.9018 - val_loss: 49.1906 - val_accuracy: 0.6313\n",
      "Epoch 9/30\n",
      "20/20 [==============================] - 0s 3ms/step - loss: 1.4719 - accuracy: 0.9316 - val_loss: 46.8890 - val_accuracy: 0.6375\n",
      "Epoch 10/30\n",
      "20/20 [==============================] - 0s 3ms/step - loss: 1.3106 - accuracy: 0.9271 - val_loss: 47.0430 - val_accuracy: 0.6187\n",
      "Epoch 11/30\n",
      "20/20 [==============================] - 0s 3ms/step - loss: 0.4650 - accuracy: 0.9661 - val_loss: 45.8004 - val_accuracy: 0.6250\n",
      "Epoch 12/30\n",
      "20/20 [==============================] - 0s 4ms/step - loss: 0.5789 - accuracy: 0.9612 - val_loss: 46.0065 - val_accuracy: 0.6313\n",
      "Epoch 13/30\n",
      "20/20 [==============================] - 0s 3ms/step - loss: 0.5325 - accuracy: 0.9617 - val_loss: 48.5150 - val_accuracy: 0.6313\n",
      "Epoch 14/30\n",
      "20/20 [==============================] - 0s 3ms/step - loss: 0.5270 - accuracy: 0.9804 - val_loss: 47.6873 - val_accuracy: 0.5938\n",
      "Epoch 15/30\n",
      "20/20 [==============================] - 0s 4ms/step - loss: 0.3527 - accuracy: 0.9682 - val_loss: 47.2041 - val_accuracy: 0.6000\n",
      "Epoch 16/30\n",
      "20/20 [==============================] - 0s 4ms/step - loss: 0.3106 - accuracy: 0.9698 - val_loss: 44.5722 - val_accuracy: 0.6187\n",
      "Epoch 17/30\n",
      "20/20 [==============================] - 0s 4ms/step - loss: 0.1989 - accuracy: 0.9835 - val_loss: 46.2521 - val_accuracy: 0.6375\n",
      "Epoch 18/30\n",
      "20/20 [==============================] - 0s 3ms/step - loss: 0.4894 - accuracy: 0.9827 - val_loss: 45.5279 - val_accuracy: 0.6062\n",
      "Epoch 19/30\n",
      "20/20 [==============================] - 0s 3ms/step - loss: 0.0926 - accuracy: 0.9905 - val_loss: 47.1736 - val_accuracy: 0.5875\n",
      "Epoch 20/30\n",
      "20/20 [==============================] - 0s 3ms/step - loss: 0.7486 - accuracy: 0.9578 - val_loss: 49.6470 - val_accuracy: 0.5750\n",
      "Epoch 21/30\n",
      "20/20 [==============================] - 0s 4ms/step - loss: 0.5727 - accuracy: 0.9524 - val_loss: 49.6627 - val_accuracy: 0.6000\n",
      "Epoch 22/30\n",
      "20/20 [==============================] - 0s 4ms/step - loss: 0.4468 - accuracy: 0.9661 - val_loss: 46.4582 - val_accuracy: 0.6438\n",
      "Epoch 23/30\n",
      "20/20 [==============================] - 0s 4ms/step - loss: 0.3613 - accuracy: 0.9824 - val_loss: 46.4770 - val_accuracy: 0.6250\n",
      "Epoch 24/30\n",
      "20/20 [==============================] - 0s 4ms/step - loss: 0.1017 - accuracy: 0.9911 - val_loss: 47.2876 - val_accuracy: 0.6313\n",
      "Epoch 25/30\n",
      "20/20 [==============================] - 0s 4ms/step - loss: 0.0861 - accuracy: 0.9890 - val_loss: 47.3823 - val_accuracy: 0.6250\n",
      "Epoch 26/30\n",
      "20/20 [==============================] - 0s 4ms/step - loss: 0.1637 - accuracy: 0.9864 - val_loss: 49.7848 - val_accuracy: 0.6062\n",
      "Epoch 27/30\n",
      "20/20 [==============================] - 0s 4ms/step - loss: 0.1929 - accuracy: 0.9857 - val_loss: 48.9972 - val_accuracy: 0.6187\n",
      "Epoch 28/30\n",
      "20/20 [==============================] - 0s 4ms/step - loss: 0.1270 - accuracy: 0.9902 - val_loss: 49.8706 - val_accuracy: 0.6438\n",
      "Epoch 29/30\n",
      "20/20 [==============================] - 0s 4ms/step - loss: 0.2008 - accuracy: 0.9923 - val_loss: 48.8493 - val_accuracy: 0.6375\n",
      "Epoch 30/30\n",
      "20/20 [==============================] - 0s 3ms/step - loss: 0.0055 - accuracy: 0.9996 - val_loss: 48.4233 - val_accuracy: 0.6375\n"
     ]
    }
   ],
   "source": [
    "import tensorflow as tf\n",
    "from tensorflow import keras\n",
    "model = keras.models.Sequential()\n",
    "model.add(keras.layers.Input([130]))\n",
    "model.add(keras.layers.Dense(100, activation=\"relu\"))\n",
    "model.add(keras.layers.Dense(5, activation=\"softmax\"))\n",
    "model.summary()\n",
    "\n",
    "model.compile(loss=\"sparse_categorical_crossentropy\", optimizer=\"adam\", metrics=[\"accuracy\"])\n",
    "history = model.fit(Xe_train, ye_train, epochs=30, validation_data = (Xe_val, ye_val))"
   ]
  },
  {
   "cell_type": "markdown",
   "id": "27970f19",
   "metadata": {},
   "source": [
    "The starting values for the parameters of the neural network we choose are mainly related to the characteristics of the data to analyze. The number of input neurons must match the number of features of the samples. Then, the number of output neurons has been chosen accordingly to the number of classes, so in this case 5. One more consideration can be done for the choice behind the number of neurons for the hidden layer: we choose 100 because is an intermediate value between the one of the input layer and the one of the output.\n",
    "\n",
    "The choice for the activation function of the output layer was done considering that the classes are mutually exclusive, therefore 'softmax' is the right choice.\n",
    "\n",
    "As optimizer we used adam since the performances were way better than the default SGD Optimizer.\n"
   ]
  },
  {
   "cell_type": "markdown",
   "id": "0c00d339",
   "metadata": {},
   "source": [
    "### 3.1.5 Models evaluation\n",
    "Now we want to see how the two models perform on the test set since we just want to have an idea about which classifier could perform best for this kind of problem. Notice that there will be no classifier tuning based on the performances on the test set. \n",
    "\n",
    "The validation set, instead, will be used in the following sections for hyperparameters tuning, since we want the classifier to perform best only on the data we theoretically have (train and validation).\n",
    "\n",
    "We start with the Random Forest Classifier."
   ]
  },
  {
   "cell_type": "code",
   "execution_count": 34,
   "id": "4600f407",
   "metadata": {},
   "outputs": [],
   "source": [
    "forest_clf_pred = forest_clf.predict(Xe_test)"
   ]
  },
  {
   "cell_type": "markdown",
   "id": "16fb6808",
   "metadata": {},
   "source": [
    "Concerning the variance and bias of this prediction, we can compare the prediction on the training set and that on the validation set."
   ]
  },
  {
   "cell_type": "code",
   "execution_count": 35,
   "id": "6ad93b93",
   "metadata": {},
   "outputs": [
    {
     "name": "stdout",
     "output_type": "stream",
     "text": [
      "Accuracy on train set:  1.0\n",
      "Accuracy on validation set:  0.76875\n"
     ]
    }
   ],
   "source": [
    "from sklearn.metrics import accuracy_score\n",
    "forest_train_pred = forest_clf.predict(Xe_train)\n",
    "print(\"Accuracy on train set: \", accuracy_score(ye_train, forest_train_pred))\n",
    "forest_val_pred = forest_clf.predict(Xe_val)\n",
    "print(\"Accuracy on validation set: \", accuracy_score(ye_val, forest_val_pred))"
   ]
  },
  {
   "cell_type": "markdown",
   "id": "b6b6cb67",
   "metadata": {},
   "source": [
    "From here we can already see that the model is overfitting the training data and therefore we can assume it shows high variance and, due to their tradeoff, low bias."
   ]
  },
  {
   "cell_type": "markdown",
   "id": "e075ba1a",
   "metadata": {},
   "source": [
    "For the neural network."
   ]
  },
  {
   "cell_type": "code",
   "execution_count": 36,
   "id": "bb5cd72c",
   "metadata": {},
   "outputs": [],
   "source": [
    "MLP_clf_pred = np.argmax(model.predict(Xe_test), axis=1)"
   ]
  },
  {
   "cell_type": "markdown",
   "id": "5b0974a6",
   "metadata": {},
   "source": [
    "Concerning the variance and bias of this prediction, a nice graphical way to study the performances of an algorithm is by plotting the loss and the accuracy of the model for both the training data and the validation data."
   ]
  },
  {
   "cell_type": "code",
   "execution_count": 37,
   "id": "8d897281",
   "metadata": {},
   "outputs": [
    {
     "name": "stdout",
     "output_type": "stream",
     "text": [
      "dict_keys(['loss', 'accuracy', 'val_loss', 'val_accuracy'])\n"
     ]
    },
    {
     "data": {
      "image/png": "[encoded data removed]",
      "text/plain": [
       "<Figure size 432x288 with 1 Axes>"
      ]
     },
     "metadata": {
      "needs_background": "light"
     },
     "output_type": "display_data"
    },
    {
     "data": {
      "image/png": "[encoded data removed]",
      "text/plain": [
       "<Figure size 432x288 with 1 Axes>"
      ]
     },
     "metadata": {
      "needs_background": "light"
     },
     "output_type": "display_data"
    }
   ],
   "source": [
    "# list all data in history\n",
    "print(history.history.keys())\n",
    "# summarize history for accuracy\n",
    "plt.plot(history.history['accuracy'])\n",
    "plt.plot(history.history['val_accuracy'])\n",
    "plt.title('model accuracy')\n",
    "plt.ylabel('accuracy')\n",
    "plt.xlabel('epoch')\n",
    "plt.legend(['train', 'val'], loc='upper left')\n",
    "plt.show()\n",
    "# summarize history for loss\n",
    "plt.plot(history.history['loss'])\n",
    "plt.plot(history.history['val_loss'])\n",
    "plt.title('model loss')\n",
    "plt.ylabel('loss')\n",
    "plt.xlabel('epoch')\n",
    "plt.legend(['train', 'val'], loc='upper left')\n",
    "plt.show()"
   ]
  },
  {
   "cell_type": "markdown",
   "id": "0ca00a47",
   "metadata": {},
   "source": [
    "From the above graphs, we can understand which is the behavior of the NN algorithm implemented so far. As the two curves do not converge, it is correct to state that the model has high variance (so it is overfitting). On the other hand, the bias is low, as a consequence of the trade-off between variance and bias."
   ]
  },
  {
   "cell_type": "markdown",
   "id": "23af277c",
   "metadata": {},
   "source": [
    "### 3.1.6 Performance criteria\n",
    "The first consideration to compare these two performances indicators regards the label's distribution for the dataset under analysis. Indeed, as already mentioned in section 1.4 we have a skewed dataset. For example, there are zero actions corresponding to braking, and the predominant is the 'NO-OPeration'. This means that a criterion as the accuracy can be misinterpreted. Let's suppose that 80% of our actions were 'NO-OPeration', then if we use a dummy algorithm that for each sample predict the action 'NO-OPeration' we will still obtain an accuracy of 80%, but obviously our dummy algorithm is not performing that well. What is smart instead, is a criterion as the F1 score that performs a weighted average of the precision and recall.\n",
    "\n",
    "Now we implement several performance criteria."
   ]
  },
  {
   "cell_type": "code",
   "execution_count": 38,
   "id": "d6d258b9",
   "metadata": {},
   "outputs": [
    {
     "name": "stdout",
     "output_type": "stream",
     "text": [
      "Random Forest accuracy:  0.715\n",
      "MLP accuracy:  0.595\n",
      "\n",
      "Random Forest confusion matrix: \n",
      " [[93  2  3  2]\n",
      " [30  6  1  0]\n",
      " [ 7  0 30  1]\n",
      " [11  0  0 14]]\n",
      "MLP confusion matrix: \n",
      " [[63 20  4 12  1]\n",
      " [15 15  2  5  0]\n",
      " [10  1 27  0  0]\n",
      " [ 8  2  1 14  0]\n",
      " [ 0  0  0  0  0]]\n",
      "\n",
      "Random Forest F1 score per label:  [0.77178423 0.26666667 0.83333333 0.66666667]\n",
      "MLP F1 score per label:  [0.64285714 0.4        0.75       0.5        0.        ]\n",
      "\n",
      "Random Forest weighted F1 score:  0.6768921161825725\n",
      "MLP weighted F1 score:  0.6004285714285714\n"
     ]
    }
   ],
   "source": [
    "rf_acc = accuracy_score(ye_test, forest_clf_pred)\n",
    "print(\"Random Forest accuracy: \", rf_acc)\n",
    "mlp_acc = accuracy_score(ye_test, MLP_clf_pred)\n",
    "print(\"MLP accuracy: \", mlp_acc)\n",
    "\n",
    "from sklearn.metrics import confusion_matrix\n",
    "rf_cm = confusion_matrix(ye_test, forest_clf_pred)\n",
    "print(\"\\nRandom Forest confusion matrix: \\n\", rf_cm)\n",
    "mlp_cm = confusion_matrix(ye_test, MLP_clf_pred)\n",
    "print(\"MLP confusion matrix: \\n\", mlp_cm)\n",
    "\n",
    "from sklearn.metrics import f1_score\n",
    "rf_f1_individual = f1_score(ye_test, forest_clf_pred, average=None)\n",
    "print(\"\\nRandom Forest F1 score per label: \", rf_f1_individual)\n",
    "mlp_f1_individual = f1_score(ye_test, MLP_clf_pred, average=None)\n",
    "print(\"MLP F1 score per label: \", mlp_f1_individual)\n",
    "rf_f1_weighted = f1_score(ye_test, forest_clf_pred, average='weighted')\n",
    "print(\"\\nRandom Forest weighted F1 score: \", rf_f1_weighted)\n",
    "mlp_f1_weighted = f1_score(ye_test, MLP_clf_pred, average='weighted')\n",
    "print(\"MLP weighted F1 score: \", mlp_f1_weighted)\n"
   ]
  },
  {
   "cell_type": "markdown",
   "id": "629f7709",
   "metadata": {},
   "source": [
    "It is possible to notice that the two classifiers have a similar performance both in terms of accuracy and FI score.\n",
    "\n",
    "In particular, it is important to notice how both classifiers struggle with the action label 1 (Accelerate) and tend to confuse it with label 0 (Do nothing). This is because the track configuration is pretty similar for these two actions and therefore it is hard for the classifier (that indeed takes its decisions based on the track configuration) to decide what to do in these two cases (since the pilot decision is probably more based on the car speed rather than the track)."
   ]
  },
  {
   "cell_type": "markdown",
   "id": "7fc004d4",
   "metadata": {},
   "source": [
    "### 3.1.7 Algorithm selection\n",
    "All in all, the Random Tree Classifier appears to perform slightly better than the MLP on most runs(we ran the MLP algorithm several times and only once it slightly outperformed the Random Forest), both in terms of accuracy and, most importantly, in terms of F1 score. For this reason, the Random Forest Classifier is selected for further development."
   ]
  },
  {
   "cell_type": "markdown",
   "id": "44f3acad",
   "metadata": {},
   "source": [
    "## 3.2. Fine-Tune the System\n",
    "1. What are the most important hyperparameters of your chosen algorithm?\n",
    "2. Perform hyperparameter optimization (including pre-processing steps)\n",
    "3. Compare at least 3 models with different sets of hyperparameters \n",
    "4. Evaluate the final model (similar to “Shortlist Promising Models” above)"
   ]
  },
  {
   "cell_type": "markdown",
   "id": "6eca5695",
   "metadata": {},
   "source": [
    "### 3.2.1 Most important hyperparameters\n",
    "The Random Forest classifier that we chose is basically an ensemble of Decision Tree Classifiers trained with the bagging method. For this reason, the most import hyperparameters are those of a Decision Tree Classifier (max_features, max_depth, min_samples_split, min_samples_leaf, ...) together with those of a Bagging Classifier (n_estimators, bootstrap, ...).\n",
    "\n",
    "Notice that the Decision Tree Classifier is defined as a nonparametric model, meaning that the number of parameters is not determined prior to training, so the model structure is free to stick closely to the data. This leads to a high probability of overfitting. For this reason, most of the hyperparameters that we said before (max_features, max_depth, min_samples_split, min_samples_leaf) are mostly used to regularize the classifier and avoid overfitting."
   ]
  },
  {
   "cell_type": "markdown",
   "id": "1db3614f",
   "metadata": {},
   "source": [
    "### 3.2.2 Hyperparameter optimization\n",
    "Starting from the preprocessing steps, even though it is not strictly necessary for the Random Forest algorithm, scaling data is often a good idea, since it improves the distribution of the X dataset."
   ]
  },
  {
   "cell_type": "code",
   "execution_count": 39,
   "id": "509a7cdd",
   "metadata": {},
   "outputs": [],
   "source": [
    "from sklearn.preprocessing import StandardScaler\n",
    "scaler = StandardScaler()\n",
    "Xe_train_scaled = scaler.fit_transform(Xe_train)\n",
    "Xe_val_scaled = scaler.transform(Xe_val)\n",
    "Xe_test_scaled = scaler.transform(Xe_test)"
   ]
  },
  {
   "cell_type": "markdown",
   "id": "e8cfc0ed",
   "metadata": {},
   "source": [
    "Now we can fit the Classifier on the new dataset and evaluate its prediction both on the training set and on the validation set in order to see if there is overfitting."
   ]
  },
  {
   "cell_type": "code",
   "execution_count": 40,
   "id": "e760fd78",
   "metadata": {},
   "outputs": [
    {
     "name": "stdout",
     "output_type": "stream",
     "text": [
      "\n",
      "Random Forest weighted F1 score for training set:  1.0\n",
      "\n",
      "Random Forest weighted F1 score for validation set:  0.7477633215840763\n"
     ]
    }
   ],
   "source": [
    "# First I define the Classifier and fit it on the train set\n",
    "forest_clf = RandomForestClassifier(random_state=0)\n",
    "forest_clf.fit(Xe_train_scaled, ye_train)\n",
    "\n",
    "# Now I make predictions both on the train and the validation sets\n",
    "train_pred = forest_clf.predict(Xe_train_scaled)\n",
    "val_pred = forest_clf.predict(Xe_val_scaled)\n",
    "\n",
    "# Finally I print the F1 score for both cases\n",
    "f1_train_weighted = f1_score(ye_train, train_pred, average='weighted')\n",
    "print(\"\\nRandom Forest weighted F1 score for training set: \", f1_train_weighted)\n",
    "f1_val_weighted = f1_score(ye_val, val_pred, average='weighted')\n",
    "print(\"\\nRandom Forest weighted F1 score for validation set: \", f1_val_weighted)"
   ]
  },
  {
   "cell_type": "markdown",
   "id": "315d6bcf",
   "metadata": {},
   "source": [
    "It can be clearly seen that the classifier is overfitting the training data and therefore needs regularization.a\n",
    "\n",
    "First, we need to see what default hyperparameters have been used in the first case."
   ]
  },
  {
   "cell_type": "code",
   "execution_count": 41,
   "id": "fec6a5bb",
   "metadata": {},
   "outputs": [
    {
     "name": "stdout",
     "output_type": "stream",
     "text": [
      "{'bootstrap': True, 'ccp_alpha': 0.0, 'class_weight': None, 'criterion': 'gini', 'max_depth': None, 'max_features': 'auto', 'max_leaf_nodes': None, 'max_samples': None, 'min_impurity_decrease': 0.0, 'min_impurity_split': None, 'min_samples_leaf': 1, 'min_samples_split': 2, 'min_weight_fraction_leaf': 0.0, 'n_estimators': 100, 'n_jobs': None, 'oob_score': False, 'random_state': 0, 'verbose': 0, 'warm_start': False}\n"
     ]
    }
   ],
   "source": [
    "print(forest_clf.get_params())"
   ]
  },
  {
   "cell_type": "markdown",
   "id": "be3d734d",
   "metadata": {},
   "source": [
    "Now we can start by trying to tune the Bagging Classifier parameters for the Random Forest Classifier."
   ]
  },
  {
   "cell_type": "code",
   "execution_count": 42,
   "id": "4b7e06aa",
   "metadata": {},
   "outputs": [
    {
     "name": "stdout",
     "output_type": "stream",
     "text": [
      "\n",
      "Random Forest weighted F1 score for training set:  1.0\n",
      "\n",
      "Random Forest weighted F1 score for validation set:  0.7725749480167681\n"
     ]
    }
   ],
   "source": [
    "# First I define the Classifier and fit it on the train set\n",
    "forest_clf_1 = RandomForestClassifier(random_state=0, n_estimators=200, bootstrap=True)\n",
    "forest_clf_1.fit(Xe_train_scaled, ye_train)\n",
    "\n",
    "# Now I make predictions both on the train and the validation sets\n",
    "train_pred_1 = forest_clf_1.predict(Xe_train_scaled)\n",
    "val_pred_1 = forest_clf_1.predict(Xe_val_scaled)\n",
    "\n",
    "# Finally I print the F1 score for both cases\n",
    "f1_train_weighted_1 = f1_score(ye_train, train_pred_1, average='weighted')\n",
    "print(\"\\nRandom Forest weighted F1 score for training set: \", f1_train_weighted_1)\n",
    "f1_val_weighted_1 = f1_score(ye_val, val_pred_1, average='weighted')\n",
    "print(\"\\nRandom Forest weighted F1 score for validation set: \", f1_val_weighted_1)"
   ]
  },
  {
   "cell_type": "markdown",
   "id": "79a9f925",
   "metadata": {},
   "source": [
    "We can see that the validation performance increased by roughly 3.3%, while the performance on the train test is fixed at 1.0. This means the system performs slightly better but is still overfitting.\n",
    "\n",
    "This performance has been obtained by simply doubling the n_estimators parameter with respect to the first case. Notice that also other values were tried but did not yield performances as good as these. Also, bootstrap=False was tried but it degraded the performances with respect to boostrap=True."
   ]
  },
  {
   "cell_type": "markdown",
   "id": "64c3f293",
   "metadata": {},
   "source": [
    "The second try can be done by tuning the Decision Tree hyperparameters to try and regularize the classifier in order to reduce the overfitting."
   ]
  },
  {
   "cell_type": "code",
   "execution_count": 43,
   "id": "e43517be",
   "metadata": {},
   "outputs": [
    {
     "name": "stdout",
     "output_type": "stream",
     "text": [
      "\n",
      "Random Forest weighted F1 score for training set:  0.9135342643476694\n",
      "\n",
      "Random Forest weighted F1 score for validation set:  0.7870315041540066\n"
     ]
    }
   ],
   "source": [
    "# First I define the Classifier and fit it on the train set\n",
    "forest_clf_2 = RandomForestClassifier(random_state=0, max_depth=11, min_samples_split=15)\n",
    "forest_clf_2.fit(Xe_train_scaled, ye_train)\n",
    "\n",
    "# Now I make predictions both on the train and the validation sets\n",
    "train_pred_2 = forest_clf_2.predict(Xe_train_scaled)\n",
    "val_pred_2 = forest_clf_2.predict(Xe_val_scaled)\n",
    "\n",
    "# Finally I print the F1 score for both cases\n",
    "f1_train_weighted_2 = f1_score(ye_train, train_pred_2, average='weighted')\n",
    "print(\"\\nRandom Forest weighted F1 score for training set: \", f1_train_weighted_2)\n",
    "f1_val_weighted_2 = f1_score(ye_val, val_pred_2, average='weighted')\n",
    "print(\"\\nRandom Forest weighted F1 score for validation set: \", f1_val_weighted_2)"
   ]
  },
  {
   "cell_type": "markdown",
   "id": "fe6d9472",
   "metadata": {},
   "source": [
    "The result this time has greatly improved with respect to the first case: not only has the performance on the train set decreased and got closer to the performance on the validation set, but also the validation performance has increased by roughly 5.2%.\n",
    "\n",
    "This result has been achieved by decreasing the max_depth parameter, which on average reduces performances on the training set, and increasing the min_samples_split, which slightly increased to performance on the validation set. The other two hyperparameters max_features and min_sample_leaves were initially modified, but did not yield great results in this case."
   ]
  },
  {
   "cell_type": "markdown",
   "id": "e8e22759",
   "metadata": {},
   "source": [
    "A third possible attempt can be smart to exploit an algorithm that automatically tries many different configurations and chooses the best one. This kind of algorithm can work on a random based or using a grid search. The one we implemented selects the possible hyperparameters randomly from a list that we can modify. Obviously, such an algorithm requires a lot of time to be trained, but in the end, should ensure nice performances. Even if the training time will be high, the test time is similar (according to the hyperparameters selected) to the one obtained for any other RandomTree Classifier, because once the optimal parameters are found we do not have to run again the whole process.\n",
    "To avoid overfitting the following algorithm implements cross-validation.\n"
   ]
  },
  {
   "cell_type": "code",
   "execution_count": 44,
   "id": "42af01f5",
   "metadata": {},
   "outputs": [
    {
     "name": "stdout",
     "output_type": "stream",
     "text": [
      "{'n_estimators': [80, 104, 128, 153, 177, 202, 226, 251, 275, 300], 'max_features': ['auto', 'sqrt'], 'max_depth': [10, 11, 12, 13, 14, 15, 16, 17, 18, 20, None], 'min_samples_split': [5, 10, 14, 15, 16, 20], 'min_samples_leaf': [1, 2, 4], 'bootstrap': [True, False]}\n"
     ]
    }
   ],
   "source": [
    "from sklearn.model_selection import RandomizedSearchCV\n",
    "# Number of trees in random forest\n",
    "n_estimators = [int(x) for x in np.linspace(start = 80, stop = 300, num = 10)]\n",
    "# Number of features to consider at every split\n",
    "max_features = ['auto', 'sqrt']\n",
    "# Maximum number of levels in tree\n",
    "max_depth = [int(x) for x in np.linspace(10, 20, num = 10)]\n",
    "max_depth.append(None)\n",
    "# Minimum number of samples required to split a node\n",
    "min_samples_split = [5, 10, 14, 15, 16, 20]\n",
    "# Minimum number of samples required at each leaf node\n",
    "min_samples_leaf = [1, 2, 4]\n",
    "# Method of selecting samples for training each tree\n",
    "bootstrap = [True, False]\n",
    "# Create the random grid\n",
    "random_grid = {'n_estimators': n_estimators,\n",
    "               'max_features': max_features,\n",
    "               'max_depth': max_depth,\n",
    "               'min_samples_split': min_samples_split,\n",
    "               'min_samples_leaf': min_samples_leaf,\n",
    "               'bootstrap': bootstrap}\n",
    "print(random_grid)"
   ]
  },
  {
   "cell_type": "code",
   "execution_count": 45,
   "id": "5af4f1ec",
   "metadata": {},
   "outputs": [
    {
     "name": "stdout",
     "output_type": "stream",
     "text": [
      "Fitting 4 folds for each of 150 candidates, totalling 600 fits\n"
     ]
    },
    {
     "data": {
      "text/plain": [
       "{'n_estimators': 128,\n",
       " 'min_samples_split': 16,\n",
       " 'min_samples_leaf': 2,\n",
       " 'max_features': 'auto',\n",
       " 'max_depth': 12,\n",
       " 'bootstrap': False}"
      ]
     },
     "execution_count": 45,
     "metadata": {},
     "output_type": "execute_result"
    }
   ],
   "source": [
    "# Use the random grid to search for the best hyperparameters\n",
    "\n",
    "# Random search of parameters, using 4 fold cross validation,\n",
    "# search across 150 different combinations, and use all available cores\n",
    "forest_clf_3 = RandomizedSearchCV(estimator = forest_clf, param_distributions = random_grid, n_iter = 150, cv = 4, verbose=2, random_state=42, n_jobs = -1)\n",
    "# Fit the random search model\n",
    "forest_clf_3.fit(Xe_train, ye_train)\n",
    "\n",
    "forest_clf_3.best_params_"
   ]
  },
  {
   "cell_type": "code",
   "execution_count": 46,
   "id": "45aa87a7",
   "metadata": {},
   "outputs": [
    {
     "name": "stdout",
     "output_type": "stream",
     "text": [
      "\n",
      "Random Forest weighted F1 score: on train set 0.9734097430078238\n",
      "\n",
      "Random Forest weighted F1 score: on validation set 0.7716613746916345\n"
     ]
    }
   ],
   "source": [
    "train_pred_3 = forest_clf_3.predict(Xe_train)\n",
    "\n",
    "val_pred_3 = forest_clf_3.predict(Xe_val)\n",
    "\n",
    "f1_train_weighted_3 = f1_score(ye_train, train_pred_3, average='weighted')\n",
    "print(\"\\nRandom Forest weighted F1 score: on train set\", f1_train_weighted_3)\n",
    "\n",
    "f1_val_weighted_3 = f1_score(ye_val, val_pred_3, average='weighted')\n",
    "print(\"\\nRandom Forest weighted F1 score: on validation set\", f1_val_weighted_3)"
   ]
  },
  {
   "cell_type": "markdown",
   "id": "f8651b10",
   "metadata": {},
   "source": [
    "Analysing the above performances we can see that the overfit is still present, but reduced if compared to the starting algorithm. Instead the perfomances are slightly improved."
   ]
  },
  {
   "cell_type": "markdown",
   "id": "8bcf2bd8",
   "metadata": {},
   "source": [
    "###  3.2.3 Models comparison\n",
    "By looking at the performances of the three models it is possible to notice how they all improved the validation set performances with respect to the default case.\n",
    "\n",
    "The first model, however, did not solve the overfitting problem. This problem was tackled much better by the second model that managed to reduce the overfitting problem together with a higher increase in validation performances. Finally, the third method, even if it should be optimized, randomly picks only some of the trials it makes and then chooses the best among them. For this reason it seems that the one it chose still performs worse than the second model.\n",
    "\n",
    "All in all, the second model appears to be the best one among the three and will therefore be chosen for further improvement."
   ]
  },
  {
   "cell_type": "markdown",
   "id": "f9e51298",
   "metadata": {},
   "source": [
    "### 3.2.4 Final model evaluation"
   ]
  },
  {
   "cell_type": "code",
   "execution_count": 47,
   "id": "ccdedc82",
   "metadata": {},
   "outputs": [
    {
     "name": "stdout",
     "output_type": "stream",
     "text": [
      "\n",
      "Random Forest accuracy for test set:  0.725\n",
      "\n",
      "Random Forest confusion matrix for test set: \n",
      " [[95  0  3  2]\n",
      " [31  6  0  0]\n",
      " [ 9  0 29  0]\n",
      " [10  0  0 15]]\n",
      "\n",
      "Random Forest F1 score per label for test set:  [0.7755102  0.27906977 0.82857143 0.71428571]\n",
      "\n",
      "Random Forest weighted F1 score for test set:  0.6860972947318463\n"
     ]
    }
   ],
   "source": [
    "test_pred_2 = forest_clf_2.predict(Xe_test_scaled)\n",
    "\n",
    "acc_test_2 = accuracy_score(ye_test, test_pred_2)\n",
    "print(\"\\nRandom Forest accuracy for test set: \", acc_test_2)\n",
    "cm_test_2 = confusion_matrix(ye_test, test_pred_2)\n",
    "print(\"\\nRandom Forest confusion matrix for test set: \\n\", cm_test_2)\n",
    "f1_test_individual_2 = f1_score(ye_test, test_pred_2, average=None)\n",
    "print(\"\\nRandom Forest F1 score per label for test set: \", f1_test_individual_2)\n",
    "f1_test_weighted_2 = f1_score(ye_test, test_pred_2, average='weighted')\n",
    "print(\"\\nRandom Forest weighted F1 score for test set: \", f1_test_weighted_2)"
   ]
  },
  {
   "cell_type": "markdown",
   "id": "8a0237a5",
   "metadata": {},
   "source": [
    "By evaluating the model on the test set we can see some slight improvements with respect to the first case.\n",
    "\n",
    "First of all the accuracy has increased by 1.4%, which is not really impressive but is still an improvement. Also the F1 score has increased by 1.4% which is a more important improvement since this parameter is more relevant with respect to the accuracy. Notice that also the F1 score for label 1 has slightly increased."
   ]
  },
  {
   "cell_type": "markdown",
   "id": "bbdcb792",
   "metadata": {},
   "source": [
    "Now we can try this classifier on an Earth track to see how it performs."
   ]
  },
  {
   "cell_type": "code",
   "execution_count": 48,
   "id": "dcd003e6",
   "metadata": {},
   "outputs": [
    {
     "name": "stdout",
     "output_type": "stream",
     "text": [
      "Starting simulation for 500 iterations.\n",
      "*** Press ESC key in popup window to stop the simulation! ***\n",
      "\n",
      "Track generation: 1383..1731 -> 348-tiles track\n"
     ]
    },
    {
     "name": "stderr",
     "output_type": "stream",
     "text": [
      "C:\\Users\\gioel\\anaconda3\\envs\\tf2\\lib\\site-packages\\gym\\logger.py:30: UserWarning: \u001b[33mWARN: Box bound precision lowered by casting to float32\u001b[0m\n",
      "  warnings.warn(colorize('%s: %s'%('WARN', msg % args), 'yellow'))\n"
     ]
    },
    {
     "name": "stdout",
     "output_type": "stream",
     "text": [
      "total reward after 29 iterations: 5.745533141210385\n",
      "average reward: 0.1981218324555305\n"
     ]
    }
   ],
   "source": [
    "def f_3_1 (observation):\n",
    "    \n",
    "    obs_fs1 = np.ndarray.flatten(observation)\n",
    "    obs_fs = obs_fs1.reshape(1, -1)\n",
    "    obs_reduced = pca.transform(obs_fs)\n",
    "    action = forest_clf_2.predict(obs_reduced)\n",
    "    return action[0]\n",
    "\n",
    "# running the simulation with the dummy policy\n",
    "rs = run_simulation(f_3_1, render=1, planet_id=0, track_id=0)"
   ]
  },
  {
   "cell_type": "markdown",
   "id": "d5d8f2a0",
   "metadata": {},
   "source": [
    "As can be seen from this simulation, the classifier recognizes well the borders of the circuit, but its F1 score of 0.28 for label 1 prevents the car to accelerate and therefore the performance is very poor in terms of speed."
   ]
  },
  {
   "cell_type": "markdown",
   "id": "9cff8ea2",
   "metadata": {},
   "source": [
    "### 3.2.5 Random Forest with undersampling\n",
    "A technique we can try to implement to improve the performances is the undersampling of the action 'Do-Nothing'. A manual algorithm for undersampling is implemented below."
   ]
  },
  {
   "cell_type": "code",
   "execution_count": 49,
   "id": "52551036",
   "metadata": {},
   "outputs": [
    {
     "name": "stdout",
     "output_type": "stream",
     "text": [
      "The number of sample where the car accelerate are 190\n",
      "The number of sample where the car does nothing are 190\n"
     ]
    }
   ],
   "source": [
    "# Let's save again the date available \n",
    "Xe_initial = X[planet_ids == 0]\n",
    "ye_initial = y[planet_ids == 0]\n",
    "\n",
    "# Now, we subdivide data and labels according to the label\n",
    "X_0 = Xe_initial[ye_initial == 0]\n",
    "y_0 = ye_initial[ye_initial == 0]\n",
    "\n",
    "X_1 = Xe_initial[ye_initial == 1]\n",
    "y_1 = ye_initial[ye_initial == 1]\n",
    "\n",
    "X_2 = Xe_initial[ye_initial == 2]\n",
    "y_2 = ye_initial[ye_initial == 2]\n",
    "\n",
    "X_3 = Xe_initial[ye_initial == 3]\n",
    "y_3 = ye_initial[ye_initial == 3]\n",
    "\n",
    "# We generate an array called 'filtering' that through the boolen indexes will select\n",
    "# only part of the data labelled as 'Do-Nothing'. The number of 'ones' and 'zeros' has\n",
    "# been chosen to obtain a balances number of sample labelled as 'Do-Nothing' and 'Accelerate'\n",
    "ones = np.ones(313)\n",
    "zeros = np.zeros(190)\n",
    "filtering = np.concatenate((ones, zeros), axis=None)\n",
    "\n",
    "\n",
    "from sklearn.utils import shuffle\n",
    "# Shuffle of the data labelled as 'Do-Nothing' to be sure to select from there random samples\n",
    "shuffled_X0, shuffled_y0 = shuffle(X_0, y_0, random_state=0)\n",
    "X_0_undersample = shuffled_X0[filtering == 0]\n",
    "y_0_undersample = shuffled_y0[filtering == 0]\n",
    "\n",
    "\n",
    "print(\"The number of sample where the car accelerate are\", X_1.shape[0])\n",
    "print(\"The number of sample where the car does nothing are\", X_0_undersample.shape[0])\n",
    "\n",
    "# The full data set is recomposed\n",
    "Xe_0 = np.concatenate((X_0_undersample, X_1, X_2, X_3), axis=0)\n",
    "ye_0 = np.concatenate((y_0_undersample, y_1, y_2, y_3), axis=0)\n",
    "\n",
    "# From now on we just implement the same step as before\n",
    "shuffled_Xe_0, shuffled_ye_0 = shuffle(Xe_0, ye_0, random_state=0)\n",
    "\n",
    "\n",
    "from sklearn.model_selection import train_test_split\n",
    "Xe_train_0, Xe_test_0, ye_train_0, ye_test_0 = train_test_split(shuffled_Xe_0, shuffled_ye_0, test_size=0.20, random_state=0)\n",
    "Xe_train_0, Xe_val_0, ye_train_0, ye_val_0 = train_test_split(Xe_train_0, ye_train_0, test_size=0.20, random_state=0)"
   ]
  },
  {
   "cell_type": "markdown",
   "id": "08d10439",
   "metadata": {},
   "source": [
    "Now, we can implement again the best RandomForest previously found."
   ]
  },
  {
   "cell_type": "code",
   "execution_count": 50,
   "id": "da388cfb",
   "metadata": {},
   "outputs": [
    {
     "name": "stdout",
     "output_type": "stream",
     "text": [
      "\n",
      "Random Forest weighted F1 score for training set:  0.9863253444206846\n",
      "\n",
      "Random Forest weighted F1 score for validation set:  0.6517653399232347\n"
     ]
    }
   ],
   "source": [
    "Xe_train_scaled_0 = scaler.fit_transform(Xe_train_0)\n",
    "Xe_val_scaled_0 = scaler.transform(Xe_val_0)\n",
    "Xe_test_scaled_0 = scaler.transform(Xe_test_0)\n",
    "\n",
    "# First I define the Classifier and fit it on the train set\n",
    "forest_clf_2_0 = RandomForestClassifier(random_state=0, max_depth=11, min_samples_split=15)\n",
    "forest_clf_2_0.fit(Xe_train_scaled_0, ye_train_0)\n",
    "\n",
    "# Now I make predictions both on the train and the validation sets\n",
    "train_pred_2_0 = forest_clf_2_0.predict(Xe_train_scaled_0)\n",
    "val_pred_2_0 = forest_clf_2_0.predict(Xe_val_scaled_0)\n",
    "\n",
    "# Finally I print the F1 score for both cases\n",
    "f1_train_weighted_2_0 = f1_score(ye_train_0, train_pred_2_0, average='weighted')\n",
    "print(\"\\nRandom Forest weighted F1 score for training set: \", f1_train_weighted_2_0)\n",
    "f1_val_weighted_2_0 = f1_score(ye_val_0, val_pred_2_0, average='weighted')\n",
    "print(\"\\nRandom Forest weighted F1 score for validation set: \", f1_val_weighted_2_0)"
   ]
  },
  {
   "cell_type": "markdown",
   "id": "2c968f33",
   "metadata": {},
   "source": [
    "Actually, the performances on the validation test are not encouraging, but let's see how it performs on the test dataset:"
   ]
  },
  {
   "cell_type": "code",
   "execution_count": 51,
   "id": "082c8e98",
   "metadata": {},
   "outputs": [
    {
     "name": "stdout",
     "output_type": "stream",
     "text": [
      "\n",
      "Random Forest accuracy for test set:  0.717391304347826\n",
      "\n",
      "Random Forest confusion matrix for test set: \n",
      " [[21 12  6  0]\n",
      " [ 8 27  2  1]\n",
      " [ 3  0 41  0]\n",
      " [ 4  2  1 10]]\n",
      "\n",
      "Random Forest F1 score per label for test set:  [0.56       0.6835443  0.87234043 0.71428571]\n",
      "\n",
      "Random Forest weighted F1 score for test set:  0.7126124594968493\n"
     ]
    }
   ],
   "source": [
    "test_pred_2_0 = forest_clf_2_0.predict(Xe_test_scaled_0)\n",
    "\n",
    "acc_test_2_0 = accuracy_score(ye_test_0, test_pred_2_0)\n",
    "print(\"\\nRandom Forest accuracy for test set: \", acc_test_2_0)\n",
    "cm_test_2_0 = confusion_matrix(ye_test_0, test_pred_2_0)\n",
    "print(\"\\nRandom Forest confusion matrix for test set: \\n\", cm_test_2_0)\n",
    "f1_test_individual_2_0 = f1_score(ye_test_0, test_pred_2_0, average=None)\n",
    "print(\"\\nRandom Forest F1 score per label for test set: \", f1_test_individual_2_0)\n",
    "f1_test_weighted_2_0 = f1_score(ye_test_0, test_pred_2_0, average='weighted')\n",
    "print(\"\\nRandom Forest weighted F1 score for test set: \", f1_test_weighted_2_0)"
   ]
  },
  {
   "cell_type": "markdown",
   "id": "c29a0985",
   "metadata": {},
   "source": [
    "In this case seems that the improvement regarding the performances is great. Not only the F1 score is higher, but the misclassification of the accelerations has been drastically reduced. One more step is needed though, the simulation:"
   ]
  },
  {
   "cell_type": "code",
   "execution_count": 52,
   "id": "1e9c8ad7",
   "metadata": {},
   "outputs": [
    {
     "name": "stdout",
     "output_type": "stream",
     "text": [
      "Starting simulation for 500 iterations.\n",
      "*** Press ESC key in popup window to stop the simulation! ***\n",
      "\n",
      "Track generation: 1103..1381 -> 278-tiles track\n"
     ]
    },
    {
     "name": "stderr",
     "output_type": "stream",
     "text": [
      "C:\\Users\\gioel\\anaconda3\\envs\\tf2\\lib\\site-packages\\gym\\logger.py:30: UserWarning: \u001b[33mWARN: Box bound precision lowered by casting to float32\u001b[0m\n",
      "  warnings.warn(colorize('%s: %s'%('WARN', msg % args), 'yellow'))\n"
     ]
    },
    {
     "name": "stdout",
     "output_type": "stream",
     "text": [
      "total reward after 23 iterations: 8.5303249097473\n",
      "average reward: 0.37088369172814345\n"
     ]
    }
   ],
   "source": [
    "def f_3_0 (observation):\n",
    "    \n",
    "    obs_fs1 = np.ndarray.flatten(observation)\n",
    "    obs_fs = obs_fs1.reshape(1, -1)\n",
    "    obs_reduced = pca.transform(obs_fs)\n",
    "    action = forest_clf_2_0.predict(obs_reduced)\n",
    "    return action[0]\n",
    "\n",
    "rs = run_simulation(f_3_0, render=1, planet_id=0, track_id=3)"
   ]
  },
  {
   "cell_type": "markdown",
   "id": "0fab27d9",
   "metadata": {},
   "source": [
    "Unfortunately, the actual performances are still unsatisfying because the car still does not accelerate correctly."
   ]
  },
  {
   "cell_type": "markdown",
   "id": "3a559be6",
   "metadata": {},
   "source": [
    "### 3.2.6 Neural network re-evaluation\n",
    "Even if in section 3.2 we decided to develop the RandomForest, let's give a chance to the Neural Network (without any tuning) to see if can perform better."
   ]
  },
  {
   "cell_type": "code",
   "execution_count": 53,
   "id": "b900f9d3",
   "metadata": {},
   "outputs": [
    {
     "name": "stdout",
     "output_type": "stream",
     "text": [
      "Starting simulation for 500 iterations.\n",
      "*** Press ESC key in popup window to stop the simulation! ***\n",
      "\n",
      "Track generation: 1383..1731 -> 348-tiles track\n"
     ]
    },
    {
     "name": "stderr",
     "output_type": "stream",
     "text": [
      "C:\\Users\\gioel\\anaconda3\\envs\\tf2\\lib\\site-packages\\gym\\logger.py:30: UserWarning: \u001b[33mWARN: Box bound precision lowered by casting to float32\u001b[0m\n",
      "  warnings.warn(colorize('%s: %s'%('WARN', msg % args), 'yellow'))\n"
     ]
    },
    {
     "name": "stdout",
     "output_type": "stream",
     "text": [
      "total reward after 12 iterations: 7.445533141210379\n",
      "average reward: 0.6204610951008649\n"
     ]
    }
   ],
   "source": [
    "def f_3_2 (observation):\n",
    "    \n",
    "    obs_fs1 = np.ndarray.flatten(observation)\n",
    "    obs_fs = obs_fs1.reshape(1, -1)\n",
    "    obs_reduced = pca.transform(obs_fs)\n",
    "    action = np.argmax(model.predict(obs_reduced), axis=1)\n",
    "    return action[0]\n",
    "\n",
    "rs = run_simulation(f_3_2, render=1, planet_id=0, track_id=0)"
   ]
  },
  {
   "cell_type": "markdown",
   "id": "ac6a0e42",
   "metadata": {},
   "source": [
    "Yes, the Neural Network, even if not tuned, is performing very well! Unfortunately, now we do not have the time to repeat all the steps above for the Neural Network, but the smartest idea is to keep using it as it is way better than the tuned Random Forest.\n",
    "A little tuning process of the Neural Network is done here below.\n",
    "\n",
    "First, we want to see the evaluation of the model before tuning hyperparameters."
   ]
  },
  {
   "cell_type": "code",
   "execution_count": 54,
   "id": "6a11aaa6",
   "metadata": {},
   "outputs": [
    {
     "name": "stdout",
     "output_type": "stream",
     "text": [
      "MLP accuracy:  0.6375\n",
      "MLP confusion matrix: \n",
      " [[63 19  7  5]\n",
      " [13 13  1  0]\n",
      " [ 5  0 17  0]\n",
      " [ 7  1  0  9]]\n",
      "MLP F1 score per label:  [0.69230769 0.43333333 0.72340426 0.58064516]\n",
      "MLP weighted F1 score:  0.641017402724249\n"
     ]
    }
   ],
   "source": [
    "MLP_clf_pred = np.argmax(model.predict(Xe_val), axis=1)\n",
    "                            #\n",
    "mlp_acc = accuracy_score(ye_val, MLP_clf_pred)\n",
    "print(\"MLP accuracy: \", mlp_acc)\n",
    "                            #\n",
    "mlp_cm = confusion_matrix(ye_val, MLP_clf_pred)\n",
    "print(\"MLP confusion matrix: \\n\", mlp_cm)\n",
    "                                #\n",
    "mlp_f1_individual = f1_score(ye_val, MLP_clf_pred, average=None)\n",
    "print(\"MLP F1 score per label: \", mlp_f1_individual)\n",
    "                            #\n",
    "mlp_f1_weighted = f1_score(ye_val, MLP_clf_pred, average='weighted')\n",
    "print(\"MLP weighted F1 score: \", mlp_f1_weighted)"
   ]
  },
  {
   "cell_type": "markdown",
   "id": "eba633c6",
   "metadata": {},
   "source": [
    "Now instead we try and implement an early stopping and increase the number of neurons of the hidden layer."
   ]
  },
  {
   "cell_type": "code",
   "execution_count": 55,
   "id": "fa93fa30",
   "metadata": {},
   "outputs": [
    {
     "name": "stdout",
     "output_type": "stream",
     "text": [
      "Model: \"sequential_1\"\n",
      "_________________________________________________________________\n",
      "Layer (type)                 Output Shape              Param #   \n",
      "=================================================================\n",
      "dense_2 (Dense)              (None, 105)               13755     \n",
      "_________________________________________________________________\n",
      "dense_3 (Dense)              (None, 5)                 530       \n",
      "=================================================================\n",
      "Total params: 14,285\n",
      "Trainable params: 14,285\n",
      "Non-trainable params: 0\n",
      "_________________________________________________________________\n",
      "Epoch 1/100\n",
      "20/20 [==============================] - 0s 8ms/step - loss: 196.1464 - accuracy: 0.3364 - val_loss: 76.5649 - val_accuracy: 0.5625\n",
      "Epoch 2/100\n",
      "20/20 [==============================] - 0s 3ms/step - loss: 62.5275 - accuracy: 0.6412 - val_loss: 60.2200 - val_accuracy: 0.6687\n",
      "Epoch 3/100\n",
      "20/20 [==============================] - 0s 3ms/step - loss: 30.5176 - accuracy: 0.7651 - val_loss: 58.5735 - val_accuracy: 0.6250\n",
      "Epoch 4/100\n",
      "20/20 [==============================] - 0s 3ms/step - loss: 20.0550 - accuracy: 0.7797 - val_loss: 54.6443 - val_accuracy: 0.6187\n",
      "Epoch 5/100\n",
      "20/20 [==============================] - 0s 3ms/step - loss: 11.0906 - accuracy: 0.8310 - val_loss: 54.5358 - val_accuracy: 0.6000\n",
      "Epoch 6/100\n",
      "20/20 [==============================] - 0s 3ms/step - loss: 5.4311 - accuracy: 0.8774 - val_loss: 52.5552 - val_accuracy: 0.6250\n",
      "Epoch 7/100\n",
      "20/20 [==============================] - 0s 3ms/step - loss: 4.3712 - accuracy: 0.8702 - val_loss: 50.3488 - val_accuracy: 0.6750\n",
      "Epoch 8/100\n",
      "20/20 [==============================] - 0s 3ms/step - loss: 3.3801 - accuracy: 0.8952 - val_loss: 50.2571 - val_accuracy: 0.6125\n",
      "Epoch 9/100\n",
      "20/20 [==============================] - 0s 3ms/step - loss: 2.2906 - accuracy: 0.8993 - val_loss: 52.7935 - val_accuracy: 0.6062\n",
      "Epoch 10/100\n",
      "20/20 [==============================] - 0s 3ms/step - loss: 2.7232 - accuracy: 0.9148 - val_loss: 53.0005 - val_accuracy: 0.6187\n",
      "Epoch 11/100\n",
      "20/20 [==============================] - 0s 3ms/step - loss: 1.2171 - accuracy: 0.9509 - val_loss: 50.7683 - val_accuracy: 0.6313\n",
      "Epoch 12/100\n",
      "20/20 [==============================] - 0s 3ms/step - loss: 0.7294 - accuracy: 0.9579 - val_loss: 49.5722 - val_accuracy: 0.6500\n",
      "Epoch 13/100\n",
      "20/20 [==============================] - 0s 3ms/step - loss: 0.8836 - accuracy: 0.9525 - val_loss: 51.6879 - val_accuracy: 0.6438\n",
      "Epoch 14/100\n",
      "20/20 [==============================] - 0s 3ms/step - loss: 0.5868 - accuracy: 0.9678 - val_loss: 53.8768 - val_accuracy: 0.6187\n",
      "Epoch 15/100\n",
      "20/20 [==============================] - 0s 3ms/step - loss: 0.4742 - accuracy: 0.9562 - val_loss: 52.9013 - val_accuracy: 0.6250\n",
      "Epoch 16/100\n",
      "20/20 [==============================] - 0s 3ms/step - loss: 0.5113 - accuracy: 0.9746 - val_loss: 53.3646 - val_accuracy: 0.6438\n",
      "Epoch 17/100\n",
      "20/20 [==============================] - 0s 3ms/step - loss: 0.6830 - accuracy: 0.9603 - val_loss: 52.5582 - val_accuracy: 0.6438\n",
      "Epoch 18/100\n",
      "20/20 [==============================] - 0s 3ms/step - loss: 0.2874 - accuracy: 0.9777 - val_loss: 54.2730 - val_accuracy: 0.6438\n",
      "Epoch 19/100\n",
      "20/20 [==============================] - 0s 3ms/step - loss: 0.4532 - accuracy: 0.9715 - val_loss: 53.2867 - val_accuracy: 0.6062\n",
      "Epoch 20/100\n",
      "20/20 [==============================] - 0s 3ms/step - loss: 0.1513 - accuracy: 0.9806 - val_loss: 54.6653 - val_accuracy: 0.6250\n",
      "Epoch 21/100\n",
      "20/20 [==============================] - 0s 3ms/step - loss: 0.3066 - accuracy: 0.9685 - val_loss: 54.8631 - val_accuracy: 0.6250\n",
      "Epoch 22/100\n",
      "20/20 [==============================] - 0s 3ms/step - loss: 0.3188 - accuracy: 0.9739 - val_loss: 51.5176 - val_accuracy: 0.6313\n"
     ]
    }
   ],
   "source": [
    "model_tuned = keras.models.Sequential()\n",
    "model_tuned.add(keras.layers.Input([130]))\n",
    "model_tuned.add(keras.layers.Dense(105, activation=\"relu\"))\n",
    "model_tuned.add(keras.layers.Dense(5, activation=\"softmax\"))\n",
    "model_tuned.summary()\n",
    "\n",
    "model_tuned.compile(loss=\"sparse_categorical_crossentropy\", optimizer=\"adam\", metrics=[\"accuracy\"])\n",
    "\n",
    "# Implementing early stopping\n",
    "checkpoint_cb = keras.callbacks.ModelCheckpoint(\"my_keras_model.h5\", save_best_only=True)\n",
    "early_stopping_cb = keras.callbacks.EarlyStopping(patience=10, restore_best_weights=True)\n",
    "\n",
    "model_tuned.fit(Xe_train, ye_train, epochs=100, validation_data=(Xe_val, ye_val), callbacks=[checkpoint_cb, early_stopping_cb]);"
   ]
  },
  {
   "cell_type": "code",
   "execution_count": 56,
   "id": "c099a097",
   "metadata": {},
   "outputs": [
    {
     "name": "stdout",
     "output_type": "stream",
     "text": [
      "MLP accuracy:  0.65\n",
      "MLP confusion matrix: \n",
      " [[61 23  5  4  1]\n",
      " [11 14  0  2  0]\n",
      " [ 3  0 19  0  0]\n",
      " [ 6  0  1 10  0]\n",
      " [ 0  0  0  0  0]]\n",
      "MLP F1 score per label:  [0.69714286 0.4375     0.80851064 0.60606061 0.        ]\n",
      "MLP weighted F1 score:  0.6589637057313255\n"
     ]
    }
   ],
   "source": [
    "MLP_tuned_clf_pred = np.argmax(model_tuned.predict(Xe_val), axis=1)\n",
    "                           \n",
    "mlp_tuned_acc = accuracy_score(ye_val, MLP_tuned_clf_pred)\n",
    "print(\"MLP accuracy: \", mlp_tuned_acc)\n",
    "                           \n",
    "mlp_tuned_cm = confusion_matrix(ye_val, MLP_tuned_clf_pred)\n",
    "print(\"MLP confusion matrix: \\n\", mlp_tuned_cm)\n",
    "                             \n",
    "mlp_tuned_f1_individual = f1_score(ye_val, MLP_tuned_clf_pred, average=None)\n",
    "print(\"MLP F1 score per label: \", mlp_tuned_f1_individual)\n",
    "                           \n",
    "mlp_tuned_f1_weighted = f1_score(ye_val, MLP_tuned_clf_pred, average='weighted')\n",
    "print(\"MLP weighted F1 score: \", mlp_tuned_f1_weighted)"
   ]
  },
  {
   "cell_type": "markdown",
   "id": "5d854c86",
   "metadata": {},
   "source": [
    "(Notice that the above performances could slightly change at each simulation).\n",
    "\n",
    "We implemented an early stopping algorithm to avoid overfitting and we modified the number of neurons from 100 to 105. Moreover, the training data used are still the ones undersampled to have the label 0 and label 1 more balanced.\n",
    "\n",
    "We can see that now the performances have slightly increased on the validation set and the computation time has been reduced. \n",
    "\n",
    "We can now run a final simulation."
   ]
  },
  {
   "cell_type": "code",
   "execution_count": 57,
   "id": "365fa2e3",
   "metadata": {},
   "outputs": [
    {
     "name": "stdout",
     "output_type": "stream",
     "text": [
      "Starting simulation for 500 iterations.\n",
      "*** Press ESC key in popup window to stop the simulation! ***\n",
      "\n",
      "Track generation: 1323..1655 -> 332-tiles track\n"
     ]
    },
    {
     "name": "stderr",
     "output_type": "stream",
     "text": [
      "C:\\Users\\gioel\\anaconda3\\envs\\tf2\\lib\\site-packages\\gym\\logger.py:30: UserWarning: \u001b[33mWARN: Box bound precision lowered by casting to float32\u001b[0m\n",
      "  warnings.warn(colorize('%s: %s'%('WARN', msg % args), 'yellow'))\n"
     ]
    },
    {
     "name": "stdout",
     "output_type": "stream",
     "text": [
      "total reward after 12 iterations: 7.863444108761334\n",
      "average reward: 0.6552870090634445\n"
     ]
    }
   ],
   "source": [
    "def f_3_tuned (observation):\n",
    "    \n",
    "    obs_fs1 = np.ndarray.flatten(observation)\n",
    "    obs_fs = obs_fs1.reshape(1, -1)\n",
    "    obs_reduced = pca.transform(obs_fs)\n",
    "    action = np.argmax(model_tuned.predict(obs_reduced), axis=1)\n",
    "    return action[0]\n",
    "\n",
    "rs = run_simulation(f_3_tuned, render=1, planet_id=2, track_id=1)"
   ]
  },
  {
   "cell_type": "markdown",
   "id": "b013829b",
   "metadata": {},
   "source": [
    "The simulation is definetely satisfactory and therefore we can proceed with this classifier."
   ]
  },
  {
   "cell_type": "markdown",
   "id": "0dcdc06e",
   "metadata": {},
   "source": [
    "---\n",
    "\n",
    "# 4. Enabling Generalization (20 points)\n",
    "Now we are going to train and test a single model that is suitable for racing on all planets, i.e., a model that can generalize between planets and even to unseen planets, and that is robust to different colors of the background terrain. The idea is to take the final model you developed above as a starting point and to further develop it further for generalization.\n",
    "\n",
    "The simulator provides you access to Neptune. However, this is to be treated as the test set, i.e., you are only allowed to test your model on it as the very final step. I.e., do not tweak your model after running that environment, you would be overfitting to the test data. Performance on the Neptune environment will NOT influence your grade.\n",
    "\n",
    "1. How can the 3 provided datasets be used to train a model that can generalize, and even more importantly how can they be used to evaluate whether a model can generalize? (Hint: Lecture 2)\n",
    "2. Above you designed features for action classification, evaluate whether that feature is indeed suitable for generalization. If necessary adapt the feature extraction.\n",
    "3. Compare how well models trained just on the data from Earth and models trained on data of multiple planets generalize to unseen planets (using the approach from the first bullet, do *not* use Neptune for this comparison). Make sure that this is a fair comparison, e.g., in terms of the amount and quality of the data.\n",
    "4. Discuss at least 2 methods that can be employed to make your model perform better and be robust to the variations we have in this scenario (methods for any step are fine: data collection, data augmentation, pre-processing, model structure, training, etc.)\n",
    "5. Implement at least one of those methods.\n",
    "6. Evaluate the final model (similar to “Shortlist Promising Models” above) for generalization making use only of data from Earth, Mars, and Saturn.\n",
    "7. Test the final model on the Neptune environment and discuss its performance.\n",
    "8. Save the parameters of your best multi scenario model to your hard drive (use pickle for sklearn or built-in save/load for keras), you will need to be able to reload your model without training in the next step. Be sure to include the saved parameters in your zip file so we can evaluate your best model too, even without rerunning the notebook up to here."
   ]
  },
  {
   "cell_type": "markdown",
   "id": "3fb9ec0b",
   "metadata": {},
   "source": [
    "## 4.1 How to generalize\n",
    "Up to now, both the training and the validation were done on the earth dataset. For this reason, the classifier we have now tuned is very used to the green color of the earth tracks and therefore might not perform well on the two other planets (generalize).\n",
    "\n",
    "To try its performance we now train the classifier on the whole Earth dataset and try and validate it on the Mars and Saturn dataset."
   ]
  },
  {
   "cell_type": "code",
   "execution_count": 58,
   "id": "d922af36",
   "metadata": {},
   "outputs": [
    {
     "name": "stdout",
     "output_type": "stream",
     "text": [
      "Epoch 1/100\n",
      "25/25 [==============================] - 0s 8ms/step - loss: 57.6181 - accuracy: 0.7025 - val_loss: 41.2174 - val_accuracy: 0.7150\n",
      "Epoch 2/100\n",
      "25/25 [==============================] - 0s 3ms/step - loss: 21.6922 - accuracy: 0.7775 - val_loss: 34.7748 - val_accuracy: 0.7600\n",
      "Epoch 3/100\n",
      "25/25 [==============================] - 0s 3ms/step - loss: 12.9263 - accuracy: 0.8562 - val_loss: 33.7234 - val_accuracy: 0.7900\n",
      "Epoch 4/100\n",
      "25/25 [==============================] - 0s 2ms/step - loss: 7.0041 - accuracy: 0.8813 - val_loss: 36.0801 - val_accuracy: 0.7400\n",
      "Epoch 5/100\n",
      "25/25 [==============================] - 0s 2ms/step - loss: 6.1984 - accuracy: 0.8875 - val_loss: 33.3928 - val_accuracy: 0.7550\n",
      "Epoch 6/100\n",
      "25/25 [==============================] - 0s 3ms/step - loss: 3.8094 - accuracy: 0.9225 - val_loss: 35.2745 - val_accuracy: 0.7450\n",
      "Epoch 7/100\n",
      "25/25 [==============================] - 0s 3ms/step - loss: 4.2414 - accuracy: 0.9200 - val_loss: 34.6181 - val_accuracy: 0.7300\n",
      "Epoch 8/100\n",
      "25/25 [==============================] - 0s 3ms/step - loss: 2.4366 - accuracy: 0.9438 - val_loss: 34.7322 - val_accuracy: 0.7600\n",
      "Epoch 9/100\n",
      "25/25 [==============================] - 0s 2ms/step - loss: 1.3359 - accuracy: 0.9663 - val_loss: 34.9080 - val_accuracy: 0.7150\n",
      "Epoch 10/100\n",
      "25/25 [==============================] - 0s 2ms/step - loss: 1.2788 - accuracy: 0.9588 - val_loss: 37.1325 - val_accuracy: 0.7250\n",
      "Epoch 11/100\n",
      "25/25 [==============================] - ETA: 0s - loss: 0.0000e+00 - accuracy: 1.00 - 0s 3ms/step - loss: 0.5098 - accuracy: 0.9663 - val_loss: 35.7190 - val_accuracy: 0.7650\n",
      "Epoch 12/100\n",
      "25/25 [==============================] - 0s 3ms/step - loss: 0.8990 - accuracy: 0.9638 - val_loss: 36.5609 - val_accuracy: 0.7550\n",
      "Epoch 13/100\n",
      "25/25 [==============================] - ETA: 0s - loss: 1.8255 - accuracy: 0.96 - 0s 3ms/step - loss: 1.0170 - accuracy: 0.9600 - val_loss: 38.6674 - val_accuracy: 0.7500\n",
      "Epoch 14/100\n",
      "25/25 [==============================] - 0s 2ms/step - loss: 0.7732 - accuracy: 0.9650 - val_loss: 39.2771 - val_accuracy: 0.7450\n",
      "Epoch 15/100\n",
      "25/25 [==============================] - 0s 3ms/step - loss: 0.8073 - accuracy: 0.9725 - val_loss: 36.5163 - val_accuracy: 0.7600\n",
      "\n",
      "Generalized accuracy for validation set:  0.71\n",
      "\n",
      "Generalized confusion matrix for validation set: \n",
      " [[131  37  11   9   1]\n",
      " [ 29  44   5   7   0]\n",
      " [  7   1  68   0   0]\n",
      " [  6   3   0  41   0]\n",
      " [  0   0   0   0   0]]\n",
      "\n",
      "Generalized F1 score per label for validation set:  [0.72375691 0.51764706 0.85       0.76635514 0.        ]\n",
      "\n",
      "Generalized weighted F1 score for validation set:  0.7092695306449115\n"
     ]
    }
   ],
   "source": [
    "obs_fs_list = []\n",
    "for i in range(observations.shape[0]):\n",
    "    fs = np.ndarray.flatten(observations[i])\n",
    "    obs_fs_list.append(fs)\n",
    "obs_fs = np.array(obs_fs_list)\n",
    "    \n",
    "obs_reduced = feat_extract(obs_fs)\n",
    "\n",
    "shuffled_obs, shuffled_act = shuffle(obs_reduced, actions, random_state=0)\n",
    "\n",
    "X_train_gen = shuffled_obs[planet_ids == 0]\n",
    "y_train_gen = shuffled_act[planet_ids == 0]\n",
    "X_val_gen = shuffled_obs[planet_ids > 0]\n",
    "y_val_gen = shuffled_act[planet_ids > 0]\n",
    "\n",
    "model_tuned.fit(X_train_gen, y_train_gen, epochs=100, validation_split=0.2, callbacks=[checkpoint_cb, early_stopping_cb]);\n",
    "val_pred = np.argmax(model_tuned.predict(X_val_gen), axis=1)\n",
    "\n",
    "acc_val_gen = accuracy_score(y_val_gen, val_pred)\n",
    "print(\"\\nGeneralized accuracy for validation set: \", acc_val_gen)\n",
    "cm_val_gen = confusion_matrix(y_val_gen, val_pred)\n",
    "print(\"\\nGeneralized confusion matrix for validation set: \\n\", cm_val_gen)\n",
    "f1_individual_val_gen = f1_score(y_val_gen, val_pred, average=None)\n",
    "print(\"\\nGeneralized F1 score per label for validation set: \", f1_individual_val_gen)\n",
    "f1_weighted_val_gen = f1_score(y_val_gen, val_pred, average='weighted')\n",
    "print(\"\\nGeneralized weighted F1 score for validation set: \", f1_weighted_val_gen)"
   ]
  },
  {
   "cell_type": "code",
   "execution_count": 59,
   "id": "4051f606",
   "metadata": {},
   "outputs": [
    {
     "name": "stdout",
     "output_type": "stream",
     "text": [
      "Starting simulation for 500 iterations.\n",
      "*** Press ESC key in popup window to stop the simulation! ***\n",
      "\n",
      "Track generation: 1323..1655 -> 332-tiles track\n"
     ]
    },
    {
     "name": "stderr",
     "output_type": "stream",
     "text": [
      "C:\\Users\\gioel\\anaconda3\\envs\\tf2\\lib\\site-packages\\gym\\logger.py:30: UserWarning: \u001b[33mWARN: Box bound precision lowered by casting to float32\u001b[0m\n",
      "  warnings.warn(colorize('%s: %s'%('WARN', msg % args), 'yellow'))\n"
     ]
    },
    {
     "name": "stdout",
     "output_type": "stream",
     "text": [
      "total reward after 12 iterations: 7.863444108761334\n",
      "average reward: 0.6552870090634445\n"
     ]
    }
   ],
   "source": [
    "rs = run_simulation(f_3_tuned, render=1, planet_id=2, track_id=1)"
   ]
  },
  {
   "cell_type": "markdown",
   "id": "ba99f011",
   "metadata": {},
   "source": [
    "We can see that, as expected, the performance is much worse when trying to generalize to other planets (especially for the simulation). In fact, many more labels get misclassified as do nothing."
   ]
  },
  {
   "cell_type": "markdown",
   "id": "2e91631b",
   "metadata": {},
   "source": [
    "## 4.2 Feature extraction adaptation"
   ]
  },
  {
   "cell_type": "markdown",
   "id": "5edc375d",
   "metadata": {},
   "source": [
    "It's easy to imagine that the main problem for the generalization is the color of the tracks. For this reason, an idea to improve the feature extraction may be turning all images from RGB to grayscale. This could reduce the difference in the track background and therefore help the classifier generalize to other planets.\n",
    "\n",
    "First, we want to understand if grayscale pictures can be used."
   ]
  },
  {
   "cell_type": "code",
   "execution_count": 60,
   "id": "4c0e050a",
   "metadata": {},
   "outputs": [
    {
     "data": {
      "text/plain": [
       "<matplotlib.image.AxesImage at 0x24c392af548>"
      ]
     },
     "execution_count": 60,
     "metadata": {},
     "output_type": "execute_result"
    },
    {
     "data": {
      "image/png": "[encoded data removed]",
      "text/plain": [
       "<Figure size 432x288 with 3 Axes>"
      ]
     },
     "metadata": {
      "needs_background": "light"
     },
     "output_type": "display_data"
    }
   ],
   "source": [
    "from skimage.color import rgb2gray\n",
    "gray0 = rgb2gray(obs_p0[0])\n",
    "gray1 = rgb2gray(obs_p1[0])\n",
    "gray2 = rgb2gray(obs_p2[0])\n",
    "\n",
    "plt.subplot(1,3,1)\n",
    "plt.imshow(gray0, cmap=plt.cm.gray)\n",
    "plt.subplot(1,3,2)\n",
    "plt.imshow(gray1, cmap=plt.cm.gray)\n",
    "plt.subplot(1,3,3)\n",
    "plt.imshow(gray2, cmap=plt.cm.gray)"
   ]
  },
  {
   "cell_type": "markdown",
   "id": "1246d5f2",
   "metadata": {},
   "source": [
    "As we can see now the background of the three planets is much more unified, with the street still being visible in all three cases (the worst one being Mars).\n",
    "\n",
    "Now we want to redefine the feat_extract function in order to still keep 130 features."
   ]
  },
  {
   "cell_type": "code",
   "execution_count": 61,
   "id": "54f1de12",
   "metadata": {},
   "outputs": [],
   "source": [
    "def feat_extract_2(obs_fs):\n",
    "    pca = PCA(n_components = 130)\n",
    "    obs_reduced = pca.fit_transform(obs_fs)\n",
    "    return obs_reduced;"
   ]
  },
  {
   "cell_type": "markdown",
   "id": "1a346c62",
   "metadata": {},
   "source": [
    "Now we can add this change to the dataset and try to see the performances again."
   ]
  },
  {
   "cell_type": "code",
   "execution_count": 62,
   "id": "8b326434",
   "metadata": {},
   "outputs": [
    {
     "name": "stdout",
     "output_type": "stream",
     "text": [
      "Epoch 1/100\n",
      "25/25 [==============================] - 0s 5ms/step - loss: 1.2463 - accuracy: 0.4550 - val_loss: 1.2342 - val_accuracy: 0.4750\n",
      "Epoch 2/100\n",
      "25/25 [==============================] - 0s 3ms/step - loss: 1.1958 - accuracy: 0.4888 - val_loss: 1.1962 - val_accuracy: 0.4950\n",
      "Epoch 3/100\n",
      "25/25 [==============================] - 0s 3ms/step - loss: 1.1640 - accuracy: 0.5188 - val_loss: 1.1700 - val_accuracy: 0.5050\n",
      "Epoch 4/100\n",
      "25/25 [==============================] - 0s 3ms/step - loss: 1.1399 - accuracy: 0.5337 - val_loss: 1.1499 - val_accuracy: 0.5200\n",
      "Epoch 5/100\n",
      "25/25 [==============================] - 0s 3ms/step - loss: 1.1212 - accuracy: 0.5387 - val_loss: 1.1331 - val_accuracy: 0.5200\n",
      "Epoch 6/100\n",
      "25/25 [==============================] - 0s 3ms/step - loss: 1.1052 - accuracy: 0.5512 - val_loss: 1.1175 - val_accuracy: 0.5300\n",
      "Epoch 7/100\n",
      "25/25 [==============================] - 0s 2ms/step - loss: 1.0902 - accuracy: 0.5537 - val_loss: 1.1035 - val_accuracy: 0.5300\n",
      "Epoch 8/100\n",
      "25/25 [==============================] - 0s 3ms/step - loss: 1.0776 - accuracy: 0.5537 - val_loss: 1.0913 - val_accuracy: 0.5400\n",
      "Epoch 9/100\n",
      "25/25 [==============================] - 0s 3ms/step - loss: 1.0648 - accuracy: 0.5575 - val_loss: 1.0791 - val_accuracy: 0.5400\n",
      "Epoch 10/100\n",
      "25/25 [==============================] - 0s 3ms/step - loss: 1.0534 - accuracy: 0.5625 - val_loss: 1.0680 - val_accuracy: 0.5400\n",
      "Epoch 11/100\n",
      "25/25 [==============================] - 0s 3ms/step - loss: 1.0428 - accuracy: 0.5650 - val_loss: 1.0578 - val_accuracy: 0.5400\n",
      "Epoch 12/100\n",
      "25/25 [==============================] - 0s 3ms/step - loss: 1.0328 - accuracy: 0.5663 - val_loss: 1.0472 - val_accuracy: 0.5500\n",
      "Epoch 13/100\n",
      "25/25 [==============================] - 0s 3ms/step - loss: 1.0232 - accuracy: 0.5700 - val_loss: 1.0375 - val_accuracy: 0.5550\n",
      "Epoch 14/100\n",
      "25/25 [==============================] - 0s 2ms/step - loss: 1.0141 - accuracy: 0.5725 - val_loss: 1.0290 - val_accuracy: 0.5650\n",
      "Epoch 15/100\n",
      "25/25 [==============================] - 0s 3ms/step - loss: 1.0056 - accuracy: 0.5750 - val_loss: 1.0205 - val_accuracy: 0.5650\n",
      "Epoch 16/100\n",
      "25/25 [==============================] - 0s 3ms/step - loss: 0.9971 - accuracy: 0.5775 - val_loss: 1.0121 - val_accuracy: 0.5650\n",
      "Epoch 17/100\n",
      "25/25 [==============================] - 0s 3ms/step - loss: 0.9891 - accuracy: 0.5838 - val_loss: 1.0039 - val_accuracy: 0.5650\n",
      "Epoch 18/100\n",
      "25/25 [==============================] - 0s 3ms/step - loss: 0.9817 - accuracy: 0.5838 - val_loss: 0.9966 - val_accuracy: 0.5650\n",
      "Epoch 19/100\n",
      "25/25 [==============================] - 0s 3ms/step - loss: 0.9743 - accuracy: 0.5850 - val_loss: 0.9885 - val_accuracy: 0.5750\n",
      "Epoch 20/100\n",
      "25/25 [==============================] - 0s 3ms/step - loss: 0.9671 - accuracy: 0.5863 - val_loss: 0.9824 - val_accuracy: 0.5700\n",
      "Epoch 21/100\n",
      "25/25 [==============================] - 0s 3ms/step - loss: 0.9599 - accuracy: 0.5925 - val_loss: 0.9751 - val_accuracy: 0.5750\n",
      "Epoch 22/100\n",
      "25/25 [==============================] - 0s 3ms/step - loss: 0.9533 - accuracy: 0.5975 - val_loss: 0.9689 - val_accuracy: 0.5700\n",
      "Epoch 23/100\n",
      "25/25 [==============================] - 0s 2ms/step - loss: 0.9468 - accuracy: 0.6000 - val_loss: 0.9625 - val_accuracy: 0.5750\n",
      "Epoch 24/100\n",
      "25/25 [==============================] - 0s 3ms/step - loss: 0.9406 - accuracy: 0.6012 - val_loss: 0.9563 - val_accuracy: 0.5750\n",
      "Epoch 25/100\n",
      "25/25 [==============================] - 0s 3ms/step - loss: 0.9345 - accuracy: 0.6075 - val_loss: 0.9508 - val_accuracy: 0.5750\n",
      "Epoch 26/100\n",
      "25/25 [==============================] - 0s 3ms/step - loss: 0.9285 - accuracy: 0.6137 - val_loss: 0.9448 - val_accuracy: 0.5850\n",
      "Epoch 27/100\n",
      "25/25 [==============================] - 0s 3ms/step - loss: 0.9228 - accuracy: 0.6150 - val_loss: 0.9395 - val_accuracy: 0.5850\n",
      "Epoch 28/100\n",
      "25/25 [==============================] - 0s 3ms/step - loss: 0.9171 - accuracy: 0.6162 - val_loss: 0.9343 - val_accuracy: 0.5850\n",
      "Epoch 29/100\n",
      "25/25 [==============================] - 0s 3ms/step - loss: 0.9119 - accuracy: 0.6187 - val_loss: 0.9295 - val_accuracy: 0.5850\n",
      "Epoch 30/100\n",
      "25/25 [==============================] - 0s 2ms/step - loss: 0.9065 - accuracy: 0.6225 - val_loss: 0.9236 - val_accuracy: 0.5950\n",
      "Epoch 31/100\n",
      "25/25 [==============================] - 0s 3ms/step - loss: 0.9010 - accuracy: 0.6288 - val_loss: 0.9191 - val_accuracy: 0.5950\n",
      "Epoch 32/100\n",
      "25/25 [==============================] - 0s 3ms/step - loss: 0.8960 - accuracy: 0.6288 - val_loss: 0.9139 - val_accuracy: 0.5950\n",
      "Epoch 33/100\n",
      "25/25 [==============================] - 0s 3ms/step - loss: 0.8914 - accuracy: 0.6313 - val_loss: 0.9097 - val_accuracy: 0.5950\n",
      "Epoch 34/100\n",
      "25/25 [==============================] - 0s 2ms/step - loss: 0.8862 - accuracy: 0.6325 - val_loss: 0.9044 - val_accuracy: 0.5950\n",
      "Epoch 35/100\n",
      "25/25 [==============================] - 0s 3ms/step - loss: 0.8815 - accuracy: 0.6325 - val_loss: 0.9003 - val_accuracy: 0.5950\n",
      "Epoch 36/100\n",
      "25/25 [==============================] - 0s 3ms/step - loss: 0.8768 - accuracy: 0.6350 - val_loss: 0.8958 - val_accuracy: 0.6050\n",
      "Epoch 37/100\n",
      "25/25 [==============================] - 0s 3ms/step - loss: 0.8722 - accuracy: 0.6363 - val_loss: 0.8916 - val_accuracy: 0.6000\n",
      "Epoch 38/100\n",
      "25/25 [==============================] - 0s 3ms/step - loss: 0.8677 - accuracy: 0.6363 - val_loss: 0.8872 - val_accuracy: 0.6100\n",
      "Epoch 39/100\n",
      "25/25 [==============================] - 0s 3ms/step - loss: 0.8633 - accuracy: 0.6388 - val_loss: 0.8830 - val_accuracy: 0.6150\n",
      "Epoch 40/100\n",
      "25/25 [==============================] - 0s 3ms/step - loss: 0.8591 - accuracy: 0.6425 - val_loss: 0.8792 - val_accuracy: 0.6200\n",
      "Epoch 41/100\n",
      "25/25 [==============================] - 0s 3ms/step - loss: 0.8548 - accuracy: 0.6438 - val_loss: 0.8758 - val_accuracy: 0.6150\n",
      "Epoch 42/100\n",
      "25/25 [==============================] - 0s 3ms/step - loss: 0.8508 - accuracy: 0.6413 - val_loss: 0.8717 - val_accuracy: 0.6200\n",
      "Epoch 43/100\n",
      "25/25 [==============================] - 0s 3ms/step - loss: 0.8468 - accuracy: 0.6488 - val_loss: 0.8674 - val_accuracy: 0.6200\n",
      "Epoch 44/100\n",
      "25/25 [==============================] - 0s 3ms/step - loss: 0.8427 - accuracy: 0.6500 - val_loss: 0.8645 - val_accuracy: 0.6250\n",
      "Epoch 45/100\n",
      "25/25 [==============================] - 0s 3ms/step - loss: 0.8387 - accuracy: 0.6500 - val_loss: 0.8607 - val_accuracy: 0.6300\n",
      "Epoch 46/100\n",
      "25/25 [==============================] - 0s 3ms/step - loss: 0.8348 - accuracy: 0.6500 - val_loss: 0.8573 - val_accuracy: 0.6350\n",
      "Epoch 47/100\n",
      "25/25 [==============================] - 0s 3ms/step - loss: 0.8312 - accuracy: 0.6562 - val_loss: 0.8534 - val_accuracy: 0.6500\n",
      "Epoch 48/100\n",
      "25/25 [==============================] - 0s 3ms/step - loss: 0.8275 - accuracy: 0.6575 - val_loss: 0.8501 - val_accuracy: 0.6500\n",
      "Epoch 49/100\n",
      "25/25 [==============================] - 0s 2ms/step - loss: 0.8238 - accuracy: 0.6587 - val_loss: 0.8471 - val_accuracy: 0.6500\n",
      "Epoch 50/100\n",
      "25/25 [==============================] - 0s 3ms/step - loss: 0.8202 - accuracy: 0.6600 - val_loss: 0.8437 - val_accuracy: 0.6550\n",
      "Epoch 51/100\n",
      "25/25 [==============================] - 0s 3ms/step - loss: 0.8170 - accuracy: 0.6625 - val_loss: 0.8408 - val_accuracy: 0.6550\n",
      "Epoch 52/100\n",
      "25/25 [==============================] - 0s 3ms/step - loss: 0.8135 - accuracy: 0.6600 - val_loss: 0.8372 - val_accuracy: 0.6600\n",
      "Epoch 53/100\n",
      "25/25 [==============================] - 0s 3ms/step - loss: 0.8098 - accuracy: 0.6612 - val_loss: 0.8348 - val_accuracy: 0.6600\n",
      "Epoch 54/100\n",
      "25/25 [==============================] - 0s 3ms/step - loss: 0.8068 - accuracy: 0.6625 - val_loss: 0.8313 - val_accuracy: 0.6600\n",
      "Epoch 55/100\n",
      "25/25 [==============================] - 0s 3ms/step - loss: 0.8035 - accuracy: 0.6700 - val_loss: 0.8287 - val_accuracy: 0.6600\n",
      "Epoch 56/100\n",
      "25/25 [==============================] - 0s 3ms/step - loss: 0.8004 - accuracy: 0.6675 - val_loss: 0.8262 - val_accuracy: 0.6600\n",
      "Epoch 57/100\n",
      "25/25 [==============================] - 0s 3ms/step - loss: 0.7972 - accuracy: 0.6687 - val_loss: 0.8233 - val_accuracy: 0.6600\n",
      "Epoch 58/100\n",
      "25/25 [==============================] - 0s 3ms/step - loss: 0.7942 - accuracy: 0.6700 - val_loss: 0.8203 - val_accuracy: 0.6600\n"
     ]
    },
    {
     "name": "stdout",
     "output_type": "stream",
     "text": [
      "Epoch 59/100\n",
      "25/25 [==============================] - 0s 3ms/step - loss: 0.7911 - accuracy: 0.6700 - val_loss: 0.8173 - val_accuracy: 0.6600\n",
      "Epoch 60/100\n",
      "25/25 [==============================] - 0s 3ms/step - loss: 0.7880 - accuracy: 0.6700 - val_loss: 0.8151 - val_accuracy: 0.6650\n",
      "Epoch 61/100\n",
      "25/25 [==============================] - 0s 3ms/step - loss: 0.7851 - accuracy: 0.6700 - val_loss: 0.8123 - val_accuracy: 0.6700\n",
      "Epoch 62/100\n",
      "25/25 [==============================] - 0s 3ms/step - loss: 0.7824 - accuracy: 0.6712 - val_loss: 0.8098 - val_accuracy: 0.6700\n",
      "Epoch 63/100\n",
      "25/25 [==============================] - 0s 3ms/step - loss: 0.7794 - accuracy: 0.6712 - val_loss: 0.8072 - val_accuracy: 0.6700\n",
      "Epoch 64/100\n",
      "25/25 [==============================] - 0s 3ms/step - loss: 0.7765 - accuracy: 0.6712 - val_loss: 0.8048 - val_accuracy: 0.6750\n",
      "Epoch 65/100\n",
      "25/25 [==============================] - 0s 3ms/step - loss: 0.7739 - accuracy: 0.6700 - val_loss: 0.8027 - val_accuracy: 0.6750\n",
      "Epoch 66/100\n",
      "25/25 [==============================] - 0s 3ms/step - loss: 0.7710 - accuracy: 0.6675 - val_loss: 0.7995 - val_accuracy: 0.6800\n",
      "Epoch 67/100\n",
      "25/25 [==============================] - 0s 3ms/step - loss: 0.7684 - accuracy: 0.6712 - val_loss: 0.7970 - val_accuracy: 0.6800\n",
      "Epoch 68/100\n",
      "25/25 [==============================] - 0s 3ms/step - loss: 0.7654 - accuracy: 0.6737 - val_loss: 0.7950 - val_accuracy: 0.6800\n",
      "Epoch 69/100\n",
      "25/25 [==============================] - 0s 3ms/step - loss: 0.7629 - accuracy: 0.6725 - val_loss: 0.7927 - val_accuracy: 0.6850\n",
      "Epoch 70/100\n",
      "25/25 [==============================] - 0s 3ms/step - loss: 0.7601 - accuracy: 0.6737 - val_loss: 0.7900 - val_accuracy: 0.6850\n",
      "Epoch 71/100\n",
      "25/25 [==============================] - 0s 3ms/step - loss: 0.7573 - accuracy: 0.6737 - val_loss: 0.7877 - val_accuracy: 0.6850\n",
      "Epoch 72/100\n",
      "25/25 [==============================] - 0s 3ms/step - loss: 0.7551 - accuracy: 0.6750 - val_loss: 0.7862 - val_accuracy: 0.6850\n",
      "Epoch 73/100\n",
      "25/25 [==============================] - 0s 3ms/step - loss: 0.7524 - accuracy: 0.6787 - val_loss: 0.7836 - val_accuracy: 0.6850\n",
      "Epoch 74/100\n",
      "25/25 [==============================] - 0s 3ms/step - loss: 0.7495 - accuracy: 0.6837 - val_loss: 0.7813 - val_accuracy: 0.6850\n",
      "Epoch 75/100\n",
      "25/25 [==============================] - 0s 3ms/step - loss: 0.7470 - accuracy: 0.6862 - val_loss: 0.7793 - val_accuracy: 0.6850\n",
      "Epoch 76/100\n",
      "25/25 [==============================] - 0s 3ms/step - loss: 0.7446 - accuracy: 0.6888 - val_loss: 0.7772 - val_accuracy: 0.6850\n",
      "Epoch 77/100\n",
      "25/25 [==============================] - 0s 3ms/step - loss: 0.7419 - accuracy: 0.6888 - val_loss: 0.7754 - val_accuracy: 0.6850\n",
      "Epoch 78/100\n",
      "25/25 [==============================] - 0s 3ms/step - loss: 0.7393 - accuracy: 0.6888 - val_loss: 0.7730 - val_accuracy: 0.6850\n",
      "Epoch 79/100\n",
      "25/25 [==============================] - 0s 3ms/step - loss: 0.7369 - accuracy: 0.6900 - val_loss: 0.7716 - val_accuracy: 0.6850\n",
      "Epoch 80/100\n",
      "25/25 [==============================] - 0s 3ms/step - loss: 0.7345 - accuracy: 0.6925 - val_loss: 0.7690 - val_accuracy: 0.6900\n",
      "Epoch 81/100\n",
      "25/25 [==============================] - 0s 3ms/step - loss: 0.7321 - accuracy: 0.6975 - val_loss: 0.7664 - val_accuracy: 0.6900\n",
      "Epoch 82/100\n",
      "25/25 [==============================] - 0s 3ms/step - loss: 0.7296 - accuracy: 0.6950 - val_loss: 0.7654 - val_accuracy: 0.6900\n",
      "Epoch 83/100\n",
      "25/25 [==============================] - 0s 3ms/step - loss: 0.7272 - accuracy: 0.6963 - val_loss: 0.7627 - val_accuracy: 0.6950\n",
      "Epoch 84/100\n",
      "25/25 [==============================] - 0s 3ms/step - loss: 0.7249 - accuracy: 0.7000 - val_loss: 0.7614 - val_accuracy: 0.6900\n",
      "Epoch 85/100\n",
      "25/25 [==============================] - 0s 4ms/step - loss: 0.7223 - accuracy: 0.7000 - val_loss: 0.7587 - val_accuracy: 0.6950\n",
      "Epoch 86/100\n",
      "25/25 [==============================] - 0s 4ms/step - loss: 0.7198 - accuracy: 0.7000 - val_loss: 0.7574 - val_accuracy: 0.6950\n",
      "Epoch 87/100\n",
      "25/25 [==============================] - 0s 3ms/step - loss: 0.7174 - accuracy: 0.7038 - val_loss: 0.7554 - val_accuracy: 0.6950\n",
      "Epoch 88/100\n",
      "25/25 [==============================] - 0s 3ms/step - loss: 0.7152 - accuracy: 0.7038 - val_loss: 0.7538 - val_accuracy: 0.6950\n",
      "Epoch 89/100\n",
      "25/25 [==============================] - 0s 3ms/step - loss: 0.7132 - accuracy: 0.7038 - val_loss: 0.7512 - val_accuracy: 0.6950\n",
      "Epoch 90/100\n",
      "25/25 [==============================] - 0s 4ms/step - loss: 0.7107 - accuracy: 0.7050 - val_loss: 0.7505 - val_accuracy: 0.6950\n",
      "Epoch 91/100\n",
      "25/25 [==============================] - 0s 4ms/step - loss: 0.7085 - accuracy: 0.7063 - val_loss: 0.7478 - val_accuracy: 0.7000\n",
      "Epoch 92/100\n",
      "25/25 [==============================] - 0s 3ms/step - loss: 0.7061 - accuracy: 0.7063 - val_loss: 0.7466 - val_accuracy: 0.7000\n",
      "Epoch 93/100\n",
      "25/25 [==============================] - 0s 4ms/step - loss: 0.7041 - accuracy: 0.7063 - val_loss: 0.7441 - val_accuracy: 0.7000\n",
      "Epoch 94/100\n",
      "25/25 [==============================] - 0s 4ms/step - loss: 0.7015 - accuracy: 0.7063 - val_loss: 0.7433 - val_accuracy: 0.7000\n",
      "Epoch 95/100\n",
      "25/25 [==============================] - 0s 3ms/step - loss: 0.6992 - accuracy: 0.7088 - val_loss: 0.7416 - val_accuracy: 0.7000\n",
      "Epoch 96/100\n",
      "25/25 [==============================] - 0s 4ms/step - loss: 0.6970 - accuracy: 0.7100 - val_loss: 0.7398 - val_accuracy: 0.7050\n",
      "Epoch 97/100\n",
      "25/25 [==============================] - 0s 4ms/step - loss: 0.6947 - accuracy: 0.7113 - val_loss: 0.7380 - val_accuracy: 0.7100\n",
      "Epoch 98/100\n",
      "25/25 [==============================] - 0s 4ms/step - loss: 0.6925 - accuracy: 0.7138 - val_loss: 0.7362 - val_accuracy: 0.7100\n",
      "Epoch 99/100\n",
      "25/25 [==============================] - 0s 3ms/step - loss: 0.6902 - accuracy: 0.7150 - val_loss: 0.7348 - val_accuracy: 0.7100\n",
      "Epoch 100/100\n",
      "25/25 [==============================] - 0s 3ms/step - loss: 0.6882 - accuracy: 0.7150 - val_loss: 0.7329 - val_accuracy: 0.7150\n",
      "\n",
      "Generalized accuracy for validation set:  0.6825\n",
      "\n",
      "Generalized confusion matrix for validation set: \n",
      " [[164   5  14   6]\n",
      " [ 76   8   1   0]\n",
      " [ 12   0  64   0]\n",
      " [ 13   0   0  37]]\n",
      "\n",
      "Generalized F1 score per label for validation set:  [0.72246696 0.16326531 0.82580645 0.79569892]\n",
      "\n",
      "Generalized weighted F1 score for validation set:  0.6324251077153896\n"
     ]
    }
   ],
   "source": [
    "obs_gray = rgb2gray(observations)\n",
    "\n",
    "obs_fs_list = []\n",
    "for i in range(obs_gray.shape[0]):\n",
    "    fs = np.ndarray.flatten(obs_gray[i])\n",
    "    obs_fs_list.append(fs)\n",
    "obs_fs = np.array(obs_fs_list)\n",
    "    \n",
    "obs_reduced = feat_extract_2(obs_fs)\n",
    "\n",
    "shuffled_obs, shuffled_act = shuffle(obs_reduced, actions, random_state=0)\n",
    "\n",
    "X_train_gen = shuffled_obs[planet_ids == 0]\n",
    "y_train_gen = shuffled_act[planet_ids == 0]\n",
    "X_val_gen = shuffled_obs[planet_ids > 0]\n",
    "y_val_gen = shuffled_act[planet_ids > 0]\n",
    "\n",
    "model_tuned.fit(X_train_gen, y_train_gen, epochs=100, validation_split=0.2, callbacks=[checkpoint_cb, early_stopping_cb]);\n",
    "val_pred = np.argmax(model_tuned.predict(X_val_gen), axis=1)\n",
    "\n",
    "acc_val_gen = accuracy_score(y_val_gen, val_pred)\n",
    "print(\"\\nGeneralized accuracy for validation set: \", acc_val_gen)\n",
    "cm_val_gen = confusion_matrix(y_val_gen, val_pred)\n",
    "print(\"\\nGeneralized confusion matrix for validation set: \\n\", cm_val_gen)\n",
    "f1_individual_val_gen = f1_score(y_val_gen, val_pred, average=None)\n",
    "print(\"\\nGeneralized F1 score per label for validation set: \", f1_individual_val_gen)\n",
    "f1_weighted_val_gen = f1_score(y_val_gen, val_pred, average='weighted')\n",
    "print(\"\\nGeneralized weighted F1 score for validation set: \", f1_weighted_val_gen)"
   ]
  },
  {
   "cell_type": "markdown",
   "id": "1a9ee2b9",
   "metadata": {},
   "source": [
    "Unfortunately, the performances do not improve significantly with respect to when we were working with RGB images, so this technique is not really useful."
   ]
  },
  {
   "cell_type": "markdown",
   "id": "a90310a9",
   "metadata": {},
   "source": [
    "## 4.3 Training comparison\n",
    "As we said, the previous classifier was only trained on Earth and validated on Mars and Saturn. Now we want to try and train on two different plants to see if the performance improves. Therefore we will take Earth and Mars as train datasets and only Saturn as validation set. Notice that, to make the comparison fair, we need to take out 200 samples from the Earth dataset in order to \"make space\" for the 200 samples from Mars and have once again 1000 samples for the training set."
   ]
  },
  {
   "cell_type": "code",
   "execution_count": 63,
   "id": "e8b7290d",
   "metadata": {},
   "outputs": [
    {
     "name": "stdout",
     "output_type": "stream",
     "text": [
      "Epoch 1/100\n",
      "25/25 [==============================] - 0s 6ms/step - loss: 103.8888 - accuracy: 0.6000 - val_loss: 91.1693 - val_accuracy: 0.6550\n",
      "Epoch 2/100\n",
      "25/25 [==============================] - 0s 4ms/step - loss: 49.2925 - accuracy: 0.7538 - val_loss: 81.8498 - val_accuracy: 0.6350\n",
      "Epoch 3/100\n",
      "25/25 [==============================] - 0s 4ms/step - loss: 29.2267 - accuracy: 0.8062 - val_loss: 69.6513 - val_accuracy: 0.6800\n",
      "Epoch 4/100\n",
      "25/25 [==============================] - 0s 4ms/step - loss: 14.2387 - accuracy: 0.8587 - val_loss: 51.9078 - val_accuracy: 0.6700\n",
      "Epoch 5/100\n",
      "25/25 [==============================] - 0s 4ms/step - loss: 8.5248 - accuracy: 0.8900 - val_loss: 51.9223 - val_accuracy: 0.6600\n",
      "Epoch 6/100\n",
      "25/25 [==============================] - 0s 4ms/step - loss: 5.5957 - accuracy: 0.9000 - val_loss: 50.4275 - val_accuracy: 0.6550\n",
      "Epoch 7/100\n",
      "25/25 [==============================] - 0s 4ms/step - loss: 4.5426 - accuracy: 0.9275 - val_loss: 50.9592 - val_accuracy: 0.6650\n",
      "Epoch 8/100\n",
      "25/25 [==============================] - 0s 4ms/step - loss: 3.6669 - accuracy: 0.9275 - val_loss: 51.3194 - val_accuracy: 0.6650\n",
      "Epoch 9/100\n",
      "25/25 [==============================] - 0s 4ms/step - loss: 3.9516 - accuracy: 0.9275 - val_loss: 55.1822 - val_accuracy: 0.7150\n",
      "Epoch 10/100\n",
      "25/25 [==============================] - 0s 3ms/step - loss: 2.5235 - accuracy: 0.9438 - val_loss: 51.0022 - val_accuracy: 0.7000\n",
      "Epoch 11/100\n",
      "25/25 [==============================] - 0s 4ms/step - loss: 2.4570 - accuracy: 0.9413 - val_loss: 57.3607 - val_accuracy: 0.6400\n",
      "Epoch 12/100\n",
      "25/25 [==============================] - 0s 3ms/step - loss: 1.6627 - accuracy: 0.9538 - val_loss: 50.4454 - val_accuracy: 0.6950\n",
      "Epoch 13/100\n",
      "25/25 [==============================] - 0s 3ms/step - loss: 2.1421 - accuracy: 0.9513 - val_loss: 56.2928 - val_accuracy: 0.6800\n",
      "Epoch 14/100\n",
      "25/25 [==============================] - 0s 3ms/step - loss: 2.2289 - accuracy: 0.9450 - val_loss: 52.1904 - val_accuracy: 0.6750\n",
      "Epoch 15/100\n",
      "25/25 [==============================] - 0s 4ms/step - loss: 1.6538 - accuracy: 0.9725 - val_loss: 53.9391 - val_accuracy: 0.6800\n",
      "Epoch 16/100\n",
      "25/25 [==============================] - 0s 3ms/step - loss: 0.9699 - accuracy: 0.9613 - val_loss: 53.2936 - val_accuracy: 0.6800\n",
      "\n",
      "Generalized accuracy for validation set:  0.65\n",
      "\n",
      "Generalized confusion matrix for validation set: \n",
      " [[64 23  2  7]\n",
      " [14 18  1  2]\n",
      " [ 9  4 25  0]\n",
      " [ 7  1  0 23]]\n",
      "\n",
      "Generalized F1 score per label for validation set:  [0.67368421 0.44444444 0.75757576 0.73015873]\n",
      "\n",
      "Generalized weighted F1 score for validation set:  0.6582601959444065\n"
     ]
    }
   ],
   "source": [
    "observations_reduced = observations[200:]\n",
    "actions_reduced = actions[200:]\n",
    "planet_ids_reduced = planet_ids[200:]\n",
    "\n",
    "obs_fs_list = []\n",
    "for i in range(observations_reduced.shape[0]):\n",
    "    fs = np.ndarray.flatten(observations_reduced[i])\n",
    "    obs_fs_list.append(fs)\n",
    "obs_fs = np.array(obs_fs_list)\n",
    "    \n",
    "obs_reduced = feat_extract_2(obs_fs)\n",
    "\n",
    "shuffled_obs, shuffled_act = shuffle(obs_reduced, actions_reduced, random_state=0)\n",
    "\n",
    "X_train_gen = shuffled_obs[planet_ids_reduced < 2]\n",
    "y_train_gen = shuffled_act[planet_ids_reduced < 2]\n",
    "X_val_gen = shuffled_obs[planet_ids_reduced == 2]\n",
    "y_val_gen = shuffled_act[planet_ids_reduced == 2]\n",
    "\n",
    "model_tuned.fit(X_train_gen, y_train_gen, epochs=100, validation_split=0.2, callbacks=[checkpoint_cb, early_stopping_cb]);\n",
    "val_pred = np.argmax(model_tuned.predict(X_val_gen), axis=1)\n",
    "\n",
    "acc_val_gen = accuracy_score(y_val_gen, val_pred)\n",
    "print(\"\\nGeneralized accuracy for validation set: \", acc_val_gen)\n",
    "cm_val_gen = confusion_matrix(y_val_gen, val_pred)\n",
    "print(\"\\nGeneralized confusion matrix for validation set: \\n\", cm_val_gen)\n",
    "f1_individual_val_gen = f1_score(y_val_gen, val_pred, average=None)\n",
    "print(\"\\nGeneralized F1 score per label for validation set: \", f1_individual_val_gen)\n",
    "f1_weighted_val_gen = f1_score(y_val_gen, val_pred, average='weighted')\n",
    "print(\"\\nGeneralized weighted F1 score for validation set: \", f1_weighted_val_gen)"
   ]
  },
  {
   "cell_type": "code",
   "execution_count": 64,
   "id": "ac67d969",
   "metadata": {},
   "outputs": [
    {
     "name": "stdout",
     "output_type": "stream",
     "text": [
      "Starting simulation for 500 iterations.\n",
      "*** Press ESC key in popup window to stop the simulation! ***\n",
      "\n",
      "Track generation: 1262..1568 -> 306-tiles track\n"
     ]
    },
    {
     "name": "stderr",
     "output_type": "stream",
     "text": [
      "C:\\Users\\gioel\\anaconda3\\envs\\tf2\\lib\\site-packages\\gym\\logger.py:30: UserWarning: \u001b[33mWARN: Box bound precision lowered by casting to float32\u001b[0m\n",
      "  warnings.warn(colorize('%s: %s'%('WARN', msg % args), 'yellow'))\n"
     ]
    },
    {
     "name": "stdout",
     "output_type": "stream",
     "text": [
      "total reward after 33 iterations: 13.093442622950832\n",
      "average reward: 0.3967709885742676\n"
     ]
    }
   ],
   "source": [
    "rs = run_simulation(f_3_tuned, render=1, planet_id=2, track_id=0)"
   ]
  },
  {
   "cell_type": "markdown",
   "id": "9e1325fd",
   "metadata": {},
   "source": [
    "Even though the F1 score doesn't seem to improve so much, by running the simulation we can see how the classifier now generalizes better on other planets."
   ]
  },
  {
   "cell_type": "markdown",
   "id": "a3ecd607",
   "metadata": {},
   "source": [
    "## 4.4 Improvement methods\n",
    "In section 1 we noticed how the dataset is unbalanced in terms of planets: we have 1000 samples from Earth, 200 from Mars and 200 from Saturn. This obviously makes the classifier get more used to Earth when training and therefore has some difficulties generalizing. A way to take care of this problem would be recording more samples from Mars and Saturn so that the classifier can adapt more to changes in colors and therefore be more flexible when dealing with new planets.\n",
    "\n",
    "Another improvement that can be applied would be trying to reduce the features of the dataset. It does sound counterintuitive, but maybe with this operation the importance of colors in the training of the classifier would be less and therefore it could generalize better on the different planets."
   ]
  },
  {
   "cell_type": "markdown",
   "id": "437eb70b",
   "metadata": {},
   "source": [
    "## 4.5 Applying the improvement"
   ]
  },
  {
   "cell_type": "markdown",
   "id": "aa27727c",
   "metadata": {},
   "source": [
    "We will now try and implement the second approach we talked about in the previous section.\n",
    "\n",
    "We now need to create another function for feature extraction."
   ]
  },
  {
   "cell_type": "code",
   "execution_count": 65,
   "id": "14491598",
   "metadata": {},
   "outputs": [],
   "source": [
    "def feat_extract_3(obs_fs):\n",
    "    pca_80 = PCA(n_components = 80)\n",
    "    obs_reduced = pca_80.fit_transform(obs_fs)\n",
    "    return obs_reduced;"
   ]
  },
  {
   "cell_type": "markdown",
   "id": "24bd0c25",
   "metadata": {},
   "source": [
    "We tried reducing the final features from 130 to 80.\n",
    "\n",
    "Now we want to test the results using both extractors."
   ]
  },
  {
   "cell_type": "code",
   "execution_count": 66,
   "id": "0ddcbd18",
   "metadata": {},
   "outputs": [
    {
     "name": "stdout",
     "output_type": "stream",
     "text": [
      "Epoch 1/100\n",
      "25/25 [==============================] - 0s 6ms/step - loss: 22.1880 - accuracy: 0.7812 - val_loss: 71.1528 - val_accuracy: 0.6050\n",
      "Epoch 2/100\n",
      "25/25 [==============================] - 0s 4ms/step - loss: 11.2558 - accuracy: 0.8500 - val_loss: 69.3926 - val_accuracy: 0.6300\n",
      "Epoch 3/100\n",
      "25/25 [==============================] - 0s 4ms/step - loss: 5.7361 - accuracy: 0.9062 - val_loss: 64.9438 - val_accuracy: 0.6550\n",
      "Epoch 4/100\n",
      "25/25 [==============================] - 0s 3ms/step - loss: 3.1309 - accuracy: 0.9250 - val_loss: 63.7507 - val_accuracy: 0.6300\n",
      "Epoch 5/100\n",
      "25/25 [==============================] - 0s 3ms/step - loss: 5.1603 - accuracy: 0.9087 - val_loss: 66.5243 - val_accuracy: 0.6350\n",
      "Epoch 6/100\n",
      "25/25 [==============================] - 0s 4ms/step - loss: 3.5853 - accuracy: 0.9300 - val_loss: 67.6511 - val_accuracy: 0.6600\n",
      "Epoch 7/100\n",
      "25/25 [==============================] - 0s 3ms/step - loss: 2.2044 - accuracy: 0.9600 - val_loss: 62.3459 - val_accuracy: 0.6850\n",
      "Epoch 8/100\n",
      "25/25 [==============================] - 0s 3ms/step - loss: 1.2095 - accuracy: 0.9675 - val_loss: 61.8625 - val_accuracy: 0.6400\n",
      "Epoch 9/100\n",
      "25/25 [==============================] - 0s 3ms/step - loss: 0.8951 - accuracy: 0.9737 - val_loss: 65.3894 - val_accuracy: 0.6500\n",
      "Epoch 10/100\n",
      "25/25 [==============================] - 0s 3ms/step - loss: 0.8302 - accuracy: 0.9737 - val_loss: 65.2516 - val_accuracy: 0.6500\n",
      "Epoch 11/100\n",
      "25/25 [==============================] - 0s 3ms/step - loss: 0.6796 - accuracy: 0.9638 - val_loss: 67.7980 - val_accuracy: 0.6600\n",
      "Epoch 12/100\n",
      "25/25 [==============================] - 0s 3ms/step - loss: 1.0573 - accuracy: 0.9650 - val_loss: 64.9659 - val_accuracy: 0.6500\n",
      "Epoch 13/100\n",
      "25/25 [==============================] - 0s 3ms/step - loss: 0.7139 - accuracy: 0.9737 - val_loss: 65.5506 - val_accuracy: 0.6550\n",
      "Epoch 14/100\n",
      "25/25 [==============================] - 0s 3ms/step - loss: 0.7327 - accuracy: 0.9775 - val_loss: 63.5204 - val_accuracy: 0.6400\n",
      "Epoch 15/100\n",
      "25/25 [==============================] - 0s 3ms/step - loss: 0.7270 - accuracy: 0.9762 - val_loss: 62.4387 - val_accuracy: 0.6500\n",
      "Epoch 16/100\n",
      "25/25 [==============================] - 0s 3ms/step - loss: 0.8098 - accuracy: 0.9787 - val_loss: 64.4833 - val_accuracy: 0.6600\n",
      "Epoch 17/100\n",
      "25/25 [==============================] - 0s 3ms/step - loss: 0.2791 - accuracy: 0.9875 - val_loss: 62.5454 - val_accuracy: 0.6450\n",
      "Epoch 18/100\n",
      "25/25 [==============================] - 0s 3ms/step - loss: 0.3279 - accuracy: 0.9900 - val_loss: 63.9748 - val_accuracy: 0.6700\n",
      "\n",
      "Weighted F1 score for validation set with 130 features:  0.6513303107804386\n",
      "Starting simulation for 500 iterations.\n",
      "*** Press ESC key in popup window to stop the simulation! ***\n",
      "\n",
      "Track generation: 1105..1383 -> 278-tiles track\n"
     ]
    },
    {
     "name": "stderr",
     "output_type": "stream",
     "text": [
      "C:\\Users\\gioel\\anaconda3\\envs\\tf2\\lib\\site-packages\\gym\\logger.py:30: UserWarning: \u001b[33mWARN: Box bound precision lowered by casting to float32\u001b[0m\n",
      "  warnings.warn(colorize('%s: %s'%('WARN', msg % args), 'yellow'))\n"
     ]
    },
    {
     "name": "stdout",
     "output_type": "stream",
     "text": [
      "total reward after 34 iterations: 14.650541516245498\n",
      "average reward: 0.43089827988957347\n"
     ]
    }
   ],
   "source": [
    "obs_reduced = feat_extract_2(obs_fs)\n",
    "shuffled_obs, shuffled_act = shuffle(obs_reduced, actions_reduced, random_state=0)\n",
    "X_train_gen = shuffled_obs[planet_ids_reduced < 2]\n",
    "y_train_gen = shuffled_act[planet_ids_reduced < 2]\n",
    "X_val_gen = shuffled_obs[planet_ids_reduced == 2]\n",
    "y_val_gen = shuffled_act[planet_ids_reduced == 2]\n",
    "model_tuned.fit(X_train_gen, y_train_gen, epochs=100, validation_split=0.2, callbacks=[checkpoint_cb, early_stopping_cb]);\n",
    "val_pred = np.argmax(model_tuned.predict(X_val_gen), axis=1)\n",
    "f1_weighted_val_gen = f1_score(y_val_gen, val_pred, average='weighted')\n",
    "print(\"\\nWeighted F1 score for validation set with 130 features: \", f1_weighted_val_gen)\n",
    "\n",
    "rs = run_simulation(f_3_tuned, render=1, planet_id=1, track_id=1)"
   ]
  },
  {
   "cell_type": "code",
   "execution_count": 67,
   "id": "c254af6f",
   "metadata": {
    "scrolled": true
   },
   "outputs": [
    {
     "name": "stdout",
     "output_type": "stream",
     "text": [
      "Model: \"sequential_2\"\n",
      "_________________________________________________________________\n",
      "Layer (type)                 Output Shape              Param #   \n",
      "=================================================================\n",
      "dense_4 (Dense)              (None, 105)               8505      \n",
      "_________________________________________________________________\n",
      "dense_5 (Dense)              (None, 5)                 530       \n",
      "=================================================================\n",
      "Total params: 9,035\n",
      "Trainable params: 9,035\n",
      "Non-trainable params: 0\n",
      "_________________________________________________________________\n",
      "Epoch 1/100\n",
      "25/25 [==============================] - 1s 13ms/step - loss: 496.1854 - accuracy: 0.2188 - val_loss: 157.5334 - val_accuracy: 0.4900\n",
      "Epoch 2/100\n",
      "25/25 [==============================] - 0s 3ms/step - loss: 125.6907 - accuracy: 0.5749 - val_loss: 94.4527 - val_accuracy: 0.5800\n",
      "Epoch 3/100\n",
      "25/25 [==============================] - 0s 3ms/step - loss: 68.9218 - accuracy: 0.6262 - val_loss: 74.2778 - val_accuracy: 0.6450\n",
      "Epoch 4/100\n",
      "25/25 [==============================] - 0s 3ms/step - loss: 46.7337 - accuracy: 0.6838 - val_loss: 66.8898 - val_accuracy: 0.6550\n",
      "Epoch 5/100\n",
      "25/25 [==============================] - 0s 3ms/step - loss: 23.2878 - accuracy: 0.7416 - val_loss: 68.2376 - val_accuracy: 0.6600\n",
      "Epoch 6/100\n",
      "25/25 [==============================] - 0s 3ms/step - loss: 22.3836 - accuracy: 0.7370 - val_loss: 66.2711 - val_accuracy: 0.6350\n",
      "Epoch 7/100\n",
      "25/25 [==============================] - 0s 3ms/step - loss: 16.6491 - accuracy: 0.7792 - val_loss: 61.2340 - val_accuracy: 0.6350\n",
      "Epoch 8/100\n",
      "25/25 [==============================] - 0s 3ms/step - loss: 14.8331 - accuracy: 0.7899 - val_loss: 60.4415 - val_accuracy: 0.5900\n",
      "Epoch 9/100\n",
      "25/25 [==============================] - 0s 3ms/step - loss: 9.8688 - accuracy: 0.8144 - val_loss: 59.7383 - val_accuracy: 0.6350\n",
      "Epoch 10/100\n",
      "25/25 [==============================] - 0s 3ms/step - loss: 7.6496 - accuracy: 0.8206 - val_loss: 56.8265 - val_accuracy: 0.6100\n",
      "Epoch 11/100\n",
      "25/25 [==============================] - 0s 3ms/step - loss: 6.6208 - accuracy: 0.8581 - val_loss: 57.7359 - val_accuracy: 0.6150\n",
      "Epoch 12/100\n",
      "25/25 [==============================] - 0s 3ms/step - loss: 4.6968 - accuracy: 0.8888 - val_loss: 55.2092 - val_accuracy: 0.6450\n",
      "Epoch 13/100\n",
      "25/25 [==============================] - 0s 3ms/step - loss: 5.6136 - accuracy: 0.8522 - val_loss: 53.6572 - val_accuracy: 0.6300\n",
      "Epoch 14/100\n",
      "25/25 [==============================] - 0s 3ms/step - loss: 3.5333 - accuracy: 0.8784 - val_loss: 54.9974 - val_accuracy: 0.6250\n",
      "Epoch 15/100\n",
      "25/25 [==============================] - 0s 3ms/step - loss: 3.5233 - accuracy: 0.8925 - val_loss: 55.3222 - val_accuracy: 0.6700\n",
      "Epoch 16/100\n",
      "25/25 [==============================] - 0s 3ms/step - loss: 2.3725 - accuracy: 0.9117 - val_loss: 57.5744 - val_accuracy: 0.6350\n",
      "Epoch 17/100\n",
      "25/25 [==============================] - 0s 3ms/step - loss: 4.0244 - accuracy: 0.9056 - val_loss: 58.5363 - val_accuracy: 0.6100\n",
      "Epoch 18/100\n",
      "25/25 [==============================] - 0s 3ms/step - loss: 3.4288 - accuracy: 0.9174 - val_loss: 53.5581 - val_accuracy: 0.6350\n",
      "Epoch 19/100\n",
      "25/25 [==============================] - 0s 3ms/step - loss: 2.8095 - accuracy: 0.8997 - val_loss: 53.0986 - val_accuracy: 0.6200\n",
      "Epoch 20/100\n",
      "25/25 [==============================] - 0s 3ms/step - loss: 2.9074 - accuracy: 0.9042 - val_loss: 54.8883 - val_accuracy: 0.6150\n",
      "Epoch 21/100\n",
      "25/25 [==============================] - 0s 3ms/step - loss: 2.6209 - accuracy: 0.9153 - val_loss: 53.7143 - val_accuracy: 0.6300\n",
      "Epoch 22/100\n",
      "25/25 [==============================] - 0s 3ms/step - loss: 1.9683 - accuracy: 0.9298 - val_loss: 53.5960 - val_accuracy: 0.6200\n",
      "Epoch 23/100\n",
      "25/25 [==============================] - 0s 3ms/step - loss: 2.2678 - accuracy: 0.9197 - val_loss: 52.4745 - val_accuracy: 0.6400\n",
      "Epoch 24/100\n",
      "25/25 [==============================] - 0s 3ms/step - loss: 2.5103 - accuracy: 0.9343 - val_loss: 54.0316 - val_accuracy: 0.6450\n",
      "Epoch 25/100\n",
      "25/25 [==============================] - 0s 3ms/step - loss: 1.5609 - accuracy: 0.9358 - val_loss: 54.0575 - val_accuracy: 0.6400\n",
      "Epoch 26/100\n",
      "25/25 [==============================] - 0s 3ms/step - loss: 3.1318 - accuracy: 0.9136 - val_loss: 52.7518 - val_accuracy: 0.6100\n",
      "Epoch 27/100\n",
      "25/25 [==============================] - 0s 3ms/step - loss: 1.3772 - accuracy: 0.9589 - val_loss: 54.7338 - val_accuracy: 0.6450\n",
      "Epoch 28/100\n",
      "25/25 [==============================] - 0s 3ms/step - loss: 1.5754 - accuracy: 0.9527 - val_loss: 56.1180 - val_accuracy: 0.6450\n",
      "Epoch 29/100\n",
      "25/25 [==============================] - 0s 3ms/step - loss: 1.9370 - accuracy: 0.9279 - val_loss: 52.2169 - val_accuracy: 0.6550\n",
      "Epoch 30/100\n",
      "25/25 [==============================] - 0s 3ms/step - loss: 1.3208 - accuracy: 0.9411 - val_loss: 53.9884 - val_accuracy: 0.6350\n",
      "Epoch 31/100\n",
      "25/25 [==============================] - 0s 3ms/step - loss: 1.7834 - accuracy: 0.9409 - val_loss: 57.5964 - val_accuracy: 0.6150\n",
      "Epoch 32/100\n",
      "25/25 [==============================] - 0s 3ms/step - loss: 1.6391 - accuracy: 0.9557 - val_loss: 52.6969 - val_accuracy: 0.6150\n",
      "Epoch 33/100\n",
      "25/25 [==============================] - 0s 3ms/step - loss: 0.9732 - accuracy: 0.9626 - val_loss: 60.7127 - val_accuracy: 0.6150\n",
      "Epoch 34/100\n",
      "25/25 [==============================] - 0s 3ms/step - loss: 5.4505 - accuracy: 0.9239 - val_loss: 55.5430 - val_accuracy: 0.6350\n",
      "Epoch 35/100\n",
      "25/25 [==============================] - 0s 3ms/step - loss: 2.4563 - accuracy: 0.9434 - val_loss: 55.0251 - val_accuracy: 0.6300\n",
      "Epoch 36/100\n",
      "25/25 [==============================] - 0s 3ms/step - loss: 1.7528 - accuracy: 0.9516 - val_loss: 53.1614 - val_accuracy: 0.6650\n",
      "Epoch 37/100\n",
      "25/25 [==============================] - 0s 3ms/step - loss: 0.6159 - accuracy: 0.9736 - val_loss: 53.5045 - val_accuracy: 0.6400\n",
      "Epoch 38/100\n",
      "25/25 [==============================] - 0s 3ms/step - loss: 0.4002 - accuracy: 0.9702 - val_loss: 52.2441 - val_accuracy: 0.6350\n",
      "Epoch 39/100\n",
      "25/25 [==============================] - 0s 3ms/step - loss: 1.0742 - accuracy: 0.9750 - val_loss: 53.6714 - val_accuracy: 0.6450\n",
      "\n",
      "Weighted F1 score for validation set with 100 features:  0.6086369281967356\n",
      "Starting simulation for 500 iterations.\n",
      "*** Press ESC key in popup window to stop the simulation! ***\n",
      "\n",
      "Track generation: 1105..1383 -> 278-tiles track\n"
     ]
    },
    {
     "name": "stderr",
     "output_type": "stream",
     "text": [
      "C:\\Users\\gioel\\anaconda3\\envs\\tf2\\lib\\site-packages\\gym\\logger.py:30: UserWarning: \u001b[33mWARN: Box bound precision lowered by casting to float32\u001b[0m\n",
      "  warnings.warn(colorize('%s: %s'%('WARN', msg % args), 'yellow'))\n"
     ]
    },
    {
     "name": "stdout",
     "output_type": "stream",
     "text": [
      "total reward after 9 iterations: 6.320216606498198\n",
      "average reward: 0.7022462896109108\n"
     ]
    }
   ],
   "source": [
    "model_tuned_80 = keras.models.Sequential()\n",
    "model_tuned_80.add(keras.layers.Input([80]))\n",
    "model_tuned_80.add(keras.layers.Dense(105, activation=\"relu\"))\n",
    "model_tuned_80.add(keras.layers.Dense(5, activation=\"softmax\"))\n",
    "model_tuned_80.summary()\n",
    "model_tuned_80.compile(loss=\"sparse_categorical_crossentropy\", optimizer=\"adam\", metrics=[\"accuracy\"])\n",
    "# Implementing early stopping\n",
    "checkpoint_cb = keras.callbacks.ModelCheckpoint(\"my_keras_model.h5\", save_best_only=True)\n",
    "early_stopping_cb = keras.callbacks.EarlyStopping(patience=10, restore_best_weights=True)\n",
    "\n",
    "obs_reduced = feat_extract_3(obs_fs)\n",
    "shuffled_obs, shuffled_act = shuffle(obs_reduced, actions_reduced, random_state=0)\n",
    "X_train_gen = shuffled_obs[planet_ids_reduced < 2]\n",
    "y_train_gen = shuffled_act[planet_ids_reduced < 2]\n",
    "X_val_gen = shuffled_obs[planet_ids_reduced == 2]\n",
    "y_val_gen = shuffled_act[planet_ids_reduced == 2]\n",
    "model_tuned_80.fit(X_train_gen, y_train_gen, epochs=100, validation_split=0.2, callbacks=[checkpoint_cb, early_stopping_cb]);\n",
    "val_pred = np.argmax(model_tuned_80.predict(X_val_gen), axis=1)\n",
    "f1_weighted_val_gen = f1_score(y_val_gen, val_pred, average='weighted')\n",
    "print(\"\\nWeighted F1 score for validation set with 100 features: \", f1_weighted_val_gen)\n",
    "\n",
    "pca_80 = PCA(n_components = 80)\n",
    "pca_80.fit(obs_fs)\n",
    "def f_3_tuned_80 (observation):\n",
    "    obs_fs1 = np.ndarray.flatten(observation)\n",
    "    obs_fs = obs_fs1.reshape(1, -1)\n",
    "    obs_reduced = pca_80.transform(obs_fs)\n",
    "    action = np.argmax(model_tuned_80.predict(obs_reduced), axis=1)\n",
    "    return action[0]\n",
    "rs = run_simulation(f_3_tuned_80, render=1, planet_id=1, track_id=1)"
   ]
  },
  {
   "cell_type": "markdown",
   "id": "e7d6fdc9",
   "metadata": {},
   "source": [
    "Even though from the F1 score we do not see many improvements, by running the simulation we notice how the performance appears to be overall slightly better. Moreover, we now have slightly better performances together with a reduced amount of features that should additionally decrease the computation time."
   ]
  },
  {
   "cell_type": "markdown",
   "id": "0edb0d7d",
   "metadata": {},
   "source": [
    "## 4.6 Final evaluation of the classifier"
   ]
  },
  {
   "cell_type": "markdown",
   "id": "42bcd3e1",
   "metadata": {},
   "source": [
    "Now we can finally do the final evaluation of the classifier by both training and testing on all of the three planets.\n",
    "\n",
    "First we recreate a train and test set."
   ]
  },
  {
   "cell_type": "code",
   "execution_count": 68,
   "id": "97c6201f",
   "metadata": {},
   "outputs": [
    {
     "name": "stdout",
     "output_type": "stream",
     "text": [
      "Epoch 1/100\n",
      "25/25 [==============================] - 0s 5ms/step - loss: 1.2645 - accuracy: 0.9538 - val_loss: 54.7140 - val_accuracy: 0.6150\n",
      "Epoch 2/100\n",
      "25/25 [==============================] - 0s 3ms/step - loss: 1.5088 - accuracy: 0.9438 - val_loss: 54.5632 - val_accuracy: 0.6550\n",
      "Epoch 3/100\n",
      "25/25 [==============================] - 0s 3ms/step - loss: 4.6744 - accuracy: 0.9100 - val_loss: 55.6172 - val_accuracy: 0.6300\n",
      "Epoch 4/100\n",
      "25/25 [==============================] - 0s 3ms/step - loss: 2.6841 - accuracy: 0.9312 - val_loss: 51.2879 - val_accuracy: 0.6450\n",
      "Epoch 5/100\n",
      "25/25 [==============================] - 0s 3ms/step - loss: 1.4929 - accuracy: 0.9538 - val_loss: 51.5436 - val_accuracy: 0.6200\n",
      "Epoch 6/100\n",
      "25/25 [==============================] - 0s 3ms/step - loss: 1.3721 - accuracy: 0.9525 - val_loss: 51.8761 - val_accuracy: 0.6350\n",
      "Epoch 7/100\n",
      "25/25 [==============================] - 0s 3ms/step - loss: 2.0490 - accuracy: 0.9300 - val_loss: 56.4378 - val_accuracy: 0.6150\n",
      "Epoch 8/100\n",
      "25/25 [==============================] - 0s 3ms/step - loss: 1.4409 - accuracy: 0.9400 - val_loss: 54.9422 - val_accuracy: 0.6400\n",
      "Epoch 9/100\n",
      "25/25 [==============================] - 0s 3ms/step - loss: 0.9118 - accuracy: 0.9625 - val_loss: 51.6713 - val_accuracy: 0.6400\n",
      "Epoch 10/100\n",
      "25/25 [==============================] - 0s 3ms/step - loss: 0.7732 - accuracy: 0.9638 - val_loss: 53.6818 - val_accuracy: 0.6450\n",
      "Epoch 11/100\n",
      "25/25 [==============================] - 0s 3ms/step - loss: 1.0330 - accuracy: 0.9625 - val_loss: 57.5880 - val_accuracy: 0.6300\n",
      "Epoch 12/100\n",
      "25/25 [==============================] - 0s 3ms/step - loss: 1.0380 - accuracy: 0.9650 - val_loss: 52.1267 - val_accuracy: 0.6300\n",
      "Epoch 13/100\n",
      "25/25 [==============================] - 0s 3ms/step - loss: 0.5985 - accuracy: 0.9688 - val_loss: 48.6221 - val_accuracy: 0.6700\n",
      "Epoch 14/100\n",
      "25/25 [==============================] - 0s 3ms/step - loss: 1.0724 - accuracy: 0.9613 - val_loss: 51.0898 - val_accuracy: 0.6650\n",
      "Epoch 15/100\n",
      "25/25 [==============================] - 0s 3ms/step - loss: 1.3112 - accuracy: 0.9450 - val_loss: 52.0236 - val_accuracy: 0.6550\n",
      "Epoch 16/100\n",
      "25/25 [==============================] - 0s 3ms/step - loss: 2.1393 - accuracy: 0.9275 - val_loss: 55.7639 - val_accuracy: 0.6100\n",
      "Epoch 17/100\n",
      "25/25 [==============================] - 0s 3ms/step - loss: 1.5607 - accuracy: 0.9488 - val_loss: 53.6880 - val_accuracy: 0.6300\n",
      "Epoch 18/100\n",
      "25/25 [==============================] - 0s 3ms/step - loss: 1.4194 - accuracy: 0.9413 - val_loss: 58.5446 - val_accuracy: 0.6450\n",
      "Epoch 19/100\n",
      "25/25 [==============================] - 0s 3ms/step - loss: 1.6561 - accuracy: 0.9488 - val_loss: 54.0892 - val_accuracy: 0.6250\n",
      "Epoch 20/100\n",
      "25/25 [==============================] - 0s 3ms/step - loss: 0.8809 - accuracy: 0.9625 - val_loss: 51.4265 - val_accuracy: 0.6200\n",
      "Epoch 21/100\n",
      "25/25 [==============================] - 0s 3ms/step - loss: 1.2664 - accuracy: 0.9625 - val_loss: 55.9830 - val_accuracy: 0.6300\n",
      "Epoch 22/100\n",
      "25/25 [==============================] - 0s 3ms/step - loss: 1.6485 - accuracy: 0.9563 - val_loss: 54.5986 - val_accuracy: 0.6350\n",
      "Epoch 23/100\n",
      "25/25 [==============================] - 0s 3ms/step - loss: 0.6614 - accuracy: 0.9663 - val_loss: 53.0600 - val_accuracy: 0.6400\n",
      "\n",
      "Generalized accuracy for validation set:  0.615\n",
      "\n",
      "Generalized confusion matrix for validation set: \n",
      " [[67 14  4 11]\n",
      " [24  9  0  2]\n",
      " [11  3 24  0]\n",
      " [ 7  1  0 23]]\n",
      "\n",
      "Generalized F1 score per label for validation set:  [0.65365854 0.29032258 0.72727273 0.68656716]\n",
      "\n",
      "Generalized weighted F1 score for validation set:  0.6091622778034582\n"
     ]
    }
   ],
   "source": [
    "obs_fs_list = []\n",
    "for i in range(observations.shape[0]):\n",
    "    fs = np.ndarray.flatten(observations[i])\n",
    "    obs_fs_list.append(fs)\n",
    "obs_fs = np.array(obs_fs_list)\n",
    "    \n",
    "obs_reduced = feat_extract_3(obs_fs)\n",
    "\n",
    "shuffled_obs, shuffled_act = shuffle(obs_reduced, actions, random_state=0)\n",
    "\n",
    "X_train, X_test, y_train, y_test = train_test_split(shuffled_obs, shuffled_act, test_size=0.20, random_state=0)\n",
    "\n",
    "model_tuned_80.fit(X_train_gen, y_train_gen, epochs=100, validation_split=0.2, callbacks=[checkpoint_cb, early_stopping_cb]);\n",
    "val_pred = np.argmax(model_tuned_80.predict(X_val_gen), axis=1)\n",
    "\n",
    "acc_val_gen = accuracy_score(y_val_gen, val_pred)\n",
    "print(\"\\nGeneralized accuracy for validation set: \", acc_val_gen)\n",
    "cm_val_gen = confusion_matrix(y_val_gen, val_pred)\n",
    "print(\"\\nGeneralized confusion matrix for validation set: \\n\", cm_val_gen)\n",
    "f1_individual_val_gen = f1_score(y_val_gen, val_pred, average=None)\n",
    "print(\"\\nGeneralized F1 score per label for validation set: \", f1_individual_val_gen)\n",
    "f1_weighted_val_gen = f1_score(y_val_gen, val_pred, average='weighted')\n",
    "print(\"\\nGeneralized weighted F1 score for validation set: \", f1_weighted_val_gen)"
   ]
  },
  {
   "cell_type": "code",
   "execution_count": 69,
   "id": "f0a9f829",
   "metadata": {},
   "outputs": [
    {
     "name": "stdout",
     "output_type": "stream",
     "text": [
      "Starting simulation for 500 iterations.\n",
      "*** Press ESC key in popup window to stop the simulation! ***\n",
      "\n",
      "Track generation: 1383..1731 -> 348-tiles track\n"
     ]
    },
    {
     "name": "stderr",
     "output_type": "stream",
     "text": [
      "C:\\Users\\gioel\\anaconda3\\envs\\tf2\\lib\\site-packages\\gym\\logger.py:30: UserWarning: \u001b[33mWARN: Box bound precision lowered by casting to float32\u001b[0m\n",
      "  warnings.warn(colorize('%s: %s'%('WARN', msg % args), 'yellow'))\n"
     ]
    },
    {
     "name": "stdout",
     "output_type": "stream",
     "text": [
      "total reward after 98 iterations: 42.07319884726219\n",
      "average reward: 0.4293183555843081\n"
     ]
    }
   ],
   "source": [
    "rs = run_simulation(f_3_tuned_80, render=1, planet_id=0, track_id=0)"
   ]
  },
  {
   "cell_type": "code",
   "execution_count": 70,
   "id": "932717ae",
   "metadata": {},
   "outputs": [
    {
     "name": "stdout",
     "output_type": "stream",
     "text": [
      "Starting simulation for 500 iterations.\n",
      "*** Press ESC key in popup window to stop the simulation! ***\n",
      "\n",
      "Track generation: 1156..1463 -> 307-tiles track\n"
     ]
    },
    {
     "name": "stderr",
     "output_type": "stream",
     "text": [
      "C:\\Users\\gioel\\anaconda3\\envs\\tf2\\lib\\site-packages\\gym\\logger.py:30: UserWarning: \u001b[33mWARN: Box bound precision lowered by casting to float32\u001b[0m\n",
      "  warnings.warn(colorize('%s: %s'%('WARN', msg % args), 'yellow'))\n"
     ]
    },
    {
     "name": "stdout",
     "output_type": "stream",
     "text": [
      "total reward after 11 iterations: 8.703921568627456\n",
      "average reward: 0.7912655971479505\n"
     ]
    }
   ],
   "source": [
    "rs = run_simulation(f_3_tuned_80, render=1, planet_id=1, track_id=0)"
   ]
  },
  {
   "cell_type": "code",
   "execution_count": 71,
   "id": "2de2e7df",
   "metadata": {},
   "outputs": [
    {
     "name": "stdout",
     "output_type": "stream",
     "text": [
      "Starting simulation for 500 iterations.\n",
      "*** Press ESC key in popup window to stop the simulation! ***\n",
      "\n",
      "Track generation: 1262..1568 -> 306-tiles track\n"
     ]
    },
    {
     "name": "stderr",
     "output_type": "stream",
     "text": [
      "C:\\Users\\gioel\\anaconda3\\envs\\tf2\\lib\\site-packages\\gym\\logger.py:30: UserWarning: \u001b[33mWARN: Box bound precision lowered by casting to float32\u001b[0m\n",
      "  warnings.warn(colorize('%s: %s'%('WARN', msg % args), 'yellow'))\n"
     ]
    },
    {
     "name": "stdout",
     "output_type": "stream",
     "text": [
      "total reward after 8 iterations: 5.757377049180331\n",
      "average reward: 0.7196721311475414\n"
     ]
    }
   ],
   "source": [
    "rs = run_simulation(f_3_tuned_80, render=1, planet_id=2, track_id=0)"
   ]
  },
  {
   "cell_type": "markdown",
   "id": "353041c9",
   "metadata": {},
   "source": [
    "We can see how once again the F1 score is not great, but when we compare the simulation performance with the previous ones an improvement can be clealy seen: now the algorithm performs fairly well on all of the three planets."
   ]
  },
  {
   "cell_type": "markdown",
   "id": "a4acc4dc",
   "metadata": {},
   "source": [
    "## 4.7 Race on Neptune\n",
    "Now we are finally ready for the final race on Neptune. We now just run the simulation on the fourth planet."
   ]
  },
  {
   "cell_type": "code",
   "execution_count": 72,
   "id": "41cb8714",
   "metadata": {},
   "outputs": [
    {
     "name": "stdout",
     "output_type": "stream",
     "text": [
      "Starting simulation for 500 iterations.\n",
      "*** Press ESC key in popup window to stop the simulation! ***\n",
      "\n",
      "Track generation: 1376..1698 -> 322-tiles track\n",
      "retry to generate track (normal if there are not many of this messages)\n",
      "Track generation: 1037..1302 -> 265-tiles track\n"
     ]
    },
    {
     "name": "stderr",
     "output_type": "stream",
     "text": [
      "C:\\Users\\gioel\\anaconda3\\envs\\tf2\\lib\\site-packages\\gym\\logger.py:30: UserWarning: \u001b[33mWARN: Box bound precision lowered by casting to float32\u001b[0m\n",
      "  warnings.warn(colorize('%s: %s'%('WARN', msg % args), 'yellow'))\n"
     ]
    },
    {
     "name": "stdout",
     "output_type": "stream",
     "text": [
      "total reward after 6 iterations: 6.975757575757578\n",
      "average reward: 1.1626262626262631\n"
     ]
    }
   ],
   "source": [
    "rs = run_simulation(f_3_tuned_80, render=1, planet_id=3, track_id=0)"
   ]
  },
  {
   "cell_type": "markdown",
   "id": "2a6dc27d",
   "metadata": {},
   "source": [
    "Unfortunately, the simulation does not show the expected results, even though it generalized pretty well when we tried the validation on Saturn.\n",
    "\n",
    "The reason is probably that the color of Saturn (brownish) was closer to the color of Earth. Neptune's color is instead much more different than the others and this may be the reason why the classifier performs so badly on those tracks."
   ]
  },
  {
   "cell_type": "markdown",
   "id": "a0c482e8",
   "metadata": {},
   "source": [
    "### 4.7.1 Possible different approach\n",
    "In order to try and solve the problem of Neptune, but ideally also of other planets, we thought of a possible different approach.\n",
    "\n",
    "Since it would be realistically easier to gather data on Earth rather than other planets, a possible approach would be only training on Earth data and then converting all the input images from other planets to Earth's color. In fact, in this simulation, the only difference among planets was the color of the background, while instead the color and shape of the road were always the same. For this reason, it would be possible, using a fairly simple algorithm, to filter the color of the road (imposing a range that includes its RGB values) and convert all the other colors to green. In this way, the data fed to the predict function of the classifier would always be similar to the data it was trained with.\n",
    "\n",
    "Unfortunately, implementing this technique would have deviated from this assignment's purpose and now we don't really have time to implement it, but we wanted to share this idea we had."
   ]
  },
  {
   "cell_type": "markdown",
   "id": "df83d6a6",
   "metadata": {},
   "source": [
    "## 4.8 Saving the parameters\n",
    "We can now save the parameters of our final best model in a directory called 'best_model'."
   ]
  },
  {
   "cell_type": "markdown",
   "id": "bead4297",
   "metadata": {},
   "source": [
    "model_tuned_80.save('best_model')"
   ]
  },
  {
   "cell_type": "markdown",
   "id": "b52b5093",
   "metadata": {},
   "source": [
    "---\n",
    "\n",
    "# 5. Present Your Solution (5 points)\n",
    "1. Summarize your main decisions and insights\n",
    "2. Create a stand-alone demo. I.e., a block of cells that can be run on its own. For that you will need to load your pre-trained best model you saved in the previous section and run it on a Neptune track.\n"
   ]
  },
  {
   "cell_type": "markdown",
   "id": "3bb080e4",
   "metadata": {},
   "source": [
    "## 5.1 Summary\n",
    "To tackle the problem of making our car race on Neptune we adopted several steps.\n",
    "\n",
    "First of all, we visualized the data, trying to analyze several features and characteristics such as the dataset being skewed both towards planets and actions. We also the samples are not initially i.i.d and that human collected data have some limitations.\n",
    "\n",
    "Then we tried clustering the data in order to divide them according to the planet they belonged to. We obtained excellent results using a simple K-Means algorithm. Then we implemented our first feature extractor method using a PCA that greatly reduced the initially huge amount of features by preserving 90% of the variance.\n",
    "\n",
    "Then, we needed to compare two algorithms. The choice we made was a Random Forest Classifier and an MLP built with a Sequential API. First, we considered the advantages and disadvantages of both classifiers, then we initialized them with random values and made a quick evaluation on the test set. Since the Random Forest slightly outperformed the neural network in terms of the F1 score, we proceeded with that one. Then we discussed the possible parameters to be tuned and tried three different approaches. The one resulting with best performances was the case that involved modifying the hyperparameters related to the Decision Tree structure. All these considerations were made based on the F1 score. However, when we tried to run the simulation using the Random Forest Classifier, the performances were really poor if compared to the untuned MLP. Therefore we changed our mind and opted for the neural network. We then applied a brief hyperparameter tuning in order to obtain a regularization with early stopping and slightly better performances for the F1 score.\n",
    "\n",
    "After that, we approached the generalization problem by first training the classifier on the whole Earth dataset and validating it on the Mars and Saturn datasets. As expected the results were poor. Then we tried a slightly different procedure for the feature extraction by turning the images from RGB to grayscale in order to unify the colors. Unfortunately, this procedure did not produce good results and was therefore abandoned. After that, we compared the results from training the classifier only on Earth to training it both on Earth and Mars. This second attempt yielded much better results in terms of simulation performance when trying to run on Saturn. Then we thought of two possible improvements that could be applied to our solution in order to improve the overall performance: getting more data from Mars and Saturn and reducing the number of features. We applied the latter that, even if counter-intuitively, slightly improved the performance since it would probably give less importance to the colors of the images. Then we ran a final evaluation using data from all three planets both as train and test sets and got pretty good performances on all the planets. Finally, we ran the final simulation on Neptune, where unfortunately our algorithm did not perform particularly well. As the last point, we suggested a possible different approach to face this problem."
   ]
  },
  {
   "cell_type": "markdown",
   "id": "3034268a",
   "metadata": {},
   "source": [
    "## 5.2 Stand-alone demo\n",
    "This is the stand-alone demo that can be run aftur running section 0."
   ]
  },
  {
   "cell_type": "code",
   "execution_count": 73,
   "id": "7dc40cea",
   "metadata": {},
   "outputs": [
    {
     "name": "stdout",
     "output_type": "stream",
     "text": [
      "Starting simulation for 500 iterations.\n",
      "*** Press ESC key in popup window to stop the simulation! ***\n",
      "\n",
      "Track generation: 1262..1568 -> 306-tiles track\n"
     ]
    },
    {
     "name": "stderr",
     "output_type": "stream",
     "text": [
      "C:\\Users\\gioel\\anaconda3\\envs\\tf2\\lib\\site-packages\\gym\\logger.py:30: UserWarning: \u001b[33mWARN: Box bound precision lowered by casting to float32\u001b[0m\n",
      "  warnings.warn(colorize('%s: %s'%('WARN', msg % args), 'yellow'))\n"
     ]
    },
    {
     "name": "stdout",
     "output_type": "stream",
     "text": [
      "total reward after 16 iterations: 8.236065573770498\n",
      "average reward: 0.5147540983606561\n"
     ]
    }
   ],
   "source": [
    "from sklearn.decomposition import PCA\n",
    "import tensorflow as tf\n",
    "from tensorflow import keras\n",
    "\n",
    "# Code to flatten and then train the PCA algorithm used to reduce dimensionality of the data\n",
    "obs_fs_list = []\n",
    "for i in range(observations.shape[0]):\n",
    "    fs = np.ndarray.flatten(observations[i])\n",
    "    obs_fs_list.append(fs)\n",
    "pca_80 = PCA(n_components = 80)\n",
    "pca_80.fit(obs_fs)\n",
    "\n",
    "# Import the best model\n",
    "model_upload = keras.models.load_model('best_model')\n",
    "\n",
    "# Define the policy for the simulation\n",
    "def f_3_tuned_80 (observation):\n",
    "    obs_fs1 = np.ndarray.flatten(observation)\n",
    "    obs_fs = obs_fs1.reshape(1, -1)\n",
    "    obs_reduced = pca_80.transform(obs_fs)\n",
    "    action = np.argmax(model_upload.predict(obs_reduced), axis=1)\n",
    "    return action[0]\n",
    "\n",
    "rs = run_simulation(f_3_tuned_80, render=1, planet_id=2, track_id=0)"
   ]
  },
  {
   "cell_type": "markdown",
   "id": "8a291189",
   "metadata": {},
   "source": [
    "For some reason this final demo is not showing the same results as the simulations above. We tried fixing this problem, but we were not able to. Sorry for the inconvenience."
   ]
  },
  {
   "cell_type": "code",
   "execution_count": null,
   "id": "d1b2ca3f",
   "metadata": {},
   "outputs": [],
   "source": []
  }
 ],
 "metadata": {
  "kernelspec": {
   "display_name": "Python 3",
   "language": "python",
   "name": "python3"
  },
  "language_info": {
   "codemirror_mode": {
    "name": "ipython",
    "version": 3
   },
   "file_extension": ".py",
   "mimetype": "text/x-python",
   "name": "python",
   "nbconvert_exporter": "python",
   "pygments_lexer": "ipython3",
   "version": "3.7.10"
  }
 },
 "nbformat": 4,
 "nbformat_minor": 5
}
